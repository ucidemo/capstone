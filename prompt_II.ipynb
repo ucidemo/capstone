{
 "cells": [
  {
   "cell_type": "markdown",
   "metadata": {},
   "source": [
    "# What drives the price of a car?\n",
    "\n",
    "![](images/kurt.jpeg)"
   ]
  },
  {
   "cell_type": "markdown",
   "metadata": {},
   "source": [
    "**OVERVIEW**\n",
    "\n",
    "In this application, you will explore a dataset from kaggle. The original dataset contained information on 3 million used cars. The provided dataset contains information on 426K cars to ensure speed of processing.  Your goal is to understand what factors make a car more or less expensive.  As a result of your analysis, you should provide clear recommendations to your client -- a used car dealership -- as to what consumers value in a used car."
   ]
  },
  {
   "cell_type": "markdown",
   "metadata": {},
   "source": [
    "### CRISP-DM Framework\n",
    "\n",
    "<center>\n",
    "    <img src = images/crisp.png width = 50%/>\n",
    "</center>\n",
    "\n",
    "\n",
    "To frame the task, throughout our practical applications we will refer back to a standard process in industry for data projects called CRISP-DM.  This process provides a framework for working through a data problem.  Your first step in this application will be to read through a brief overview of CRISP-DM [here](https://mo-pcco.s3.us-east-1.amazonaws.com/BH-PCMLAI/module_11/readings_starter.zip).  After reading the overview, answer the questions below."
   ]
  },
  {
   "cell_type": "markdown",
   "metadata": {},
   "source": [
    "### Business Understanding\n",
    "\n",
    "From a business perspective, we are tasked with identifying key drivers for used car prices.  In the CRISP-DM overview, we are asked to convert this business framing to a data problem definition.  Using a few sentences, reframe the task as a data task with the appropriate technical vocabulary. "
   ]
  },
  {
   "cell_type": "markdown",
   "metadata": {},
   "source": [
    "### The busiess task is to identify which are the factors consumer is interested in buying( attributes makes the price expensive or cheaper) This will help seller to focus on key attributes that consumer is interested in buying a car"
   ]
  },
  {
   "cell_type": "markdown",
   "metadata": {},
   "source": [
    "### Data Understanding\n",
    "\n",
    "After considering the business understanding, we want to get familiar with our data.  Write down some steps that you would take to get to know the dataset and identify any quality issues within.  Take time to get to know the dataset and explore what information it contains and how this could be used to inform your business understanding."
   ]
  },
  {
   "cell_type": "markdown",
   "metadata": {},
   "source": [
    "### Dataset (vehicle.csv) consists of 18 features and 426880 rows.\n",
    "    price - Target Value\n",
    "    year  - vehicle year ( Ranging from 1931 to 2018)\n",
    "    odometer - odometer reading\n",
    "    region - cities or region where car is sold\n",
    "    manufacturer - vehicle manufacurer ( make )\n",
    "    model - model of car \n",
    "    condition - ( new /like new/fair/good/excellent etc)\n",
    "    cylinders - cylinders of car ( ranging from 4 to 12)\n",
    "    fuel  - gas/hybrid/diesel/electric and also noticed other is also present\n",
    "    title_status - whether parts are missing/lien or clean or salvgage etc. we will find out whether this is important\n",
    "                   feature or not that customer is interested\n",
    "    VIN  - vin number - this should not be key attribute determining price. this can be dropped\n",
    "    drive - whether 4 wheel drive etc.\n",
    "    size - full size or compact or mid-size\n",
    "    paint_color - color of car. this could be interesting and important feature that consumer is interested in\n",
    "    state -  vehicle state - price might vary based on vehicle state"
   ]
  },
  {
   "cell_type": "markdown",
   "metadata": {},
   "source": [
    "### Data Preparation\n",
    "\n",
    "After our initial exploration and fine tuning of the business understanding, it is time to construct our final dataset prior to modeling.  Here, we want to make sure to handle any integrity issues and cleaning, the engineering of new features, any transformations that we believe should happen (scaling, logarithms, normalization, etc.), and general preparation for modeling with `sklearn`. "
   ]
  },
  {
   "cell_type": "code",
   "execution_count": 171,
   "metadata": {},
   "outputs": [],
   "source": [
    "%matplotlib inline \n",
    "from sklearn.feature_selection import SequentialFeatureSelector, SelectFromModel,  RFE\n",
    "from sklearn.preprocessing import StandardScaler, PolynomialFeatures, OneHotEncoder, OrdinalEncoder\n",
    "from sklearn.compose import make_column_transformer, make_column_selector, TransformedTargetRegressor\n",
    "from sklearn.model_selection import train_test_split, GridSearchCV, StratifiedKFold, StratifiedShuffleSplit, KFold, cross_val_score\n",
    "from sklearn.linear_model import LinearRegression, Lasso, Ridge\n",
    "from sklearn.metrics import mean_squared_error, accuracy_score\n",
    "from sklearn.inspection import permutation_importance\n",
    "from sklearn.pipeline import Pipeline\n",
    "from sklearn.metrics import r2_score\n",
    "from sklearn import set_config\n",
    "set_config(display=\"diagram\")\n",
    "import pandas as pd\n",
    "import numpy as np\n",
    "import matplotlib.pyplot as plt\n",
    "import seaborn as sns\n",
    "import scipy.stats as stats\n",
    "import csv\n",
    "\n",
    "#Importing and reading CSV file\n",
    "df = pd.read_csv('data/vehicles.csv', encoding='latin-1', index_col=None)\n"
   ]
  },
  {
   "cell_type": "code",
   "execution_count": 172,
   "metadata": {},
   "outputs": [
    {
     "data": {
      "text/html": [
       "<div>\n",
       "<style scoped>\n",
       "    .dataframe tbody tr th:only-of-type {\n",
       "        vertical-align: middle;\n",
       "    }\n",
       "\n",
       "    .dataframe tbody tr th {\n",
       "        vertical-align: top;\n",
       "    }\n",
       "\n",
       "    .dataframe thead th {\n",
       "        text-align: right;\n",
       "    }\n",
       "</style>\n",
       "<table border=\"1\" class=\"dataframe\">\n",
       "  <thead>\n",
       "    <tr style=\"text-align: right;\">\n",
       "      <th></th>\n",
       "      <th>id</th>\n",
       "      <th>region</th>\n",
       "      <th>price</th>\n",
       "      <th>year</th>\n",
       "      <th>manufacturer</th>\n",
       "      <th>model</th>\n",
       "      <th>condition</th>\n",
       "      <th>cylinders</th>\n",
       "      <th>fuel</th>\n",
       "      <th>odometer</th>\n",
       "      <th>title_status</th>\n",
       "      <th>transmission</th>\n",
       "      <th>VIN</th>\n",
       "      <th>drive</th>\n",
       "      <th>size</th>\n",
       "      <th>type</th>\n",
       "      <th>paint_color</th>\n",
       "      <th>state</th>\n",
       "    </tr>\n",
       "  </thead>\n",
       "  <tbody>\n",
       "    <tr>\n",
       "      <th>0</th>\n",
       "      <td>7222695916</td>\n",
       "      <td>prescott</td>\n",
       "      <td>6000</td>\n",
       "      <td>NaN</td>\n",
       "      <td>NaN</td>\n",
       "      <td>NaN</td>\n",
       "      <td>NaN</td>\n",
       "      <td>NaN</td>\n",
       "      <td>NaN</td>\n",
       "      <td>NaN</td>\n",
       "      <td>NaN</td>\n",
       "      <td>NaN</td>\n",
       "      <td>NaN</td>\n",
       "      <td>NaN</td>\n",
       "      <td>NaN</td>\n",
       "      <td>NaN</td>\n",
       "      <td>NaN</td>\n",
       "      <td>az</td>\n",
       "    </tr>\n",
       "    <tr>\n",
       "      <th>1</th>\n",
       "      <td>7218891961</td>\n",
       "      <td>fayetteville</td>\n",
       "      <td>11900</td>\n",
       "      <td>NaN</td>\n",
       "      <td>NaN</td>\n",
       "      <td>NaN</td>\n",
       "      <td>NaN</td>\n",
       "      <td>NaN</td>\n",
       "      <td>NaN</td>\n",
       "      <td>NaN</td>\n",
       "      <td>NaN</td>\n",
       "      <td>NaN</td>\n",
       "      <td>NaN</td>\n",
       "      <td>NaN</td>\n",
       "      <td>NaN</td>\n",
       "      <td>NaN</td>\n",
       "      <td>NaN</td>\n",
       "      <td>ar</td>\n",
       "    </tr>\n",
       "    <tr>\n",
       "      <th>2</th>\n",
       "      <td>7221797935</td>\n",
       "      <td>florida keys</td>\n",
       "      <td>21000</td>\n",
       "      <td>NaN</td>\n",
       "      <td>NaN</td>\n",
       "      <td>NaN</td>\n",
       "      <td>NaN</td>\n",
       "      <td>NaN</td>\n",
       "      <td>NaN</td>\n",
       "      <td>NaN</td>\n",
       "      <td>NaN</td>\n",
       "      <td>NaN</td>\n",
       "      <td>NaN</td>\n",
       "      <td>NaN</td>\n",
       "      <td>NaN</td>\n",
       "      <td>NaN</td>\n",
       "      <td>NaN</td>\n",
       "      <td>fl</td>\n",
       "    </tr>\n",
       "    <tr>\n",
       "      <th>3</th>\n",
       "      <td>7222270760</td>\n",
       "      <td>worcester / central MA</td>\n",
       "      <td>1500</td>\n",
       "      <td>NaN</td>\n",
       "      <td>NaN</td>\n",
       "      <td>NaN</td>\n",
       "      <td>NaN</td>\n",
       "      <td>NaN</td>\n",
       "      <td>NaN</td>\n",
       "      <td>NaN</td>\n",
       "      <td>NaN</td>\n",
       "      <td>NaN</td>\n",
       "      <td>NaN</td>\n",
       "      <td>NaN</td>\n",
       "      <td>NaN</td>\n",
       "      <td>NaN</td>\n",
       "      <td>NaN</td>\n",
       "      <td>ma</td>\n",
       "    </tr>\n",
       "    <tr>\n",
       "      <th>4</th>\n",
       "      <td>7210384030</td>\n",
       "      <td>greensboro</td>\n",
       "      <td>4900</td>\n",
       "      <td>NaN</td>\n",
       "      <td>NaN</td>\n",
       "      <td>NaN</td>\n",
       "      <td>NaN</td>\n",
       "      <td>NaN</td>\n",
       "      <td>NaN</td>\n",
       "      <td>NaN</td>\n",
       "      <td>NaN</td>\n",
       "      <td>NaN</td>\n",
       "      <td>NaN</td>\n",
       "      <td>NaN</td>\n",
       "      <td>NaN</td>\n",
       "      <td>NaN</td>\n",
       "      <td>NaN</td>\n",
       "      <td>nc</td>\n",
       "    </tr>\n",
       "  </tbody>\n",
       "</table>\n",
       "</div>"
      ],
      "text/plain": [
       "           id                  region  price  year manufacturer model  \\\n",
       "0  7222695916                prescott   6000   NaN          NaN   NaN   \n",
       "1  7218891961            fayetteville  11900   NaN          NaN   NaN   \n",
       "2  7221797935            florida keys  21000   NaN          NaN   NaN   \n",
       "3  7222270760  worcester / central MA   1500   NaN          NaN   NaN   \n",
       "4  7210384030              greensboro   4900   NaN          NaN   NaN   \n",
       "\n",
       "  condition cylinders fuel  odometer title_status transmission  VIN drive  \\\n",
       "0       NaN       NaN  NaN       NaN          NaN          NaN  NaN   NaN   \n",
       "1       NaN       NaN  NaN       NaN          NaN          NaN  NaN   NaN   \n",
       "2       NaN       NaN  NaN       NaN          NaN          NaN  NaN   NaN   \n",
       "3       NaN       NaN  NaN       NaN          NaN          NaN  NaN   NaN   \n",
       "4       NaN       NaN  NaN       NaN          NaN          NaN  NaN   NaN   \n",
       "\n",
       "  size type paint_color state  \n",
       "0  NaN  NaN         NaN    az  \n",
       "1  NaN  NaN         NaN    ar  \n",
       "2  NaN  NaN         NaN    fl  \n",
       "3  NaN  NaN         NaN    ma  \n",
       "4  NaN  NaN         NaN    nc  "
      ]
     },
     "execution_count": 172,
     "metadata": {},
     "output_type": "execute_result"
    }
   ],
   "source": [
    "df.head()"
   ]
  },
  {
   "cell_type": "code",
   "execution_count": 173,
   "metadata": {},
   "outputs": [
    {
     "name": "stdout",
     "output_type": "stream",
     "text": [
      "<class 'pandas.core.frame.DataFrame'>\n",
      "RangeIndex: 426880 entries, 0 to 426879\n",
      "Data columns (total 18 columns):\n",
      " #   Column        Non-Null Count   Dtype  \n",
      "---  ------        --------------   -----  \n",
      " 0   id            426880 non-null  int64  \n",
      " 1   region        426880 non-null  object \n",
      " 2   price         426880 non-null  int64  \n",
      " 3   year          425675 non-null  float64\n",
      " 4   manufacturer  409234 non-null  object \n",
      " 5   model         421603 non-null  object \n",
      " 6   condition     252776 non-null  object \n",
      " 7   cylinders     249202 non-null  object \n",
      " 8   fuel          423867 non-null  object \n",
      " 9   odometer      422480 non-null  float64\n",
      " 10  title_status  418638 non-null  object \n",
      " 11  transmission  424324 non-null  object \n",
      " 12  VIN           265838 non-null  object \n",
      " 13  drive         296313 non-null  object \n",
      " 14  size          120519 non-null  object \n",
      " 15  type          334022 non-null  object \n",
      " 16  paint_color   296677 non-null  object \n",
      " 17  state         426880 non-null  object \n",
      "dtypes: float64(2), int64(2), object(14)\n",
      "memory usage: 58.6+ MB\n"
     ]
    }
   ],
   "source": [
    "df.info()"
   ]
  },
  {
   "cell_type": "markdown",
   "metadata": {},
   "source": [
    "## find out what are the colunms having null"
   ]
  },
  {
   "cell_type": "code",
   "execution_count": 175,
   "metadata": {},
   "outputs": [
    {
     "data": {
      "text/plain": [
       "id                   0\n",
       "region               0\n",
       "price                0\n",
       "year              1205\n",
       "manufacturer     17646\n",
       "model             5277\n",
       "condition       174104\n",
       "cylinders       177678\n",
       "fuel              3013\n",
       "odometer          4400\n",
       "title_status      8242\n",
       "transmission      2556\n",
       "VIN             161042\n",
       "drive           130567\n",
       "size            306361\n",
       "type             92858\n",
       "paint_color     130203\n",
       "state                0\n",
       "dtype: int64"
      ]
     },
     "execution_count": 175,
     "metadata": {},
     "output_type": "execute_result"
    }
   ],
   "source": [
    "df.isnull().sum()"
   ]
  },
  {
   "cell_type": "code",
   "execution_count": 176,
   "metadata": {},
   "outputs": [],
   "source": [
    "# dropping null \n",
    "df.dropna(inplace=True)"
   ]
  },
  {
   "cell_type": "code",
   "execution_count": 177,
   "metadata": {},
   "outputs": [
    {
     "name": "stdout",
     "output_type": "stream",
     "text": [
      "<class 'pandas.core.frame.DataFrame'>\n",
      "Int64Index: 34868 entries, 126 to 426836\n",
      "Data columns (total 18 columns):\n",
      " #   Column        Non-Null Count  Dtype  \n",
      "---  ------        --------------  -----  \n",
      " 0   id            34868 non-null  int64  \n",
      " 1   region        34868 non-null  object \n",
      " 2   price         34868 non-null  int64  \n",
      " 3   year          34868 non-null  float64\n",
      " 4   manufacturer  34868 non-null  object \n",
      " 5   model         34868 non-null  object \n",
      " 6   condition     34868 non-null  object \n",
      " 7   cylinders     34868 non-null  object \n",
      " 8   fuel          34868 non-null  object \n",
      " 9   odometer      34868 non-null  float64\n",
      " 10  title_status  34868 non-null  object \n",
      " 11  transmission  34868 non-null  object \n",
      " 12  VIN           34868 non-null  object \n",
      " 13  drive         34868 non-null  object \n",
      " 14  size          34868 non-null  object \n",
      " 15  type          34868 non-null  object \n",
      " 16  paint_color   34868 non-null  object \n",
      " 17  state         34868 non-null  object \n",
      "dtypes: float64(2), int64(2), object(14)\n",
      "memory usage: 5.1+ MB\n"
     ]
    }
   ],
   "source": [
    "df.info()"
   ]
  },
  {
   "cell_type": "code",
   "execution_count": 178,
   "metadata": {},
   "outputs": [
    {
     "data": {
      "text/plain": [
       "id              0\n",
       "region          0\n",
       "price           0\n",
       "year            0\n",
       "manufacturer    0\n",
       "model           0\n",
       "condition       0\n",
       "cylinders       0\n",
       "fuel            0\n",
       "odometer        0\n",
       "title_status    0\n",
       "transmission    0\n",
       "VIN             0\n",
       "drive           0\n",
       "size            0\n",
       "type            0\n",
       "paint_color     0\n",
       "state           0\n",
       "dtype: int64"
      ]
     },
     "execution_count": 178,
     "metadata": {},
     "output_type": "execute_result"
    }
   ],
   "source": [
    "# check again no null values\n",
    "df.isnull().sum()"
   ]
  },
  {
   "cell_type": "code",
   "execution_count": 179,
   "metadata": {},
   "outputs": [
    {
     "data": {
      "text/html": [
       "<div>\n",
       "<style scoped>\n",
       "    .dataframe tbody tr th:only-of-type {\n",
       "        vertical-align: middle;\n",
       "    }\n",
       "\n",
       "    .dataframe tbody tr th {\n",
       "        vertical-align: top;\n",
       "    }\n",
       "\n",
       "    .dataframe thead th {\n",
       "        text-align: right;\n",
       "    }\n",
       "</style>\n",
       "<table border=\"1\" class=\"dataframe\">\n",
       "  <thead>\n",
       "    <tr style=\"text-align: right;\">\n",
       "      <th></th>\n",
       "      <th>id</th>\n",
       "      <th>region</th>\n",
       "      <th>price</th>\n",
       "      <th>year</th>\n",
       "      <th>manufacturer</th>\n",
       "      <th>model</th>\n",
       "      <th>condition</th>\n",
       "      <th>cylinders</th>\n",
       "      <th>fuel</th>\n",
       "      <th>odometer</th>\n",
       "      <th>title_status</th>\n",
       "      <th>transmission</th>\n",
       "      <th>VIN</th>\n",
       "      <th>drive</th>\n",
       "      <th>size</th>\n",
       "      <th>type</th>\n",
       "      <th>paint_color</th>\n",
       "      <th>state</th>\n",
       "    </tr>\n",
       "  </thead>\n",
       "  <tbody>\n",
       "    <tr>\n",
       "      <th>126</th>\n",
       "      <td>7305672709</td>\n",
       "      <td>auburn</td>\n",
       "      <td>0</td>\n",
       "      <td>2018.0</td>\n",
       "      <td>chevrolet</td>\n",
       "      <td>express cargo van</td>\n",
       "      <td>like new</td>\n",
       "      <td>6 cylinders</td>\n",
       "      <td>gas</td>\n",
       "      <td>68472.0</td>\n",
       "      <td>clean</td>\n",
       "      <td>automatic</td>\n",
       "      <td>1GCWGAFP8J1309579</td>\n",
       "      <td>rwd</td>\n",
       "      <td>full-size</td>\n",
       "      <td>van</td>\n",
       "      <td>white</td>\n",
       "      <td>al</td>\n",
       "    </tr>\n",
       "    <tr>\n",
       "      <th>127</th>\n",
       "      <td>7305672266</td>\n",
       "      <td>auburn</td>\n",
       "      <td>0</td>\n",
       "      <td>2019.0</td>\n",
       "      <td>chevrolet</td>\n",
       "      <td>express cargo van</td>\n",
       "      <td>like new</td>\n",
       "      <td>6 cylinders</td>\n",
       "      <td>gas</td>\n",
       "      <td>69125.0</td>\n",
       "      <td>clean</td>\n",
       "      <td>automatic</td>\n",
       "      <td>1GCWGAFP4K1214373</td>\n",
       "      <td>rwd</td>\n",
       "      <td>full-size</td>\n",
       "      <td>van</td>\n",
       "      <td>white</td>\n",
       "      <td>al</td>\n",
       "    </tr>\n",
       "    <tr>\n",
       "      <th>128</th>\n",
       "      <td>7305672252</td>\n",
       "      <td>auburn</td>\n",
       "      <td>0</td>\n",
       "      <td>2018.0</td>\n",
       "      <td>chevrolet</td>\n",
       "      <td>express cargo van</td>\n",
       "      <td>like new</td>\n",
       "      <td>6 cylinders</td>\n",
       "      <td>gas</td>\n",
       "      <td>66555.0</td>\n",
       "      <td>clean</td>\n",
       "      <td>automatic</td>\n",
       "      <td>1GCWGAFPXJ1337903</td>\n",
       "      <td>rwd</td>\n",
       "      <td>full-size</td>\n",
       "      <td>van</td>\n",
       "      <td>white</td>\n",
       "      <td>al</td>\n",
       "    </tr>\n",
       "    <tr>\n",
       "      <th>215</th>\n",
       "      <td>7316482063</td>\n",
       "      <td>birmingham</td>\n",
       "      <td>4000</td>\n",
       "      <td>2002.0</td>\n",
       "      <td>toyota</td>\n",
       "      <td>echo</td>\n",
       "      <td>excellent</td>\n",
       "      <td>4 cylinders</td>\n",
       "      <td>gas</td>\n",
       "      <td>155000.0</td>\n",
       "      <td>clean</td>\n",
       "      <td>automatic</td>\n",
       "      <td>JTDBT123520243495</td>\n",
       "      <td>fwd</td>\n",
       "      <td>compact</td>\n",
       "      <td>sedan</td>\n",
       "      <td>blue</td>\n",
       "      <td>al</td>\n",
       "    </tr>\n",
       "    <tr>\n",
       "      <th>219</th>\n",
       "      <td>7316429417</td>\n",
       "      <td>birmingham</td>\n",
       "      <td>2500</td>\n",
       "      <td>1995.0</td>\n",
       "      <td>bmw</td>\n",
       "      <td>525i</td>\n",
       "      <td>fair</td>\n",
       "      <td>6 cylinders</td>\n",
       "      <td>gas</td>\n",
       "      <td>110661.0</td>\n",
       "      <td>clean</td>\n",
       "      <td>automatic</td>\n",
       "      <td>WBAHD6322SGK86772</td>\n",
       "      <td>rwd</td>\n",
       "      <td>mid-size</td>\n",
       "      <td>sedan</td>\n",
       "      <td>white</td>\n",
       "      <td>al</td>\n",
       "    </tr>\n",
       "    <tr>\n",
       "      <th>268</th>\n",
       "      <td>7315946365</td>\n",
       "      <td>birmingham</td>\n",
       "      <td>9000</td>\n",
       "      <td>2008.0</td>\n",
       "      <td>mazda</td>\n",
       "      <td>miata mx-5</td>\n",
       "      <td>excellent</td>\n",
       "      <td>4 cylinders</td>\n",
       "      <td>gas</td>\n",
       "      <td>56700.0</td>\n",
       "      <td>clean</td>\n",
       "      <td>automatic</td>\n",
       "      <td>JM1NC25F570128735</td>\n",
       "      <td>rwd</td>\n",
       "      <td>compact</td>\n",
       "      <td>convertible</td>\n",
       "      <td>white</td>\n",
       "      <td>al</td>\n",
       "    </tr>\n",
       "    <tr>\n",
       "      <th>337</th>\n",
       "      <td>7315354216</td>\n",
       "      <td>birmingham</td>\n",
       "      <td>8950</td>\n",
       "      <td>2011.0</td>\n",
       "      <td>ford</td>\n",
       "      <td>f-150</td>\n",
       "      <td>excellent</td>\n",
       "      <td>6 cylinders</td>\n",
       "      <td>gas</td>\n",
       "      <td>164000.0</td>\n",
       "      <td>clean</td>\n",
       "      <td>automatic</td>\n",
       "      <td>1FTMF1CM6BKD55331</td>\n",
       "      <td>fwd</td>\n",
       "      <td>full-size</td>\n",
       "      <td>truck</td>\n",
       "      <td>white</td>\n",
       "      <td>al</td>\n",
       "    </tr>\n",
       "    <tr>\n",
       "      <th>338</th>\n",
       "      <td>7315349921</td>\n",
       "      <td>birmingham</td>\n",
       "      <td>4000</td>\n",
       "      <td>1972.0</td>\n",
       "      <td>mercedes-benz</td>\n",
       "      <td>benz</td>\n",
       "      <td>fair</td>\n",
       "      <td>6 cylinders</td>\n",
       "      <td>gas</td>\n",
       "      <td>88100.0</td>\n",
       "      <td>clean</td>\n",
       "      <td>automatic</td>\n",
       "      <td>1.14023E+13</td>\n",
       "      <td>rwd</td>\n",
       "      <td>full-size</td>\n",
       "      <td>coupe</td>\n",
       "      <td>silver</td>\n",
       "      <td>al</td>\n",
       "    </tr>\n",
       "    <tr>\n",
       "      <th>346</th>\n",
       "      <td>7315259946</td>\n",
       "      <td>birmingham</td>\n",
       "      <td>98900</td>\n",
       "      <td>2001.0</td>\n",
       "      <td>ferrari</td>\n",
       "      <td>360 modena</td>\n",
       "      <td>good</td>\n",
       "      <td>8 cylinders</td>\n",
       "      <td>gas</td>\n",
       "      <td>20187.0</td>\n",
       "      <td>clean</td>\n",
       "      <td>automatic</td>\n",
       "      <td>ZFFYT53A110125703</td>\n",
       "      <td>rwd</td>\n",
       "      <td>mid-size</td>\n",
       "      <td>convertible</td>\n",
       "      <td>red</td>\n",
       "      <td>al</td>\n",
       "    </tr>\n",
       "    <tr>\n",
       "      <th>355</th>\n",
       "      <td>7315110575</td>\n",
       "      <td>birmingham</td>\n",
       "      <td>9400</td>\n",
       "      <td>2008.0</td>\n",
       "      <td>mercedes-benz</td>\n",
       "      <td>benz c350</td>\n",
       "      <td>good</td>\n",
       "      <td>6 cylinders</td>\n",
       "      <td>gas</td>\n",
       "      <td>129473.0</td>\n",
       "      <td>clean</td>\n",
       "      <td>automatic</td>\n",
       "      <td>WDDGF56X68F140907</td>\n",
       "      <td>rwd</td>\n",
       "      <td>full-size</td>\n",
       "      <td>sedan</td>\n",
       "      <td>silver</td>\n",
       "      <td>al</td>\n",
       "    </tr>\n",
       "  </tbody>\n",
       "</table>\n",
       "</div>"
      ],
      "text/plain": [
       "             id      region  price    year   manufacturer              model  \\\n",
       "126  7305672709      auburn      0  2018.0      chevrolet  express cargo van   \n",
       "127  7305672266      auburn      0  2019.0      chevrolet  express cargo van   \n",
       "128  7305672252      auburn      0  2018.0      chevrolet  express cargo van   \n",
       "215  7316482063  birmingham   4000  2002.0         toyota               echo   \n",
       "219  7316429417  birmingham   2500  1995.0            bmw               525i   \n",
       "268  7315946365  birmingham   9000  2008.0          mazda         miata mx-5   \n",
       "337  7315354216  birmingham   8950  2011.0           ford              f-150   \n",
       "338  7315349921  birmingham   4000  1972.0  mercedes-benz               benz   \n",
       "346  7315259946  birmingham  98900  2001.0        ferrari         360 modena   \n",
       "355  7315110575  birmingham   9400  2008.0  mercedes-benz          benz c350   \n",
       "\n",
       "     condition    cylinders fuel  odometer title_status transmission  \\\n",
       "126   like new  6 cylinders  gas   68472.0        clean    automatic   \n",
       "127   like new  6 cylinders  gas   69125.0        clean    automatic   \n",
       "128   like new  6 cylinders  gas   66555.0        clean    automatic   \n",
       "215  excellent  4 cylinders  gas  155000.0        clean    automatic   \n",
       "219       fair  6 cylinders  gas  110661.0        clean    automatic   \n",
       "268  excellent  4 cylinders  gas   56700.0        clean    automatic   \n",
       "337  excellent  6 cylinders  gas  164000.0        clean    automatic   \n",
       "338       fair  6 cylinders  gas   88100.0        clean    automatic   \n",
       "346       good  8 cylinders  gas   20187.0        clean    automatic   \n",
       "355       good  6 cylinders  gas  129473.0        clean    automatic   \n",
       "\n",
       "                   VIN drive       size         type paint_color state  \n",
       "126  1GCWGAFP8J1309579   rwd  full-size          van       white    al  \n",
       "127  1GCWGAFP4K1214373   rwd  full-size          van       white    al  \n",
       "128  1GCWGAFPXJ1337903   rwd  full-size          van       white    al  \n",
       "215  JTDBT123520243495   fwd    compact        sedan        blue    al  \n",
       "219  WBAHD6322SGK86772   rwd   mid-size        sedan       white    al  \n",
       "268  JM1NC25F570128735   rwd    compact  convertible       white    al  \n",
       "337  1FTMF1CM6BKD55331   fwd  full-size        truck       white    al  \n",
       "338        1.14023E+13   rwd  full-size        coupe      silver    al  \n",
       "346  ZFFYT53A110125703   rwd   mid-size  convertible         red    al  \n",
       "355  WDDGF56X68F140907   rwd  full-size        sedan      silver    al  "
      ]
     },
     "execution_count": 179,
     "metadata": {},
     "output_type": "execute_result"
    }
   ],
   "source": [
    "df.head(10)"
   ]
  },
  {
   "cell_type": "code",
   "execution_count": 180,
   "metadata": {},
   "outputs": [
    {
     "name": "stdout",
     "output_type": "stream",
     "text": [
      "<class 'pandas.core.frame.DataFrame'>\n",
      "Int64Index: 34868 entries, 126 to 426836\n",
      "Data columns (total 18 columns):\n",
      " #   Column        Non-Null Count  Dtype  \n",
      "---  ------        --------------  -----  \n",
      " 0   id            34868 non-null  int64  \n",
      " 1   region        34868 non-null  object \n",
      " 2   price         34868 non-null  int64  \n",
      " 3   year          34868 non-null  float64\n",
      " 4   manufacturer  34868 non-null  object \n",
      " 5   model         34868 non-null  object \n",
      " 6   condition     34868 non-null  object \n",
      " 7   cylinders     34868 non-null  object \n",
      " 8   fuel          34868 non-null  object \n",
      " 9   odometer      34868 non-null  float64\n",
      " 10  title_status  34868 non-null  object \n",
      " 11  transmission  34868 non-null  object \n",
      " 12  VIN           34868 non-null  object \n",
      " 13  drive         34868 non-null  object \n",
      " 14  size          34868 non-null  object \n",
      " 15  type          34868 non-null  object \n",
      " 16  paint_color   34868 non-null  object \n",
      " 17  state         34868 non-null  object \n",
      "dtypes: float64(2), int64(2), object(14)\n",
      "memory usage: 5.1+ MB\n"
     ]
    }
   ],
   "source": [
    "df.info()"
   ]
  },
  {
   "cell_type": "code",
   "execution_count": 181,
   "metadata": {},
   "outputs": [
    {
     "data": {
      "text/plain": [
       "array(['gas', 'hybrid', 'diesel', 'other', 'electric'], dtype=object)"
      ]
     },
     "execution_count": 181,
     "metadata": {},
     "output_type": "execute_result"
    }
   ],
   "source": [
    "df['fuel'].unique()"
   ]
  },
  {
   "cell_type": "code",
   "execution_count": 120,
   "metadata": {},
   "outputs": [
    {
     "data": {
      "text/plain": [
       "array(['6 cylinders', '4 cylinders', '8 cylinders', '5 cylinders',\n",
       "       '10 cylinders', '3 cylinders', 'other', '12 cylinders'],\n",
       "      dtype=object)"
      ]
     },
     "execution_count": 120,
     "metadata": {},
     "output_type": "execute_result"
    }
   ],
   "source": [
    "df['cylinders'].unique()"
   ]
  },
  {
   "cell_type": "code",
   "execution_count": 182,
   "metadata": {},
   "outputs": [
    {
     "data": {
      "text/plain": [
       "array(['van', 'sedan', 'convertible', 'truck', 'coupe', 'SUV',\n",
       "       'hatchback', 'wagon', 'pickup', 'other', 'mini-van', 'offroad',\n",
       "       'bus'], dtype=object)"
      ]
     },
     "execution_count": 182,
     "metadata": {},
     "output_type": "execute_result"
    }
   ],
   "source": [
    "df['type'].unique()"
   ]
  },
  {
   "cell_type": "code",
   "execution_count": 183,
   "metadata": {},
   "outputs": [
    {
     "data": {
      "text/plain": [
       "array(['automatic', 'manual', 'other'], dtype=object)"
      ]
     },
     "execution_count": 183,
     "metadata": {},
     "output_type": "execute_result"
    }
   ],
   "source": [
    "df['transmission'].unique()"
   ]
  },
  {
   "cell_type": "code",
   "execution_count": 184,
   "metadata": {},
   "outputs": [],
   "source": [
    "### all of above have other in several variables . so renaming those\n",
    "df['fuel'] = df['fuel'].replace({'other': 'other_fuel'})\n",
    "df['cylinders'] = df['cylinders'].replace({'other': 'other_cylinders'})\n",
    "df['type'] = df['type'].replace({'other': 'other_type'})\n",
    "df['transmission'] = df['transmission'].replace({'other': 'other_transmission'})"
   ]
  },
  {
   "cell_type": "markdown",
   "metadata": {},
   "source": [
    "## visualization of features"
   ]
  },
  {
   "cell_type": "code",
   "execution_count": 185,
   "metadata": {},
   "outputs": [
    {
     "data": {
      "text/plain": [
       "[Text(0.5, 0, 'drive'), Text(0, 0.5, 'Count of Car Drive')]"
      ]
     },
     "execution_count": 185,
     "metadata": {},
     "output_type": "execute_result"
    },
    {
     "data": {
      "image/png": "[encoded data removed]",
      "text/plain": [
       "<Figure size 1728x432 with 3 Axes>"
      ]
     },
     "metadata": {
      "needs_background": "light"
     },
     "output_type": "display_data"
    }
   ],
   "source": [
    "# visualization of features\n",
    "plt.figure(figsize=(24, 6))\n",
    "plt.subplot(1,3,1)\n",
    "dfplt1 = df.cylinders.value_counts().plot(kind='bar')\n",
    "plt.title('Histogram: Car Cylinder')\n",
    "dfplt1.set(xlabel = 'cylinders', ylabel='Count of Car Cylinders')\n",
    "\n",
    "plt.subplot(1,3,2)\n",
    "dfplt1 = df.title_status.value_counts().plot(kind='bar')\n",
    "plt.title('Histogram: Car Title Status')\n",
    "dfplt1.set(xlabel = 'Title Status', ylabel='Count of Car Title Status')\n",
    "\n",
    "plt.subplot(1,3,3)\n",
    "dfplt1 = df.drive.value_counts().plot(kind='bar')\n",
    "plt.title('Histogram: Car Drive ')\n",
    "dfplt1.set(xlabel = 'drive', ylabel='Count of Car Drive')\n",
    "\n"
   ]
  },
  {
   "cell_type": "code",
   "execution_count": 186,
   "metadata": {},
   "outputs": [
    {
     "data": {
      "text/plain": [
       "[Text(0.5, 0, 'transmission'), Text(0, 0.5, 'Frequency of Car transmission')]"
      ]
     },
     "execution_count": 186,
     "metadata": {},
     "output_type": "execute_result"
    },
    {
     "data": {
      "image/png": "[encoded data removed]",
      "text/plain": [
       "<Figure size 1728x432 with 3 Axes>"
      ]
     },
     "metadata": {
      "needs_background": "light"
     },
     "output_type": "display_data"
    }
   ],
   "source": [
    "plt.figure(figsize=(24, 6))\n",
    "plt.subplot(1,3,1)\n",
    "dfplt1 = df['size'].value_counts().plot(kind='bar')\n",
    "plt.title('Histogram: Car Size ')\n",
    "dfplt1.set(xlabel = 'size', ylabel='Count of Car Size')\n",
    "\n",
    "plt.subplot(1,3,2)\n",
    "dfplt1 = df.type.value_counts().plot(kind='bar')\n",
    "plt.title('Histogram: Car Type')\n",
    "dfplt1.set(xlabel = 'type', ylabel='Count of Car type')\n",
    "\n",
    "plt.subplot(1,3,3)\n",
    "dfplt1 = df.transmission.value_counts().plot(kind='bar')\n",
    "plt.title('Histogram: Car transmission')\n",
    "dfplt1.set(xlabel = 'transmission', ylabel='Frequency of Car transmission')"
   ]
  },
  {
   "cell_type": "code",
   "execution_count": 187,
   "metadata": {},
   "outputs": [
    {
     "data": {
      "text/plain": [
       "[Text(0.5, 0, 'paint_color'), Text(0, 0.5, 'Count of  Paint Color')]"
      ]
     },
     "execution_count": 187,
     "metadata": {},
     "output_type": "execute_result"
    },
    {
     "data": {
      "image/png": "[encoded data removed]",
      "text/plain": [
       "<Figure size 432x288 with 1 Axes>"
      ]
     },
     "metadata": {
      "needs_background": "light"
     },
     "output_type": "display_data"
    }
   ],
   "source": [
    "plt.figure(figsize=(6, 4))\n",
    "\n",
    "plt.subplot(1,1,1)\n",
    "plt1 = df.paint_color.value_counts().plot(kind='bar')\n",
    "plt.title('Histogram: Car Color')\n",
    "plt1.set(xlabel = 'paint_color', ylabel='Count of  Paint Color')"
   ]
  },
  {
   "cell_type": "markdown",
   "metadata": {},
   "source": [
    "## identify and treat the outliers"
   ]
  },
  {
   "cell_type": "code",
   "execution_count": 188,
   "metadata": {},
   "outputs": [
    {
     "data": {
      "image/png": "[encoded data removed]",
      "text/plain": [
       "<Figure size 1440x576 with 2 Axes>"
      ]
     },
     "metadata": {
      "needs_background": "light"
     },
     "output_type": "display_data"
    }
   ],
   "source": [
    "# price\n",
    "fig, axes = plt.subplots(nrows=1, ncols=2, figsize=(20,8))\n",
    "ax=sns.histplot(data=df, x=\"price\",kde=True, color=\"red\",bins=30, ax=axes[0])\n",
    "ax.set_xlabel('price ',fontsize=16)\n",
    "ax = sns.boxplot(x=df[\"price\"],showmeans=True,meanprops={\"marker\":\"o\",\n",
    "                       \"markerfacecolor\":\"white\", \n",
    "                       \"markeredgecolor\":\"black\",\n",
    "                      \"markersize\":\"7\"},ax=axes[1], color=\"red\")\n",
    "ax.set_xlabel('price ',fontsize=16)\n",
    "plt.show()"
   ]
  },
  {
   "cell_type": "code",
   "execution_count": 189,
   "metadata": {},
   "outputs": [
    {
     "data": {
      "image/png": "[encoded data removed]",
      "text/plain": [
       "<Figure size 1440x576 with 2 Axes>"
      ]
     },
     "metadata": {
      "needs_background": "light"
     },
     "output_type": "display_data"
    }
   ],
   "source": [
    "# odometer\n",
    "fig, axes = plt.subplots(nrows=1, ncols=2, figsize=(20,8))\n",
    "ax=sns.histplot(data=df, x=\"odometer\",kde=True, color=\"red\",bins=30, ax=axes[0])\n",
    "ax.set_xlabel('odometer/miles',fontsize=16)\n",
    "ax = sns.boxplot(x=df[\"odometer\"],showmeans=True,meanprops={\"marker\":\"o\",\n",
    "                       \"markerfacecolor\":\"white\", \n",
    "                       \"markeredgecolor\":\"black\",\n",
    "                      \"markersize\":\"7\"},ax=axes[1], color=\"red\")\n",
    "ax.set_xlabel('odometer/miles',fontsize=16)\n",
    "plt.show()"
   ]
  },
  {
   "cell_type": "code",
   "execution_count": 190,
   "metadata": {},
   "outputs": [
    {
     "data": {
      "image/png": "[encoded data removed]",
      "text/plain": [
       "<Figure size 1440x576 with 2 Axes>"
      ]
     },
     "metadata": {
      "needs_background": "light"
     },
     "output_type": "display_data"
    }
   ],
   "source": [
    "# year\n",
    "fig, axes = plt.subplots(nrows=1, ncols=2, figsize=(20,8))\n",
    "ax=sns.histplot(data=df, x=\"year\",kde=True, color=\"red\",bins=30, ax=axes[0])\n",
    "ax.set_xlabel('year',fontsize=16)\n",
    "ax = sns.boxplot(x=df[\"year\"],showmeans=True,meanprops={\"marker\":\"o\",\n",
    "                       \"markerfacecolor\":\"white\", \n",
    "                       \"markeredgecolor\":\"black\",\n",
    "                      \"markersize\":\"7\"},ax=axes[1], color=\"red\")\n",
    "ax.set_xlabel('year',fontsize=16)\n",
    "plt.show()"
   ]
  },
  {
   "cell_type": "code",
   "execution_count": 191,
   "metadata": {},
   "outputs": [
    {
     "data": {
      "text/html": [
       "<div>\n",
       "<style scoped>\n",
       "    .dataframe tbody tr th:only-of-type {\n",
       "        vertical-align: middle;\n",
       "    }\n",
       "\n",
       "    .dataframe tbody tr th {\n",
       "        vertical-align: top;\n",
       "    }\n",
       "\n",
       "    .dataframe thead th {\n",
       "        text-align: right;\n",
       "    }\n",
       "</style>\n",
       "<table border=\"1\" class=\"dataframe\">\n",
       "  <thead>\n",
       "    <tr style=\"text-align: right;\">\n",
       "      <th></th>\n",
       "      <th>id</th>\n",
       "      <th>region</th>\n",
       "      <th>price</th>\n",
       "      <th>year</th>\n",
       "      <th>manufacturer</th>\n",
       "      <th>model</th>\n",
       "      <th>condition</th>\n",
       "      <th>cylinders</th>\n",
       "      <th>fuel</th>\n",
       "      <th>odometer</th>\n",
       "      <th>title_status</th>\n",
       "      <th>transmission</th>\n",
       "      <th>VIN</th>\n",
       "      <th>drive</th>\n",
       "      <th>size</th>\n",
       "      <th>type</th>\n",
       "      <th>paint_color</th>\n",
       "      <th>state</th>\n",
       "    </tr>\n",
       "  </thead>\n",
       "  <tbody>\n",
       "    <tr>\n",
       "      <th>126</th>\n",
       "      <td>7305672709</td>\n",
       "      <td>auburn</td>\n",
       "      <td>0</td>\n",
       "      <td>2018.0</td>\n",
       "      <td>chevrolet</td>\n",
       "      <td>express cargo van</td>\n",
       "      <td>like new</td>\n",
       "      <td>6 cylinders</td>\n",
       "      <td>gas</td>\n",
       "      <td>68472.0</td>\n",
       "      <td>clean</td>\n",
       "      <td>automatic</td>\n",
       "      <td>1GCWGAFP8J1309579</td>\n",
       "      <td>rwd</td>\n",
       "      <td>full-size</td>\n",
       "      <td>van</td>\n",
       "      <td>white</td>\n",
       "      <td>al</td>\n",
       "    </tr>\n",
       "    <tr>\n",
       "      <th>127</th>\n",
       "      <td>7305672266</td>\n",
       "      <td>auburn</td>\n",
       "      <td>0</td>\n",
       "      <td>2019.0</td>\n",
       "      <td>chevrolet</td>\n",
       "      <td>express cargo van</td>\n",
       "      <td>like new</td>\n",
       "      <td>6 cylinders</td>\n",
       "      <td>gas</td>\n",
       "      <td>69125.0</td>\n",
       "      <td>clean</td>\n",
       "      <td>automatic</td>\n",
       "      <td>1GCWGAFP4K1214373</td>\n",
       "      <td>rwd</td>\n",
       "      <td>full-size</td>\n",
       "      <td>van</td>\n",
       "      <td>white</td>\n",
       "      <td>al</td>\n",
       "    </tr>\n",
       "    <tr>\n",
       "      <th>128</th>\n",
       "      <td>7305672252</td>\n",
       "      <td>auburn</td>\n",
       "      <td>0</td>\n",
       "      <td>2018.0</td>\n",
       "      <td>chevrolet</td>\n",
       "      <td>express cargo van</td>\n",
       "      <td>like new</td>\n",
       "      <td>6 cylinders</td>\n",
       "      <td>gas</td>\n",
       "      <td>66555.0</td>\n",
       "      <td>clean</td>\n",
       "      <td>automatic</td>\n",
       "      <td>1GCWGAFPXJ1337903</td>\n",
       "      <td>rwd</td>\n",
       "      <td>full-size</td>\n",
       "      <td>van</td>\n",
       "      <td>white</td>\n",
       "      <td>al</td>\n",
       "    </tr>\n",
       "    <tr>\n",
       "      <th>2062</th>\n",
       "      <td>7305672261</td>\n",
       "      <td>dothan</td>\n",
       "      <td>0</td>\n",
       "      <td>2018.0</td>\n",
       "      <td>chevrolet</td>\n",
       "      <td>express cargo van</td>\n",
       "      <td>like new</td>\n",
       "      <td>6 cylinders</td>\n",
       "      <td>gas</td>\n",
       "      <td>68472.0</td>\n",
       "      <td>clean</td>\n",
       "      <td>automatic</td>\n",
       "      <td>1GCWGAFP8J1309579</td>\n",
       "      <td>rwd</td>\n",
       "      <td>full-size</td>\n",
       "      <td>van</td>\n",
       "      <td>white</td>\n",
       "      <td>al</td>\n",
       "    </tr>\n",
       "    <tr>\n",
       "      <th>2063</th>\n",
       "      <td>7305672264</td>\n",
       "      <td>dothan</td>\n",
       "      <td>0</td>\n",
       "      <td>2019.0</td>\n",
       "      <td>chevrolet</td>\n",
       "      <td>express cargo van</td>\n",
       "      <td>like new</td>\n",
       "      <td>6 cylinders</td>\n",
       "      <td>gas</td>\n",
       "      <td>69125.0</td>\n",
       "      <td>clean</td>\n",
       "      <td>automatic</td>\n",
       "      <td>1GCWGAFP4K1214373</td>\n",
       "      <td>rwd</td>\n",
       "      <td>full-size</td>\n",
       "      <td>van</td>\n",
       "      <td>white</td>\n",
       "      <td>al</td>\n",
       "    </tr>\n",
       "    <tr>\n",
       "      <th>...</th>\n",
       "      <td>...</td>\n",
       "      <td>...</td>\n",
       "      <td>...</td>\n",
       "      <td>...</td>\n",
       "      <td>...</td>\n",
       "      <td>...</td>\n",
       "      <td>...</td>\n",
       "      <td>...</td>\n",
       "      <td>...</td>\n",
       "      <td>...</td>\n",
       "      <td>...</td>\n",
       "      <td>...</td>\n",
       "      <td>...</td>\n",
       "      <td>...</td>\n",
       "      <td>...</td>\n",
       "      <td>...</td>\n",
       "      <td>...</td>\n",
       "      <td>...</td>\n",
       "    </tr>\n",
       "    <tr>\n",
       "      <th>417975</th>\n",
       "      <td>7302282339</td>\n",
       "      <td>green bay</td>\n",
       "      <td>0</td>\n",
       "      <td>2018.0</td>\n",
       "      <td>ram</td>\n",
       "      <td>2500</td>\n",
       "      <td>excellent</td>\n",
       "      <td>6 cylinders</td>\n",
       "      <td>diesel</td>\n",
       "      <td>20492.0</td>\n",
       "      <td>clean</td>\n",
       "      <td>automatic</td>\n",
       "      <td>3C6UR5HL3JG307217</td>\n",
       "      <td>4wd</td>\n",
       "      <td>full-size</td>\n",
       "      <td>truck</td>\n",
       "      <td>white</td>\n",
       "      <td>wi</td>\n",
       "    </tr>\n",
       "    <tr>\n",
       "      <th>424334</th>\n",
       "      <td>7309978253</td>\n",
       "      <td>milwaukee</td>\n",
       "      <td>0</td>\n",
       "      <td>2016.0</td>\n",
       "      <td>toyota</td>\n",
       "      <td>4runner trd pro</td>\n",
       "      <td>excellent</td>\n",
       "      <td>6 cylinders</td>\n",
       "      <td>gas</td>\n",
       "      <td>45286.0</td>\n",
       "      <td>clean</td>\n",
       "      <td>automatic</td>\n",
       "      <td>JTEBU5JR5G5317191</td>\n",
       "      <td>4wd</td>\n",
       "      <td>full-size</td>\n",
       "      <td>SUV</td>\n",
       "      <td>brown</td>\n",
       "      <td>wi</td>\n",
       "    </tr>\n",
       "    <tr>\n",
       "      <th>425403</th>\n",
       "      <td>7309950295</td>\n",
       "      <td>sheboygan</td>\n",
       "      <td>0</td>\n",
       "      <td>2013.0</td>\n",
       "      <td>gmc</td>\n",
       "      <td>acadia</td>\n",
       "      <td>excellent</td>\n",
       "      <td>6 cylinders</td>\n",
       "      <td>gas</td>\n",
       "      <td>152207.0</td>\n",
       "      <td>clean</td>\n",
       "      <td>automatic</td>\n",
       "      <td>1GKKVPKD0DJ141304</td>\n",
       "      <td>4wd</td>\n",
       "      <td>full-size</td>\n",
       "      <td>SUV</td>\n",
       "      <td>red</td>\n",
       "      <td>wi</td>\n",
       "    </tr>\n",
       "    <tr>\n",
       "      <th>426539</th>\n",
       "      <td>7309961831</td>\n",
       "      <td>wyoming</td>\n",
       "      <td>0</td>\n",
       "      <td>2016.0</td>\n",
       "      <td>toyota</td>\n",
       "      <td>4runner trd pro</td>\n",
       "      <td>excellent</td>\n",
       "      <td>6 cylinders</td>\n",
       "      <td>gas</td>\n",
       "      <td>45286.0</td>\n",
       "      <td>clean</td>\n",
       "      <td>automatic</td>\n",
       "      <td>JTEBU5JR5G5317191</td>\n",
       "      <td>4wd</td>\n",
       "      <td>full-size</td>\n",
       "      <td>SUV</td>\n",
       "      <td>brown</td>\n",
       "      <td>wy</td>\n",
       "    </tr>\n",
       "    <tr>\n",
       "      <th>426836</th>\n",
       "      <td>7302301268</td>\n",
       "      <td>wyoming</td>\n",
       "      <td>0</td>\n",
       "      <td>2018.0</td>\n",
       "      <td>ram</td>\n",
       "      <td>2500</td>\n",
       "      <td>excellent</td>\n",
       "      <td>6 cylinders</td>\n",
       "      <td>diesel</td>\n",
       "      <td>20492.0</td>\n",
       "      <td>clean</td>\n",
       "      <td>automatic</td>\n",
       "      <td>3C6UR5HL3JG307217</td>\n",
       "      <td>4wd</td>\n",
       "      <td>full-size</td>\n",
       "      <td>truck</td>\n",
       "      <td>white</td>\n",
       "      <td>wy</td>\n",
       "    </tr>\n",
       "  </tbody>\n",
       "</table>\n",
       "<p>3055 rows × 18 columns</p>\n",
       "</div>"
      ],
      "text/plain": [
       "                id     region  price    year manufacturer              model  \\\n",
       "126     7305672709     auburn      0  2018.0    chevrolet  express cargo van   \n",
       "127     7305672266     auburn      0  2019.0    chevrolet  express cargo van   \n",
       "128     7305672252     auburn      0  2018.0    chevrolet  express cargo van   \n",
       "2062    7305672261     dothan      0  2018.0    chevrolet  express cargo van   \n",
       "2063    7305672264     dothan      0  2019.0    chevrolet  express cargo van   \n",
       "...            ...        ...    ...     ...          ...                ...   \n",
       "417975  7302282339  green bay      0  2018.0          ram               2500   \n",
       "424334  7309978253  milwaukee      0  2016.0       toyota    4runner trd pro   \n",
       "425403  7309950295  sheboygan      0  2013.0          gmc             acadia   \n",
       "426539  7309961831    wyoming      0  2016.0       toyota    4runner trd pro   \n",
       "426836  7302301268    wyoming      0  2018.0          ram               2500   \n",
       "\n",
       "        condition    cylinders    fuel  odometer title_status transmission  \\\n",
       "126      like new  6 cylinders     gas   68472.0        clean    automatic   \n",
       "127      like new  6 cylinders     gas   69125.0        clean    automatic   \n",
       "128      like new  6 cylinders     gas   66555.0        clean    automatic   \n",
       "2062     like new  6 cylinders     gas   68472.0        clean    automatic   \n",
       "2063     like new  6 cylinders     gas   69125.0        clean    automatic   \n",
       "...           ...          ...     ...       ...          ...          ...   \n",
       "417975  excellent  6 cylinders  diesel   20492.0        clean    automatic   \n",
       "424334  excellent  6 cylinders     gas   45286.0        clean    automatic   \n",
       "425403  excellent  6 cylinders     gas  152207.0        clean    automatic   \n",
       "426539  excellent  6 cylinders     gas   45286.0        clean    automatic   \n",
       "426836  excellent  6 cylinders  diesel   20492.0        clean    automatic   \n",
       "\n",
       "                      VIN drive       size   type paint_color state  \n",
       "126     1GCWGAFP8J1309579   rwd  full-size    van       white    al  \n",
       "127     1GCWGAFP4K1214373   rwd  full-size    van       white    al  \n",
       "128     1GCWGAFPXJ1337903   rwd  full-size    van       white    al  \n",
       "2062    1GCWGAFP8J1309579   rwd  full-size    van       white    al  \n",
       "2063    1GCWGAFP4K1214373   rwd  full-size    van       white    al  \n",
       "...                   ...   ...        ...    ...         ...   ...  \n",
       "417975  3C6UR5HL3JG307217   4wd  full-size  truck       white    wi  \n",
       "424334  JTEBU5JR5G5317191   4wd  full-size    SUV       brown    wi  \n",
       "425403  1GKKVPKD0DJ141304   4wd  full-size    SUV         red    wi  \n",
       "426539  JTEBU5JR5G5317191   4wd  full-size    SUV       brown    wy  \n",
       "426836  3C6UR5HL3JG307217   4wd  full-size  truck       white    wy  \n",
       "\n",
       "[3055 rows x 18 columns]"
      ]
     },
     "execution_count": 191,
     "metadata": {},
     "output_type": "execute_result"
    }
   ],
   "source": [
    "#identify the price with 0 o 1 and remove it\n",
    "df.query('price==0 or price==1')"
   ]
  },
  {
   "cell_type": "code",
   "execution_count": 192,
   "metadata": {},
   "outputs": [],
   "source": [
    "df=df.query('price!=0 and price!=1')"
   ]
  },
  {
   "cell_type": "code",
   "execution_count": 193,
   "metadata": {},
   "outputs": [],
   "source": [
    "#remove outliers using DBScan\n",
    "features=[\"price\",\"odometer\",\"year\"]"
   ]
  },
  {
   "cell_type": "code",
   "execution_count": 194,
   "metadata": {},
   "outputs": [],
   "source": [
    "def treatoutliers(data,variable):\n",
    "    first_quartile=data[variable].quantile(0.25)\n",
    "    third_quartile=data[variable].quantile(0.75)\n",
    "    iqr= third_quartile - first_quartile\n",
    "    lower=first_quartile - 1.5*iqr\n",
    "    lower=0 if lower<0 else lower\n",
    "    upper=upper=third_quartile + 1.5*iqr\n",
    "    0 if upper<0 else upper\n",
    "    print(lower,upper)\n",
    "    data=data[(data[variable] < upper) &  (data[variable] > lower)]\n",
    "    return data"
   ]
  },
  {
   "cell_type": "code",
   "execution_count": 195,
   "metadata": {},
   "outputs": [
    {
     "name": "stdout",
     "output_type": "stream",
     "text": [
      "0 47825.0\n",
      "0 254128.0\n",
      "1997.5 2025.5\n"
     ]
    }
   ],
   "source": [
    "for feature in features:\n",
    "    df=treatoutliers(df,feature)   "
   ]
  },
  {
   "cell_type": "code",
   "execution_count": 196,
   "metadata": {},
   "outputs": [],
   "source": [
    "from sklearn.cluster import DBSCAN\n",
    "def remove_outliers(df,variable,eps,min_samples):\n",
    "    outlier_detection = DBSCAN(eps = eps, min_samples = min_samples)\n",
    "    clusters = outlier_detection.fit_predict(df[variable].values.reshape(-1,1))\n",
    "    data = pd.DataFrame()\n",
    "    data['cluster'] = clusters\n",
    "    return data['cluster'].values"
   ]
  },
  {
   "cell_type": "code",
   "execution_count": 197,
   "metadata": {},
   "outputs": [],
   "source": [
    "for feature in features:\n",
    "    clusters=np.unique(remove_outliers(df,feature,0.5,5)).tolist()\n",
    "    for i in range(0,len(clusters)):\n",
    "        df=df[df[feature]!=clusters[i]]"
   ]
  },
  {
   "cell_type": "markdown",
   "metadata": {},
   "source": [
    "## verify the outliers again after removal"
   ]
  },
  {
   "cell_type": "code",
   "execution_count": 198,
   "metadata": {},
   "outputs": [
    {
     "data": {
      "image/png": "[encoded data removed]",
      "text/plain": [
       "<Figure size 1440x576 with 2 Axes>"
      ]
     },
     "metadata": {
      "needs_background": "light"
     },
     "output_type": "display_data"
    }
   ],
   "source": [
    "fig, axes = plt.subplots(nrows=1, ncols=2, figsize=(20,8))\n",
    "ax=sns.histplot(data=df, x=\"price\",kde=True, color=\"red\",bins=30, ax=axes[0])\n",
    "ax.set_xlabel('price ',fontsize=16)\n",
    "ax = sns.boxplot(x=df[\"price\"],showmeans=True,meanprops={\"marker\":\"o\",\n",
    "                       \"markerfacecolor\":\"white\", \n",
    "                       \"markeredgecolor\":\"black\",\n",
    "                      \"markersize\":\"7\"},ax=axes[1], color=\"red\")\n",
    "ax.set_xlabel('price ',fontsize=16)\n",
    "plt.show()"
   ]
  },
  {
   "cell_type": "code",
   "execution_count": 199,
   "metadata": {},
   "outputs": [
    {
     "data": {
      "image/png": "[encoded data removed]",
      "text/plain": [
       "<Figure size 1440x576 with 2 Axes>"
      ]
     },
     "metadata": {
      "needs_background": "light"
     },
     "output_type": "display_data"
    }
   ],
   "source": [
    "fig, axes = plt.subplots(nrows=1, ncols=2, figsize=(20,8))\n",
    "ax=sns.histplot(data=df, x=\"year\",kde=True, color=\"red\",bins=30, ax=axes[0])\n",
    "ax.set_xlabel('year ',fontsize=16)\n",
    "ax = sns.boxplot(x=df[\"year\"],showmeans=True,meanprops={\"marker\":\"o\",\n",
    "                       \"markerfacecolor\":\"white\", \n",
    "                       \"markeredgecolor\":\"black\",\n",
    "                      \"markersize\":\"7\"},ax=axes[1], color=\"red\")\n",
    "ax.set_xlabel('year ',fontsize=16)\n",
    "plt.show()"
   ]
  },
  {
   "cell_type": "code",
   "execution_count": 200,
   "metadata": {},
   "outputs": [
    {
     "data": {
      "image/png": "[encoded data removed]",
      "text/plain": [
       "<Figure size 1440x576 with 2 Axes>"
      ]
     },
     "metadata": {
      "needs_background": "light"
     },
     "output_type": "display_data"
    }
   ],
   "source": [
    "fig, axes = plt.subplots(nrows=1, ncols=2, figsize=(20,8))\n",
    "ax=sns.histplot(data=df, x=\"odometer\",kde=True, color=\"red\",bins=30, ax=axes[0])\n",
    "ax.set_xlabel('odometer ',fontsize=16)\n",
    "ax = sns.boxplot(x=df[\"odometer\"],showmeans=True,meanprops={\"marker\":\"o\",\n",
    "                       \"markerfacecolor\":\"white\", \n",
    "                       \"markeredgecolor\":\"black\",\n",
    "                      \"markersize\":\"7\"},ax=axes[1], color=\"red\")\n",
    "ax.set_xlabel('odometer ',fontsize=16)\n",
    "plt.show()"
   ]
  },
  {
   "cell_type": "markdown",
   "metadata": {},
   "source": [
    "### visualization of key independent/dependent features"
   ]
  },
  {
   "cell_type": "code",
   "execution_count": 201,
   "metadata": {},
   "outputs": [
    {
     "data": {
      "image/png": "[encoded data removed]",
      "text/plain": [
       "<Figure size 720x360 with 1 Axes>"
      ]
     },
     "metadata": {
      "needs_background": "light"
     },
     "output_type": "display_data"
    }
   ],
   "source": [
    "plt.figure(figsize=(10,5))\n",
    "plt.ylim(0,50000)\n",
    "sns.boxplot(x=df.drive, y=df.price, palette=(\"muted\"),showmeans=True,meanprops={\"marker\":\"o\",\n",
    "                       \"markerfacecolor\":\"white\", \n",
    "                       \"markeredgecolor\":\"black\",\n",
    "                      \"markersize\":\"7\"})\n",
    "plt.title(\"Car drive\")\n",
    "# Set x-axis label\n",
    "plt.xlabel('drive')\n",
    "plt.ylabel('Price')\n",
    "plt.show()"
   ]
  },
  {
   "cell_type": "markdown",
   "metadata": {},
   "source": [
    "### observation:  most expensive cars are 4 wheel drive"
   ]
  },
  {
   "cell_type": "code",
   "execution_count": 202,
   "metadata": {},
   "outputs": [
    {
     "data": {
      "image/png": "[encoded data removed]",
      "text/plain": [
       "<Figure size 1440x360 with 1 Axes>"
      ]
     },
     "metadata": {
      "needs_background": "light"
     },
     "output_type": "display_data"
    }
   ],
   "source": [
    "plt.figure(figsize=(20,5))\n",
    "plt.ylim(0,50000)\n",
    "sns.boxplot(x=df.year, y=df.price, palette=(\"bright\"),showmeans=True,meanprops={\"marker\":\"o\",\n",
    "                       \"markerfacecolor\":\"white\", \n",
    "                       \"markeredgecolor\":\"black\",\n",
    "                      \"markersize\":\"7\"})\n",
    "plt.title(\"Car Year\")\n",
    "plt.xlabel('Year')\n",
    "plt.xticks(rotation = 90)\n",
    "plt.ylabel('Price ')\n",
    "plt.show()\n"
   ]
  },
  {
   "cell_type": "markdown",
   "metadata": {},
   "source": [
    "### observation:  as year increas price increases. it is identified as positive correlation between year and price"
   ]
  },
  {
   "cell_type": "code",
   "execution_count": 203,
   "metadata": {},
   "outputs": [
    {
     "data": {
      "image/png": "[encoded data removed]",
      "text/plain": [
       "<Figure size 720x360 with 1 Axes>"
      ]
     },
     "metadata": {
      "needs_background": "light"
     },
     "output_type": "display_data"
    }
   ],
   "source": [
    "plt.figure(figsize=(10,5))\n",
    "plt.ylim(0,50000)\n",
    "sns.boxplot(x=df.fuel, y=df.price, palette=(\"PuBuGn\"),showmeans=True,meanprops={\"marker\":\"o\",\n",
    "                       \"markerfacecolor\":\"white\", \n",
    "                       \"markeredgecolor\":\"black\",\n",
    "                      \"markersize\":\"7\"})\n",
    "plt.title(\"Car Fuel Type\")\n",
    "plt.xlabel('Fuel')\n",
    "plt.ylabel('Price ')\n",
    "plt.show()"
   ]
  },
  {
   "cell_type": "markdown",
   "metadata": {},
   "source": [
    "### observation:  diesel/fuel is more expensive than other types and hybrid are cheaper"
   ]
  },
  {
   "cell_type": "code",
   "execution_count": 204,
   "metadata": {},
   "outputs": [
    {
     "data": {
      "image/png": "[encoded data removed]",
      "text/plain": [
       "<Figure size 720x360 with 1 Axes>"
      ]
     },
     "metadata": {
      "needs_background": "light"
     },
     "output_type": "display_data"
    }
   ],
   "source": [
    "plt.figure(figsize=(10,5))\n",
    "plt.ylim(0,50000)\n",
    "sns.boxplot(x=df.condition, y=df.price, palette=(\"colorblind\"),showmeans=True,meanprops={\"marker\":\"o\",\n",
    "                       \"markerfacecolor\":\"white\", \n",
    "                       \"markeredgecolor\":\"black\",\n",
    "                      \"markersize\":\"7\"})\n",
    "plt.title(\"Car Conditions\")\n",
    "plt.xlabel('Condition')\n",
    "plt.ylabel('Price ')\n",
    "plt.show()"
   ]
  },
  {
   "cell_type": "markdown",
   "metadata": {},
   "source": [
    "### observation:  most expensive ones are new and like new car and cheaper ones are fair"
   ]
  },
  {
   "cell_type": "code",
   "execution_count": 205,
   "metadata": {},
   "outputs": [
    {
     "data": {
      "image/png": "[encoded data removed]",
      "text/plain": [
       "<Figure size 720x360 with 1 Axes>"
      ]
     },
     "metadata": {
      "needs_background": "light"
     },
     "output_type": "display_data"
    }
   ],
   "source": [
    "plt.figure(figsize=(10,5))\n",
    "plt.ylim(0,50000)\n",
    "sns.boxplot(x=df['size'], y=df.price, palette=(\"pastel\"),showmeans=True,meanprops={\"marker\":\"o\",\n",
    "                       \"markerfacecolor\":\"white\", \n",
    "                       \"markeredgecolor\":\"black\",\n",
    "                      \"markersize\":\"7\"})\n",
    "plt.title(\"Car Sizes\")\n",
    "plt.xlabel('Size')\n",
    "plt.ylabel('Price')\n",
    "plt.show()"
   ]
  },
  {
   "cell_type": "markdown",
   "metadata": {},
   "source": [
    "### observation:  most expensive ones are full size car amd compact are cheaper"
   ]
  },
  {
   "cell_type": "code",
   "execution_count": 206,
   "metadata": {},
   "outputs": [
    {
     "data": {
      "image/png": "[encoded data removed]",
      "text/plain": [
       "<Figure size 720x360 with 1 Axes>"
      ]
     },
     "metadata": {
      "needs_background": "light"
     },
     "output_type": "display_data"
    }
   ],
   "source": [
    "plt.figure(figsize=(10,5))\n",
    "plt.ylim(0,50000)\n",
    "sns.boxplot(x=df.cylinders, y=df.price, palette=(\"deep\"),showmeans=True,meanprops={\"marker\":\"o\",\n",
    "                       \"markerfacecolor\":\"white\", \n",
    "                       \"markeredgecolor\":\"black\",\n",
    "                      \"markersize\":\"7\"})\n",
    "plt.title(\"Car Cylinder\")\n",
    "plt.xlabel('Cylinder')\n",
    "plt.xticks(rotation = 90)\n",
    "plt.ylabel('Price ')\n",
    "plt.show()"
   ]
  },
  {
   "cell_type": "markdown",
   "metadata": {},
   "source": [
    "### observation:  most expensive ones are with 10 cyclinders and cheaper ones are with 5 cyclinders not the 4"
   ]
  },
  {
   "cell_type": "code",
   "execution_count": 207,
   "metadata": {},
   "outputs": [
    {
     "data": {
      "image/png": "[encoded data removed]",
      "text/plain": [
       "<Figure size 720x360 with 1 Axes>"
      ]
     },
     "metadata": {
      "needs_background": "light"
     },
     "output_type": "display_data"
    }
   ],
   "source": [
    "plt.figure(figsize=(10,5))\n",
    "plt.ylim(0,50000)\n",
    "sns.boxplot(x=df.type, y=df.price, palette=(\"bright\"),showmeans=True,meanprops={\"marker\":\"o\",\n",
    "                       \"markerfacecolor\":\"white\", \n",
    "                       \"markeredgecolor\":\"black\",\n",
    "                      \"markersize\":\"7\"})\n",
    "plt.title(\"Car Types\")\n",
    "plt.xlabel('Types')\n",
    "plt.xticks(rotation = 90)\n",
    "plt.ylabel('Price ')\n",
    "plt.show()"
   ]
  },
  {
   "cell_type": "markdown",
   "metadata": {},
   "source": [
    "### observation:  most expensive ones are truck  ( Expensive than Bus.) on the cheaper side sedan and hatchback cars shows same"
   ]
  },
  {
   "cell_type": "code",
   "execution_count": 208,
   "metadata": {},
   "outputs": [
    {
     "data": {
      "image/png": "[encoded data removed]",
      "text/plain": [
       "<Figure size 1080x360 with 1 Axes>"
      ]
     },
     "metadata": {
      "needs_background": "light"
     },
     "output_type": "display_data"
    }
   ],
   "source": [
    "plt.figure(figsize=(15,5))\n",
    "plt.ylim(0,50000)\n",
    "sns.boxplot(x=df.manufacturer, y=df.price, palette=(\"dark\"),showmeans=True,meanprops={\"marker\":\"o\",\n",
    "                       \"markerfacecolor\":\"white\", \n",
    "                       \"markeredgecolor\":\"black\",\n",
    "                      \"markersize\":\"7\"})\n",
    "plt.title(\"Car Manufacturers\")\n",
    "plt.xlabel('Manufacturer')\n",
    "plt.xticks(rotation = 90)\n",
    "plt.ylabel('Price ')\n",
    "plt.show()"
   ]
  },
  {
   "cell_type": "markdown",
   "metadata": {},
   "source": [
    "### observation:  most expensive ones tesla as expected and cheaper ones are saturn"
   ]
  },
  {
   "cell_type": "code",
   "execution_count": 209,
   "metadata": {},
   "outputs": [
    {
     "data": {
      "image/png": "[encoded data removed]",
      "text/plain": [
       "<Figure size 1080x360 with 1 Axes>"
      ]
     },
     "metadata": {
      "needs_background": "light"
     },
     "output_type": "display_data"
    }
   ],
   "source": [
    "plt.figure(figsize=(15,5))\n",
    "plt.ylim(0,50000)\n",
    "sns.boxplot(x=df.state, y=df.price, palette=(\"bright\"),showmeans=True,meanprops={\"marker\":\"o\",\n",
    "                       \"markerfacecolor\":\"white\", \n",
    "                       \"markeredgecolor\":\"black\",\n",
    "                      \"markersize\":\"7\"})\n",
    "plt.title(\"Car States\")\n",
    "plt.xlabel('States')\n",
    "plt.xticks(rotation = 90)\n",
    "plt.ylabel('Price')\n",
    "plt.show()"
   ]
  },
  {
   "cell_type": "markdown",
   "metadata": {},
   "source": [
    "### observation:  cheaper used cars are available in DC,Arkansas,South Dakota"
   ]
  },
  {
   "cell_type": "code",
   "execution_count": 210,
   "metadata": {},
   "outputs": [
    {
     "data": {
      "image/png": "[encoded data removed]",
      "text/plain": [
       "<Figure size 720x360 with 1 Axes>"
      ]
     },
     "metadata": {
      "needs_background": "light"
     },
     "output_type": "display_data"
    }
   ],
   "source": [
    "plt.figure(figsize=(10,5))\n",
    "plt.ylim(0,50000)\n",
    "sns.boxplot(x=df.transmission, y=df.price, palette=(\"muted\"),showmeans=True,meanprops={\"marker\":\"o\",\n",
    "                       \"markerfacecolor\":\"white\", \n",
    "                       \"markeredgecolor\":\"black\",\n",
    "                      \"markersize\":\"7\"})\n",
    "plt.title(\"Car Transmission\")\n",
    "plt.xlabel('transmission')\n",
    "plt.ylabel('Price ')\n",
    "plt.show()"
   ]
  },
  {
   "cell_type": "markdown",
   "metadata": {},
   "source": [
    "### observation:  not much difference on transmission across all"
   ]
  },
  {
   "cell_type": "markdown",
   "metadata": {},
   "source": [
    "### categorical features Analysis and encoding"
   ]
  },
  {
   "cell_type": "code",
   "execution_count": 211,
   "metadata": {},
   "outputs": [],
   "source": [
    "#encoding categorical features\n",
    "fuel_encoded=pd.get_dummies(df['fuel'])\n",
    "cylinders_encoded=pd.get_dummies(df['cylinders'])\n",
    "type_encoded=pd.get_dummies(df['type'])\n",
    "transmission_encoded=pd.get_dummies(df['transmission'])\n",
    "manufacturer_encoded=pd.get_dummies(df['manufacturer'])\n",
    "state_encoded=pd.get_dummies(df['state'])\n",
    "size_encoded=pd.get_dummies(df['size'])\n",
    "paint_color_encoded=pd.get_dummies(df['paint_color'])\n",
    "title_status_encoded=pd.get_dummies(df['title_status'])\n",
    "drive_encoded=pd.get_dummies(df['drive'])\n",
    "df1=pd.concat([df,fuel_encoded,cylinders_encoded,type_encoded,transmission_encoded,manufacturer_encoded,state_encoded,\n",
    "               size_encoded,paint_color_encoded,title_status_encoded,drive_encoded],axis=1)"
   ]
  },
  {
   "cell_type": "code",
   "execution_count": 212,
   "metadata": {},
   "outputs": [
    {
     "data": {
      "text/html": [
       "<div>\n",
       "<style scoped>\n",
       "    .dataframe tbody tr th:only-of-type {\n",
       "        vertical-align: middle;\n",
       "    }\n",
       "\n",
       "    .dataframe tbody tr th {\n",
       "        vertical-align: top;\n",
       "    }\n",
       "\n",
       "    .dataframe thead th {\n",
       "        text-align: right;\n",
       "    }\n",
       "</style>\n",
       "<table border=\"1\" class=\"dataframe\">\n",
       "  <thead>\n",
       "    <tr style=\"text-align: right;\">\n",
       "      <th></th>\n",
       "      <th>id</th>\n",
       "      <th>region</th>\n",
       "      <th>price</th>\n",
       "      <th>year</th>\n",
       "      <th>manufacturer</th>\n",
       "      <th>model</th>\n",
       "      <th>condition</th>\n",
       "      <th>cylinders</th>\n",
       "      <th>fuel</th>\n",
       "      <th>odometer</th>\n",
       "      <th>...</th>\n",
       "      <th>yellow</th>\n",
       "      <th>clean</th>\n",
       "      <th>lien</th>\n",
       "      <th>missing</th>\n",
       "      <th>parts only</th>\n",
       "      <th>rebuilt</th>\n",
       "      <th>salvage</th>\n",
       "      <th>4wd</th>\n",
       "      <th>fwd</th>\n",
       "      <th>rwd</th>\n",
       "    </tr>\n",
       "  </thead>\n",
       "  <tbody>\n",
       "    <tr>\n",
       "      <th>215</th>\n",
       "      <td>7316482063</td>\n",
       "      <td>birmingham</td>\n",
       "      <td>4000</td>\n",
       "      <td>2002.0</td>\n",
       "      <td>toyota</td>\n",
       "      <td>echo</td>\n",
       "      <td>excellent</td>\n",
       "      <td>4 cylinders</td>\n",
       "      <td>gas</td>\n",
       "      <td>155000.0</td>\n",
       "      <td>...</td>\n",
       "      <td>0</td>\n",
       "      <td>1</td>\n",
       "      <td>0</td>\n",
       "      <td>0</td>\n",
       "      <td>0</td>\n",
       "      <td>0</td>\n",
       "      <td>0</td>\n",
       "      <td>0</td>\n",
       "      <td>1</td>\n",
       "      <td>0</td>\n",
       "    </tr>\n",
       "    <tr>\n",
       "      <th>268</th>\n",
       "      <td>7315946365</td>\n",
       "      <td>birmingham</td>\n",
       "      <td>9000</td>\n",
       "      <td>2008.0</td>\n",
       "      <td>mazda</td>\n",
       "      <td>miata mx-5</td>\n",
       "      <td>excellent</td>\n",
       "      <td>4 cylinders</td>\n",
       "      <td>gas</td>\n",
       "      <td>56700.0</td>\n",
       "      <td>...</td>\n",
       "      <td>0</td>\n",
       "      <td>1</td>\n",
       "      <td>0</td>\n",
       "      <td>0</td>\n",
       "      <td>0</td>\n",
       "      <td>0</td>\n",
       "      <td>0</td>\n",
       "      <td>0</td>\n",
       "      <td>0</td>\n",
       "      <td>1</td>\n",
       "    </tr>\n",
       "    <tr>\n",
       "      <th>337</th>\n",
       "      <td>7315354216</td>\n",
       "      <td>birmingham</td>\n",
       "      <td>8950</td>\n",
       "      <td>2011.0</td>\n",
       "      <td>ford</td>\n",
       "      <td>f-150</td>\n",
       "      <td>excellent</td>\n",
       "      <td>6 cylinders</td>\n",
       "      <td>gas</td>\n",
       "      <td>164000.0</td>\n",
       "      <td>...</td>\n",
       "      <td>0</td>\n",
       "      <td>1</td>\n",
       "      <td>0</td>\n",
       "      <td>0</td>\n",
       "      <td>0</td>\n",
       "      <td>0</td>\n",
       "      <td>0</td>\n",
       "      <td>0</td>\n",
       "      <td>1</td>\n",
       "      <td>0</td>\n",
       "    </tr>\n",
       "    <tr>\n",
       "      <th>355</th>\n",
       "      <td>7315110575</td>\n",
       "      <td>birmingham</td>\n",
       "      <td>9400</td>\n",
       "      <td>2008.0</td>\n",
       "      <td>mercedes-benz</td>\n",
       "      <td>benz c350</td>\n",
       "      <td>good</td>\n",
       "      <td>6 cylinders</td>\n",
       "      <td>gas</td>\n",
       "      <td>129473.0</td>\n",
       "      <td>...</td>\n",
       "      <td>0</td>\n",
       "      <td>1</td>\n",
       "      <td>0</td>\n",
       "      <td>0</td>\n",
       "      <td>0</td>\n",
       "      <td>0</td>\n",
       "      <td>0</td>\n",
       "      <td>0</td>\n",
       "      <td>0</td>\n",
       "      <td>1</td>\n",
       "    </tr>\n",
       "    <tr>\n",
       "      <th>364</th>\n",
       "      <td>7314967754</td>\n",
       "      <td>birmingham</td>\n",
       "      <td>7300</td>\n",
       "      <td>2007.0</td>\n",
       "      <td>lexus</td>\n",
       "      <td>rx350</td>\n",
       "      <td>good</td>\n",
       "      <td>6 cylinders</td>\n",
       "      <td>gas</td>\n",
       "      <td>181000.0</td>\n",
       "      <td>...</td>\n",
       "      <td>0</td>\n",
       "      <td>1</td>\n",
       "      <td>0</td>\n",
       "      <td>0</td>\n",
       "      <td>0</td>\n",
       "      <td>0</td>\n",
       "      <td>0</td>\n",
       "      <td>0</td>\n",
       "      <td>1</td>\n",
       "      <td>0</td>\n",
       "    </tr>\n",
       "  </tbody>\n",
       "</table>\n",
       "<p>5 rows × 161 columns</p>\n",
       "</div>"
      ],
      "text/plain": [
       "             id      region  price    year   manufacturer       model  \\\n",
       "215  7316482063  birmingham   4000  2002.0         toyota        echo   \n",
       "268  7315946365  birmingham   9000  2008.0          mazda  miata mx-5   \n",
       "337  7315354216  birmingham   8950  2011.0           ford       f-150   \n",
       "355  7315110575  birmingham   9400  2008.0  mercedes-benz   benz c350   \n",
       "364  7314967754  birmingham   7300  2007.0          lexus       rx350   \n",
       "\n",
       "     condition    cylinders fuel  odometer  ... yellow clean lien missing  \\\n",
       "215  excellent  4 cylinders  gas  155000.0  ...      0     1    0       0   \n",
       "268  excellent  4 cylinders  gas   56700.0  ...      0     1    0       0   \n",
       "337  excellent  6 cylinders  gas  164000.0  ...      0     1    0       0   \n",
       "355       good  6 cylinders  gas  129473.0  ...      0     1    0       0   \n",
       "364       good  6 cylinders  gas  181000.0  ...      0     1    0       0   \n",
       "\n",
       "    parts only rebuilt salvage 4wd  fwd  rwd  \n",
       "215          0       0       0   0    1    0  \n",
       "268          0       0       0   0    0    1  \n",
       "337          0       0       0   0    1    0  \n",
       "355          0       0       0   0    0    1  \n",
       "364          0       0       0   0    1    0  \n",
       "\n",
       "[5 rows x 161 columns]"
      ]
     },
     "execution_count": 212,
     "metadata": {},
     "output_type": "execute_result"
    }
   ],
   "source": [
    "df1.head()"
   ]
  },
  {
   "cell_type": "code",
   "execution_count": 109,
   "metadata": {},
   "outputs": [],
   "source": [
    "#ordinal features \n",
    "#The column \"condition\" is ordered values, so a numeric value representing the scale can be used\n"
   ]
  },
  {
   "cell_type": "code",
   "execution_count": 213,
   "metadata": {},
   "outputs": [
    {
     "data": {
      "text/plain": [
       "array([[3.],\n",
       "       [3.],\n",
       "       [3.],\n",
       "       ...,\n",
       "       [4.],\n",
       "       [3.],\n",
       "       [3.]])"
      ]
     },
     "execution_count": 213,
     "metadata": {},
     "output_type": "execute_result"
    }
   ],
   "source": [
    "oe = OrdinalEncoder(categories = [['salvage', 'fair', 'good', 'excellent', 'like new','new']])\n",
    "oe.fit_transform(df[['condition']])"
   ]
  },
  {
   "cell_type": "code",
   "execution_count": 214,
   "metadata": {},
   "outputs": [],
   "source": [
    "ordinal_ohe_transformer = make_column_transformer((OrdinalEncoder(categories = [['salvage', 'fair', 'good', 'excellent', 'like new','new']]), ['condition']),\n",
    "                                          remainder='passthrough')"
   ]
  },
  {
   "cell_type": "code",
   "execution_count": 215,
   "metadata": {},
   "outputs": [],
   "source": [
    "df1['price']=df1['price'].div(10000)"
   ]
  },
  {
   "cell_type": "code",
   "execution_count": 216,
   "metadata": {},
   "outputs": [
    {
     "data": {
      "text/plain": [
       "count    29250.000000\n",
       "mean         1.625994\n",
       "std          1.056969\n",
       "min          0.089500\n",
       "25%          0.799000\n",
       "50%          1.349900\n",
       "75%          2.290000\n",
       "max          4.779500\n",
       "Name: price, dtype: float64"
      ]
     },
     "execution_count": 216,
     "metadata": {},
     "output_type": "execute_result"
    }
   ],
   "source": [
    "df1['price'].describe()"
   ]
  },
  {
   "cell_type": "code",
   "execution_count": 217,
   "metadata": {},
   "outputs": [],
   "source": [
    "df1['odometer']=df1['odometer'].div(100000)"
   ]
  },
  {
   "cell_type": "code",
   "execution_count": 218,
   "metadata": {},
   "outputs": [
    {
     "data": {
      "text/plain": [
       "count    29250.000000\n",
       "mean         1.093473\n",
       "std          0.518049\n",
       "min          0.009140\n",
       "25%          0.728490\n",
       "50%          1.085165\n",
       "75%          1.435837\n",
       "max          2.540610\n",
       "Name: odometer, dtype: float64"
      ]
     },
     "execution_count": 218,
     "metadata": {},
     "output_type": "execute_result"
    }
   ],
   "source": [
    "df1['odometer'].describe()"
   ]
  },
  {
   "cell_type": "code",
   "execution_count": 219,
   "metadata": {},
   "outputs": [],
   "source": [
    "\n",
    "df1['year']=df1['year'].div(1000)"
   ]
  },
  {
   "cell_type": "code",
   "execution_count": 220,
   "metadata": {},
   "outputs": [
    {
     "data": {
      "text/plain": [
       "count    29250.000000\n",
       "mean         2.011582\n",
       "std          0.004757\n",
       "min          1.998000\n",
       "25%          2.008000\n",
       "50%          2.012000\n",
       "75%          2.015000\n",
       "max          2.021000\n",
       "Name: year, dtype: float64"
      ]
     },
     "execution_count": 220,
     "metadata": {},
     "output_type": "execute_result"
    }
   ],
   "source": [
    "df1['year'].describe()"
   ]
  },
  {
   "cell_type": "markdown",
   "metadata": {},
   "source": [
    "### Splitting the variables\n",
    "### Splitting the dependent variable from the independent variables and assigning them to y and X respectively was done as follows:"
   ]
  },
  {
   "cell_type": "code",
   "execution_count": 221,
   "metadata": {},
   "outputs": [],
   "source": [
    "X=df1.drop(['id','region','price','manufacturer','model','cylinders','fuel','type','transmission','state','size',\n",
    "            'paint_color','drive','title_status','VIN'], axis = 1)\n",
    "y = df1['price']"
   ]
  },
  {
   "cell_type": "markdown",
   "metadata": {},
   "source": [
    "### Modeling"
   ]
  },
  {
   "cell_type": "code",
   "execution_count": 222,
   "metadata": {},
   "outputs": [],
   "source": [
    "X_train, X_test, y_train, y_test =train_test_split( X, y, test_size=0.3, random_state=22)"
   ]
  },
  {
   "cell_type": "markdown",
   "metadata": {},
   "source": [
    "### Since X has 145 column set we will try to reduce the number of columns using simple piple line model and use the \n",
    "permutations importance function. and keep the importance greather than 0"
   ]
  },
  {
   "cell_type": "code",
   "execution_count": 223,
   "metadata": {},
   "outputs": [
    {
     "data": {
      "text/html": [
       "<style>#sk-93f62914-9bdd-44b8-a96d-9d619a2bcd09 {color: black;background-color: white;}#sk-93f62914-9bdd-44b8-a96d-9d619a2bcd09 pre{padding: 0;}#sk-93f62914-9bdd-44b8-a96d-9d619a2bcd09 div.sk-toggleable {background-color: white;}#sk-93f62914-9bdd-44b8-a96d-9d619a2bcd09 label.sk-toggleable__label {cursor: pointer;display: block;width: 100%;margin-bottom: 0;padding: 0.3em;box-sizing: border-box;text-align: center;}#sk-93f62914-9bdd-44b8-a96d-9d619a2bcd09 label.sk-toggleable__label-arrow:before {content: \"▸\";float: left;margin-right: 0.25em;color: #696969;}#sk-93f62914-9bdd-44b8-a96d-9d619a2bcd09 label.sk-toggleable__label-arrow:hover:before {color: black;}#sk-93f62914-9bdd-44b8-a96d-9d619a2bcd09 div.sk-estimator:hover label.sk-toggleable__label-arrow:before {color: black;}#sk-93f62914-9bdd-44b8-a96d-9d619a2bcd09 div.sk-toggleable__content {max-height: 0;max-width: 0;overflow: hidden;text-align: left;background-color: #f0f8ff;}#sk-93f62914-9bdd-44b8-a96d-9d619a2bcd09 div.sk-toggleable__content pre {margin: 0.2em;color: black;border-radius: 0.25em;background-color: #f0f8ff;}#sk-93f62914-9bdd-44b8-a96d-9d619a2bcd09 input.sk-toggleable__control:checked~div.sk-toggleable__content {max-height: 200px;max-width: 100%;overflow: auto;}#sk-93f62914-9bdd-44b8-a96d-9d619a2bcd09 input.sk-toggleable__control:checked~label.sk-toggleable__label-arrow:before {content: \"▾\";}#sk-93f62914-9bdd-44b8-a96d-9d619a2bcd09 div.sk-estimator input.sk-toggleable__control:checked~label.sk-toggleable__label {background-color: #d4ebff;}#sk-93f62914-9bdd-44b8-a96d-9d619a2bcd09 div.sk-label input.sk-toggleable__control:checked~label.sk-toggleable__label {background-color: #d4ebff;}#sk-93f62914-9bdd-44b8-a96d-9d619a2bcd09 input.sk-hidden--visually {border: 0;clip: rect(1px 1px 1px 1px);clip: rect(1px, 1px, 1px, 1px);height: 1px;margin: -1px;overflow: hidden;padding: 0;position: absolute;width: 1px;}#sk-93f62914-9bdd-44b8-a96d-9d619a2bcd09 div.sk-estimator {font-family: monospace;background-color: #f0f8ff;border: 1px dotted black;border-radius: 0.25em;box-sizing: border-box;margin-bottom: 0.5em;}#sk-93f62914-9bdd-44b8-a96d-9d619a2bcd09 div.sk-estimator:hover {background-color: #d4ebff;}#sk-93f62914-9bdd-44b8-a96d-9d619a2bcd09 div.sk-parallel-item::after {content: \"\";width: 100%;border-bottom: 1px solid gray;flex-grow: 1;}#sk-93f62914-9bdd-44b8-a96d-9d619a2bcd09 div.sk-label:hover label.sk-toggleable__label {background-color: #d4ebff;}#sk-93f62914-9bdd-44b8-a96d-9d619a2bcd09 div.sk-serial::before {content: \"\";position: absolute;border-left: 1px solid gray;box-sizing: border-box;top: 2em;bottom: 0;left: 50%;}#sk-93f62914-9bdd-44b8-a96d-9d619a2bcd09 div.sk-serial {display: flex;flex-direction: column;align-items: center;background-color: white;padding-right: 0.2em;padding-left: 0.2em;}#sk-93f62914-9bdd-44b8-a96d-9d619a2bcd09 div.sk-item {z-index: 1;}#sk-93f62914-9bdd-44b8-a96d-9d619a2bcd09 div.sk-parallel {display: flex;align-items: stretch;justify-content: center;background-color: white;}#sk-93f62914-9bdd-44b8-a96d-9d619a2bcd09 div.sk-parallel::before {content: \"\";position: absolute;border-left: 1px solid gray;box-sizing: border-box;top: 2em;bottom: 0;left: 50%;}#sk-93f62914-9bdd-44b8-a96d-9d619a2bcd09 div.sk-parallel-item {display: flex;flex-direction: column;position: relative;background-color: white;}#sk-93f62914-9bdd-44b8-a96d-9d619a2bcd09 div.sk-parallel-item:first-child::after {align-self: flex-end;width: 50%;}#sk-93f62914-9bdd-44b8-a96d-9d619a2bcd09 div.sk-parallel-item:last-child::after {align-self: flex-start;width: 50%;}#sk-93f62914-9bdd-44b8-a96d-9d619a2bcd09 div.sk-parallel-item:only-child::after {width: 0;}#sk-93f62914-9bdd-44b8-a96d-9d619a2bcd09 div.sk-dashed-wrapped {border: 1px dashed gray;margin: 0 0.4em 0.5em 0.4em;box-sizing: border-box;padding-bottom: 0.4em;background-color: white;position: relative;}#sk-93f62914-9bdd-44b8-a96d-9d619a2bcd09 div.sk-label label {font-family: monospace;font-weight: bold;background-color: white;display: inline-block;line-height: 1.2em;}#sk-93f62914-9bdd-44b8-a96d-9d619a2bcd09 div.sk-label-container {position: relative;z-index: 2;text-align: center;}#sk-93f62914-9bdd-44b8-a96d-9d619a2bcd09 div.sk-container {/* jupyter's `normalize.less` sets `[hidden] { display: none; }` but bootstrap.min.css set `[hidden] { display: none !important; }` so we also need the `!important` here to be able to override the default hidden behavior on the sphinx rendered scikit-learn.org. See: https://github.com/scikit-learn/scikit-learn/issues/21755 */display: inline-block !important;position: relative;}#sk-93f62914-9bdd-44b8-a96d-9d619a2bcd09 div.sk-text-repr-fallback {display: none;}</style><div id=\"sk-93f62914-9bdd-44b8-a96d-9d619a2bcd09\" class=\"sk-top-container\"><div class=\"sk-text-repr-fallback\"><pre>Pipeline(steps=[(&#x27;transformer&#x27;,\n",
       "                 ColumnTransformer(remainder=&#x27;passthrough&#x27;,\n",
       "                                   transformers=[(&#x27;ordinalencoder&#x27;,\n",
       "                                                  OrdinalEncoder(categories=[[&#x27;salvage&#x27;,\n",
       "                                                                              &#x27;fair&#x27;,\n",
       "                                                                              &#x27;good&#x27;,\n",
       "                                                                              &#x27;excellent&#x27;,\n",
       "                                                                              &#x27;like &#x27;\n",
       "                                                                              &#x27;new&#x27;,\n",
       "                                                                              &#x27;new&#x27;]]),\n",
       "                                                  [&#x27;condition&#x27;])])),\n",
       "                (&#x27;scale&#x27;, StandardScaler()), (&#x27;linear&#x27;, LinearRegression())])</pre><b>Please rerun this cell to show the HTML repr or trust the notebook.</b></div><div class=\"sk-container\" hidden><div class=\"sk-item sk-dashed-wrapped\"><div class=\"sk-label-container\"><div class=\"sk-label sk-toggleable\"><input class=\"sk-toggleable__control sk-hidden--visually\" id=\"e001be52-b515-4a08-9181-3a28425f4ff1\" type=\"checkbox\" ><label for=\"e001be52-b515-4a08-9181-3a28425f4ff1\" class=\"sk-toggleable__label sk-toggleable__label-arrow\">Pipeline</label><div class=\"sk-toggleable__content\"><pre>Pipeline(steps=[(&#x27;transformer&#x27;,\n",
       "                 ColumnTransformer(remainder=&#x27;passthrough&#x27;,\n",
       "                                   transformers=[(&#x27;ordinalencoder&#x27;,\n",
       "                                                  OrdinalEncoder(categories=[[&#x27;salvage&#x27;,\n",
       "                                                                              &#x27;fair&#x27;,\n",
       "                                                                              &#x27;good&#x27;,\n",
       "                                                                              &#x27;excellent&#x27;,\n",
       "                                                                              &#x27;like &#x27;\n",
       "                                                                              &#x27;new&#x27;,\n",
       "                                                                              &#x27;new&#x27;]]),\n",
       "                                                  [&#x27;condition&#x27;])])),\n",
       "                (&#x27;scale&#x27;, StandardScaler()), (&#x27;linear&#x27;, LinearRegression())])</pre></div></div></div><div class=\"sk-serial\"><div class=\"sk-item sk-dashed-wrapped\"><div class=\"sk-label-container\"><div class=\"sk-label sk-toggleable\"><input class=\"sk-toggleable__control sk-hidden--visually\" id=\"920bd31e-92c6-4034-bdf1-d9695530d959\" type=\"checkbox\" ><label for=\"920bd31e-92c6-4034-bdf1-d9695530d959\" class=\"sk-toggleable__label sk-toggleable__label-arrow\">transformer: ColumnTransformer</label><div class=\"sk-toggleable__content\"><pre>ColumnTransformer(remainder=&#x27;passthrough&#x27;,\n",
       "                  transformers=[(&#x27;ordinalencoder&#x27;,\n",
       "                                 OrdinalEncoder(categories=[[&#x27;salvage&#x27;, &#x27;fair&#x27;,\n",
       "                                                             &#x27;good&#x27;,\n",
       "                                                             &#x27;excellent&#x27;,\n",
       "                                                             &#x27;like new&#x27;,\n",
       "                                                             &#x27;new&#x27;]]),\n",
       "                                 [&#x27;condition&#x27;])])</pre></div></div></div><div class=\"sk-parallel\"><div class=\"sk-parallel-item\"><div class=\"sk-item\"><div class=\"sk-label-container\"><div class=\"sk-label sk-toggleable\"><input class=\"sk-toggleable__control sk-hidden--visually\" id=\"2ca39141-503d-49c1-b95f-998fbe014397\" type=\"checkbox\" ><label for=\"2ca39141-503d-49c1-b95f-998fbe014397\" class=\"sk-toggleable__label sk-toggleable__label-arrow\">ordinalencoder</label><div class=\"sk-toggleable__content\"><pre>[&#x27;condition&#x27;]</pre></div></div></div><div class=\"sk-serial\"><div class=\"sk-item\"><div class=\"sk-estimator sk-toggleable\"><input class=\"sk-toggleable__control sk-hidden--visually\" id=\"9259e13e-dc80-4ed0-adfe-12cd2391ce5f\" type=\"checkbox\" ><label for=\"9259e13e-dc80-4ed0-adfe-12cd2391ce5f\" class=\"sk-toggleable__label sk-toggleable__label-arrow\">OrdinalEncoder</label><div class=\"sk-toggleable__content\"><pre>OrdinalEncoder(categories=[[&#x27;salvage&#x27;, &#x27;fair&#x27;, &#x27;good&#x27;, &#x27;excellent&#x27;, &#x27;like new&#x27;,\n",
       "                            &#x27;new&#x27;]])</pre></div></div></div></div></div></div><div class=\"sk-parallel-item\"><div class=\"sk-item\"><div class=\"sk-label-container\"><div class=\"sk-label sk-toggleable\"><input class=\"sk-toggleable__control sk-hidden--visually\" id=\"93c4a2ae-3b5f-4182-b3b3-c39ffe862570\" type=\"checkbox\" ><label for=\"93c4a2ae-3b5f-4182-b3b3-c39ffe862570\" class=\"sk-toggleable__label sk-toggleable__label-arrow\">remainder</label><div class=\"sk-toggleable__content\"><pre>[&#x27;year&#x27;, &#x27;odometer&#x27;, &#x27;diesel&#x27;, &#x27;electric&#x27;, &#x27;gas&#x27;, &#x27;hybrid&#x27;, &#x27;other_fuel&#x27;, &#x27;10 cylinders&#x27;, &#x27;12 cylinders&#x27;, &#x27;3 cylinders&#x27;, &#x27;4 cylinders&#x27;, &#x27;5 cylinders&#x27;, &#x27;6 cylinders&#x27;, &#x27;8 cylinders&#x27;, &#x27;other_cylinders&#x27;, &#x27;SUV&#x27;, &#x27;bus&#x27;, &#x27;convertible&#x27;, &#x27;coupe&#x27;, &#x27;hatchback&#x27;, &#x27;mini-van&#x27;, &#x27;offroad&#x27;, &#x27;other_type&#x27;, &#x27;pickup&#x27;, &#x27;sedan&#x27;, &#x27;truck&#x27;, &#x27;van&#x27;, &#x27;wagon&#x27;, &#x27;automatic&#x27;, &#x27;manual&#x27;, &#x27;other_transmission&#x27;, &#x27;acura&#x27;, &#x27;alfa-romeo&#x27;, &#x27;audi&#x27;, &#x27;bmw&#x27;, &#x27;buick&#x27;, &#x27;cadillac&#x27;, &#x27;chevrolet&#x27;, &#x27;chrysler&#x27;, &#x27;dodge&#x27;, &#x27;fiat&#x27;, &#x27;ford&#x27;, &#x27;gmc&#x27;, &#x27;harley-davidson&#x27;, &#x27;honda&#x27;, &#x27;hyundai&#x27;, &#x27;infiniti&#x27;, &#x27;jaguar&#x27;, &#x27;jeep&#x27;, &#x27;kia&#x27;, &#x27;land rover&#x27;, &#x27;lexus&#x27;, &#x27;lincoln&#x27;, &#x27;mazda&#x27;, &#x27;mercedes-benz&#x27;, &#x27;mercury&#x27;, &#x27;mini&#x27;, &#x27;mitsubishi&#x27;, &#x27;nissan&#x27;, &#x27;pontiac&#x27;, &#x27;porsche&#x27;, &#x27;ram&#x27;, &#x27;rover&#x27;, &#x27;saturn&#x27;, &#x27;subaru&#x27;, &#x27;tesla&#x27;, &#x27;toyota&#x27;, &#x27;volkswagen&#x27;, &#x27;volvo&#x27;, &#x27;ak&#x27;, &#x27;al&#x27;, &#x27;ar&#x27;, &#x27;az&#x27;, &#x27;ca&#x27;, &#x27;co&#x27;, &#x27;ct&#x27;, &#x27;dc&#x27;, &#x27;de&#x27;, &#x27;fl&#x27;, &#x27;ga&#x27;, &#x27;hi&#x27;, &#x27;ia&#x27;, &#x27;il&#x27;, &#x27;in&#x27;, &#x27;ks&#x27;, &#x27;ky&#x27;, &#x27;la&#x27;, &#x27;ma&#x27;, &#x27;md&#x27;, &#x27;me&#x27;, &#x27;mi&#x27;, &#x27;mn&#x27;, &#x27;mo&#x27;, &#x27;ms&#x27;, &#x27;mt&#x27;, &#x27;nc&#x27;, &#x27;nd&#x27;, &#x27;ne&#x27;, &#x27;nh&#x27;, &#x27;nj&#x27;, &#x27;nm&#x27;, &#x27;nv&#x27;, &#x27;ny&#x27;, &#x27;oh&#x27;, &#x27;ok&#x27;, &#x27;or&#x27;, &#x27;pa&#x27;, &#x27;ri&#x27;, &#x27;sc&#x27;, &#x27;sd&#x27;, &#x27;tn&#x27;, &#x27;tx&#x27;, &#x27;ut&#x27;, &#x27;va&#x27;, &#x27;vt&#x27;, &#x27;wa&#x27;, &#x27;wi&#x27;, &#x27;wv&#x27;, &#x27;wy&#x27;, &#x27;compact&#x27;, &#x27;full-size&#x27;, &#x27;mid-size&#x27;, &#x27;sub-compact&#x27;, &#x27;black&#x27;, &#x27;blue&#x27;, &#x27;brown&#x27;, &#x27;custom&#x27;, &#x27;green&#x27;, &#x27;grey&#x27;, &#x27;orange&#x27;, &#x27;purple&#x27;, &#x27;red&#x27;, &#x27;silver&#x27;, &#x27;white&#x27;, &#x27;yellow&#x27;, &#x27;clean&#x27;, &#x27;lien&#x27;, &#x27;missing&#x27;, &#x27;parts only&#x27;, &#x27;rebuilt&#x27;, &#x27;salvage&#x27;, &#x27;4wd&#x27;, &#x27;fwd&#x27;, &#x27;rwd&#x27;]</pre></div></div></div><div class=\"sk-serial\"><div class=\"sk-item\"><div class=\"sk-estimator sk-toggleable\"><input class=\"sk-toggleable__control sk-hidden--visually\" id=\"38a79253-f040-40fc-9ccf-f76d18751374\" type=\"checkbox\" ><label for=\"38a79253-f040-40fc-9ccf-f76d18751374\" class=\"sk-toggleable__label sk-toggleable__label-arrow\">passthrough</label><div class=\"sk-toggleable__content\"><pre>passthrough</pre></div></div></div></div></div></div></div></div><div class=\"sk-item\"><div class=\"sk-estimator sk-toggleable\"><input class=\"sk-toggleable__control sk-hidden--visually\" id=\"21cb1a2c-b1b8-4b3a-bb7f-d4013354ed4d\" type=\"checkbox\" ><label for=\"21cb1a2c-b1b8-4b3a-bb7f-d4013354ed4d\" class=\"sk-toggleable__label sk-toggleable__label-arrow\">StandardScaler</label><div class=\"sk-toggleable__content\"><pre>StandardScaler()</pre></div></div></div><div class=\"sk-item\"><div class=\"sk-estimator sk-toggleable\"><input class=\"sk-toggleable__control sk-hidden--visually\" id=\"2e46e2c2-7c55-4b22-94cd-e63b7cd4190e\" type=\"checkbox\" ><label for=\"2e46e2c2-7c55-4b22-94cd-e63b7cd4190e\" class=\"sk-toggleable__label sk-toggleable__label-arrow\">LinearRegression</label><div class=\"sk-toggleable__content\"><pre>LinearRegression()</pre></div></div></div></div></div></div></div>"
      ],
      "text/plain": [
       "Pipeline(steps=[('transformer',\n",
       "                 ColumnTransformer(remainder='passthrough',\n",
       "                                   transformers=[('ordinalencoder',\n",
       "                                                  OrdinalEncoder(categories=[['salvage',\n",
       "                                                                              'fair',\n",
       "                                                                              'good',\n",
       "                                                                              'excellent',\n",
       "                                                                              'like '\n",
       "                                                                              'new',\n",
       "                                                                              'new']]),\n",
       "                                                  ['condition'])])),\n",
       "                ('scale', StandardScaler()), ('linear', LinearRegression())])"
      ]
     },
     "execution_count": 223,
     "metadata": {},
     "output_type": "execute_result"
    }
   ],
   "source": [
    "model = Pipeline([('transformer',ordinal_ohe_transformer),('scale', StandardScaler()), ('linear', LinearRegression())])\n",
    "model.fit(X_train, y_train)"
   ]
  },
  {
   "cell_type": "code",
   "execution_count": 224,
   "metadata": {},
   "outputs": [],
   "source": [
    "r = permutation_importance(model,X_test, y_test,n_repeats=30,random_state=0)    \n",
    "perm=pd.DataFrame({\"Column\":X.columns, \"Importance\":r.importances_mean}).sort_values(by = \"Importance\", ascending = False)"
   ]
  },
  {
   "cell_type": "code",
   "execution_count": 226,
   "metadata": {},
   "outputs": [
    {
     "data": {
      "text/html": [
       "<div>\n",
       "<style scoped>\n",
       "    .dataframe tbody tr th:only-of-type {\n",
       "        vertical-align: middle;\n",
       "    }\n",
       "\n",
       "    .dataframe tbody tr th {\n",
       "        vertical-align: top;\n",
       "    }\n",
       "\n",
       "    .dataframe thead th {\n",
       "        text-align: right;\n",
       "    }\n",
       "</style>\n",
       "<table border=\"1\" class=\"dataframe\">\n",
       "  <thead>\n",
       "    <tr style=\"text-align: right;\">\n",
       "      <th></th>\n",
       "      <th>Column</th>\n",
       "      <th>Importance</th>\n",
       "    </tr>\n",
       "  </thead>\n",
       "  <tbody>\n",
       "    <tr>\n",
       "      <th>29</th>\n",
       "      <td>automatic</td>\n",
       "      <td>1.798039e+23</td>\n",
       "    </tr>\n",
       "    <tr>\n",
       "      <th>30</th>\n",
       "      <td>manual</td>\n",
       "      <td>1.578303e+23</td>\n",
       "    </tr>\n",
       "    <tr>\n",
       "      <th>31</th>\n",
       "      <td>other_transmission</td>\n",
       "      <td>2.418313e+22</td>\n",
       "    </tr>\n",
       "    <tr>\n",
       "      <th>11</th>\n",
       "      <td>4 cylinders</td>\n",
       "      <td>1.910360e+22</td>\n",
       "    </tr>\n",
       "    <tr>\n",
       "      <th>13</th>\n",
       "      <td>6 cylinders</td>\n",
       "      <td>1.858296e+22</td>\n",
       "    </tr>\n",
       "    <tr>\n",
       "      <th>14</th>\n",
       "      <td>8 cylinders</td>\n",
       "      <td>1.707048e+22</td>\n",
       "    </tr>\n",
       "    <tr>\n",
       "      <th>16</th>\n",
       "      <td>SUV</td>\n",
       "      <td>1.514125e+22</td>\n",
       "    </tr>\n",
       "    <tr>\n",
       "      <th>25</th>\n",
       "      <td>sedan</td>\n",
       "      <td>1.434152e+22</td>\n",
       "    </tr>\n",
       "    <tr>\n",
       "      <th>26</th>\n",
       "      <td>truck</td>\n",
       "      <td>1.193921e+22</td>\n",
       "    </tr>\n",
       "    <tr>\n",
       "      <th>24</th>\n",
       "      <td>pickup</td>\n",
       "      <td>5.082696e+21</td>\n",
       "    </tr>\n",
       "    <tr>\n",
       "      <th>136</th>\n",
       "      <td>clean</td>\n",
       "      <td>4.120119e+21</td>\n",
       "    </tr>\n",
       "    <tr>\n",
       "      <th>27</th>\n",
       "      <td>van</td>\n",
       "      <td>3.843931e+21</td>\n",
       "    </tr>\n",
       "    <tr>\n",
       "      <th>5</th>\n",
       "      <td>gas</td>\n",
       "      <td>3.544040e+21</td>\n",
       "    </tr>\n",
       "    <tr>\n",
       "      <th>3</th>\n",
       "      <td>diesel</td>\n",
       "      <td>2.979883e+21</td>\n",
       "    </tr>\n",
       "    <tr>\n",
       "      <th>140</th>\n",
       "      <td>rebuilt</td>\n",
       "      <td>2.808133e+21</td>\n",
       "    </tr>\n",
       "    <tr>\n",
       "      <th>19</th>\n",
       "      <td>coupe</td>\n",
       "      <td>2.568984e+21</td>\n",
       "    </tr>\n",
       "    <tr>\n",
       "      <th>20</th>\n",
       "      <td>hatchback</td>\n",
       "      <td>2.335077e+21</td>\n",
       "    </tr>\n",
       "    <tr>\n",
       "      <th>28</th>\n",
       "      <td>wagon</td>\n",
       "      <td>1.613984e+21</td>\n",
       "    </tr>\n",
       "    <tr>\n",
       "      <th>18</th>\n",
       "      <td>convertible</td>\n",
       "      <td>1.556148e+21</td>\n",
       "    </tr>\n",
       "    <tr>\n",
       "      <th>21</th>\n",
       "      <td>mini-van</td>\n",
       "      <td>1.407143e+21</td>\n",
       "    </tr>\n",
       "  </tbody>\n",
       "</table>\n",
       "</div>"
      ],
      "text/plain": [
       "                 Column    Importance\n",
       "29            automatic  1.798039e+23\n",
       "30               manual  1.578303e+23\n",
       "31   other_transmission  2.418313e+22\n",
       "11          4 cylinders  1.910360e+22\n",
       "13          6 cylinders  1.858296e+22\n",
       "14          8 cylinders  1.707048e+22\n",
       "16                  SUV  1.514125e+22\n",
       "25                sedan  1.434152e+22\n",
       "26                truck  1.193921e+22\n",
       "24               pickup  5.082696e+21\n",
       "136               clean  4.120119e+21\n",
       "27                  van  3.843931e+21\n",
       "5                   gas  3.544040e+21\n",
       "3                diesel  2.979883e+21\n",
       "140             rebuilt  2.808133e+21\n",
       "19                coupe  2.568984e+21\n",
       "20            hatchback  2.335077e+21\n",
       "28                wagon  1.613984e+21\n",
       "18          convertible  1.556148e+21\n",
       "21             mini-van  1.407143e+21"
      ]
     },
     "execution_count": 226,
     "metadata": {},
     "output_type": "execute_result"
    }
   ],
   "source": [
    "perm.query('Importance>0.000').head(20)"
   ]
  },
  {
   "cell_type": "code",
   "execution_count": 227,
   "metadata": {},
   "outputs": [
    {
     "data": {
      "text/plain": [
       "array(['automatic', 'manual', 'other_transmission', '4 cylinders',\n",
       "       '6 cylinders', '8 cylinders', 'SUV', 'sedan', 'truck', 'pickup',\n",
       "       'clean', 'van', 'gas', 'diesel', 'rebuilt', 'coupe', 'hatchback',\n",
       "       'wagon', 'convertible', 'mini-van', 'white', '4wd', 'fwd',\n",
       "       '5 cylinders', 'black', 'salvage', '10 cylinders', 'silver', 'rwd',\n",
       "       'grey', 'ford', 'blue', 'hybrid', 'lien', 'red', 'chevrolet',\n",
       "       'toyota', 'other_cylinders', 'honda', 'nissan', 'custom',\n",
       "       'other_type', 'green', 'brown', '3 cylinders', 'offroad', 'jeep',\n",
       "       'gmc', 'ram', 'bus', 'electric', 'subaru', 'dodge', 'hyundai',\n",
       "       'bmw', 'volkswagen', 'mercedes-benz', 'kia', 'lexus', 'chrysler',\n",
       "       'cadillac', 'mitsubishi', 'yellow', 'audi', 'buick', 'mazda',\n",
       "       'other_fuel', 'volvo', 'infiniti', 'acura', 'lincoln', 'full-size',\n",
       "       'orange', 'mini', 'mid-size', 'pontiac', 'rover', 'saturn',\n",
       "       'porsche', '12 cylinders', 'compact', 'purple', 'mercury',\n",
       "       'jaguar', 'fiat', 'alfa-romeo', 'sub-compact', 'tesla',\n",
       "       'harley-davidson', 'year', 'odometer', 'ny', 'nj', 'oh', 'pa',\n",
       "       'vt', 'fl', 'wi', 'ma', 'condition', 'mn', 'ct', 'va', 'co', 'tx',\n",
       "       'az', 'ia', 'dc', 'ak', 'ks', 'ri', 'il', 'mi', 'in', 'nh', 'ky',\n",
       "       'me', 'nv', 'ga', 'wv', 'or', 'mt', 'la', 'al', 'ms', 'md', 'ar',\n",
       "       'ok', 'ut', 'nd', 'mo', 'sc', 'ne', 'hi', 'wa', 'nm'], dtype=object)"
      ]
     },
     "execution_count": 227,
     "metadata": {},
     "output_type": "execute_result"
    }
   ],
   "source": [
    "perm.query('Importance>0')['Column'].unique()"
   ]
  },
  {
   "cell_type": "code",
   "execution_count": 228,
   "metadata": {},
   "outputs": [],
   "source": [
    "X1=X[['gas', 'diesel', 'automatic', 'manual', 'SUV', 'sedan', '4wd',\n",
    "       'fwd', 'truck', 'hybrid', 'rwd', 'full-size', 'mid-size',\n",
    "       'other_transmission', 'pickup', 'clean', 'van', 'rebuilt',\n",
    "       'compact', 'coupe', 'hatchback', 'white', 'wagon', 'electric',\n",
    "       'black', 'convertible', 'mini-van', 'silver', 'grey', 'salvage',\n",
    "       'blue', 'red', 'lien', 'sub-compact', 'other_fuel', 'custom',\n",
    "       'green', 'brown', 'other_type', 'offroad', 'bus', 'yellow',\n",
    "       '4 cylinders', '6 cylinders', '8 cylinders', 'ford', 'chevrolet',\n",
    "       'orange', 'toyota', 'honda', 'purple', 'nissan', 'jeep', 'gmc',\n",
    "       'ram', 'subaru', 'dodge', 'hyundai', 'bmw', 'volkswagen',\n",
    "       'mercedes-benz', 'kia', 'lexus', 'chrysler', 'cadillac',\n",
    "       'mitsubishi', 'audi', 'buick', 'mazda', '5 cylinders', 'volvo',\n",
    "       '10 cylinders', 'infiniti', 'acura', 'lincoln', 'mini', 'pontiac',\n",
    "       'rover', 'saturn', 'porsche', 'mercury', 'other_cylinders',\n",
    "       'jaguar', 'fiat', '3 cylinders', 'alfa-romeo', 'tesla',\n",
    "       'harley-davidson', '12 cylinders', 'year', 'odometer', 'ny', 'nj',\n",
    "       'oh', 'pa', 'vt', 'fl', 'condition', 'ma', 'wi', 'mn', 'ct', 'va',\n",
    "       'co', 'tx', 'az', 'ia', 'dc', 'ks', 'ak', 'ri', 'mi', 'in', 'il',\n",
    "       'ky', 'nh', 'ga', 'me', 'nv', 'wv', 'or', 'mt', 'la', 'al', 'md',\n",
    "       'ar', 'ms', 'ok', 'mo', 'nd', 'ne', 'ut', 'hi', 'ca', 'nm', 'tn']]\n",
    "y=df1['price']"
   ]
  },
  {
   "cell_type": "markdown",
   "metadata": {},
   "source": [
    "### Modeling\n",
    "\n",
    "With your (almost?) final dataset in hand, it is now time to build some models.  Here, you should build a number of different regression models with the price as the target.  In building your models, you should explore different parameters and be sure to cross-validate your findings."
   ]
  },
  {
   "cell_type": "code",
   "execution_count": 229,
   "metadata": {},
   "outputs": [
    {
     "data": {
      "text/html": [
       "<style>#sk-b705929a-1708-4312-b2ae-c9cd462d561e {color: black;background-color: white;}#sk-b705929a-1708-4312-b2ae-c9cd462d561e pre{padding: 0;}#sk-b705929a-1708-4312-b2ae-c9cd462d561e div.sk-toggleable {background-color: white;}#sk-b705929a-1708-4312-b2ae-c9cd462d561e label.sk-toggleable__label {cursor: pointer;display: block;width: 100%;margin-bottom: 0;padding: 0.3em;box-sizing: border-box;text-align: center;}#sk-b705929a-1708-4312-b2ae-c9cd462d561e label.sk-toggleable__label-arrow:before {content: \"▸\";float: left;margin-right: 0.25em;color: #696969;}#sk-b705929a-1708-4312-b2ae-c9cd462d561e label.sk-toggleable__label-arrow:hover:before {color: black;}#sk-b705929a-1708-4312-b2ae-c9cd462d561e div.sk-estimator:hover label.sk-toggleable__label-arrow:before {color: black;}#sk-b705929a-1708-4312-b2ae-c9cd462d561e div.sk-toggleable__content {max-height: 0;max-width: 0;overflow: hidden;text-align: left;background-color: #f0f8ff;}#sk-b705929a-1708-4312-b2ae-c9cd462d561e div.sk-toggleable__content pre {margin: 0.2em;color: black;border-radius: 0.25em;background-color: #f0f8ff;}#sk-b705929a-1708-4312-b2ae-c9cd462d561e input.sk-toggleable__control:checked~div.sk-toggleable__content {max-height: 200px;max-width: 100%;overflow: auto;}#sk-b705929a-1708-4312-b2ae-c9cd462d561e input.sk-toggleable__control:checked~label.sk-toggleable__label-arrow:before {content: \"▾\";}#sk-b705929a-1708-4312-b2ae-c9cd462d561e div.sk-estimator input.sk-toggleable__control:checked~label.sk-toggleable__label {background-color: #d4ebff;}#sk-b705929a-1708-4312-b2ae-c9cd462d561e div.sk-label input.sk-toggleable__control:checked~label.sk-toggleable__label {background-color: #d4ebff;}#sk-b705929a-1708-4312-b2ae-c9cd462d561e input.sk-hidden--visually {border: 0;clip: rect(1px 1px 1px 1px);clip: rect(1px, 1px, 1px, 1px);height: 1px;margin: -1px;overflow: hidden;padding: 0;position: absolute;width: 1px;}#sk-b705929a-1708-4312-b2ae-c9cd462d561e div.sk-estimator {font-family: monospace;background-color: #f0f8ff;border: 1px dotted black;border-radius: 0.25em;box-sizing: border-box;margin-bottom: 0.5em;}#sk-b705929a-1708-4312-b2ae-c9cd462d561e div.sk-estimator:hover {background-color: #d4ebff;}#sk-b705929a-1708-4312-b2ae-c9cd462d561e div.sk-parallel-item::after {content: \"\";width: 100%;border-bottom: 1px solid gray;flex-grow: 1;}#sk-b705929a-1708-4312-b2ae-c9cd462d561e div.sk-label:hover label.sk-toggleable__label {background-color: #d4ebff;}#sk-b705929a-1708-4312-b2ae-c9cd462d561e div.sk-serial::before {content: \"\";position: absolute;border-left: 1px solid gray;box-sizing: border-box;top: 2em;bottom: 0;left: 50%;}#sk-b705929a-1708-4312-b2ae-c9cd462d561e div.sk-serial {display: flex;flex-direction: column;align-items: center;background-color: white;padding-right: 0.2em;padding-left: 0.2em;}#sk-b705929a-1708-4312-b2ae-c9cd462d561e div.sk-item {z-index: 1;}#sk-b705929a-1708-4312-b2ae-c9cd462d561e div.sk-parallel {display: flex;align-items: stretch;justify-content: center;background-color: white;}#sk-b705929a-1708-4312-b2ae-c9cd462d561e div.sk-parallel::before {content: \"\";position: absolute;border-left: 1px solid gray;box-sizing: border-box;top: 2em;bottom: 0;left: 50%;}#sk-b705929a-1708-4312-b2ae-c9cd462d561e div.sk-parallel-item {display: flex;flex-direction: column;position: relative;background-color: white;}#sk-b705929a-1708-4312-b2ae-c9cd462d561e div.sk-parallel-item:first-child::after {align-self: flex-end;width: 50%;}#sk-b705929a-1708-4312-b2ae-c9cd462d561e div.sk-parallel-item:last-child::after {align-self: flex-start;width: 50%;}#sk-b705929a-1708-4312-b2ae-c9cd462d561e div.sk-parallel-item:only-child::after {width: 0;}#sk-b705929a-1708-4312-b2ae-c9cd462d561e div.sk-dashed-wrapped {border: 1px dashed gray;margin: 0 0.4em 0.5em 0.4em;box-sizing: border-box;padding-bottom: 0.4em;background-color: white;position: relative;}#sk-b705929a-1708-4312-b2ae-c9cd462d561e div.sk-label label {font-family: monospace;font-weight: bold;background-color: white;display: inline-block;line-height: 1.2em;}#sk-b705929a-1708-4312-b2ae-c9cd462d561e div.sk-label-container {position: relative;z-index: 2;text-align: center;}#sk-b705929a-1708-4312-b2ae-c9cd462d561e div.sk-container {/* jupyter's `normalize.less` sets `[hidden] { display: none; }` but bootstrap.min.css set `[hidden] { display: none !important; }` so we also need the `!important` here to be able to override the default hidden behavior on the sphinx rendered scikit-learn.org. See: https://github.com/scikit-learn/scikit-learn/issues/21755 */display: inline-block !important;position: relative;}#sk-b705929a-1708-4312-b2ae-c9cd462d561e div.sk-text-repr-fallback {display: none;}</style><div id=\"sk-b705929a-1708-4312-b2ae-c9cd462d561e\" class=\"sk-top-container\"><div class=\"sk-text-repr-fallback\"><pre>Pipeline(steps=[(&#x27;transformer&#x27;,\n",
       "                 ColumnTransformer(remainder=&#x27;passthrough&#x27;,\n",
       "                                   transformers=[(&#x27;ordinalencoder&#x27;,\n",
       "                                                  OrdinalEncoder(categories=[[&#x27;salvage&#x27;,\n",
       "                                                                              &#x27;fair&#x27;,\n",
       "                                                                              &#x27;good&#x27;,\n",
       "                                                                              &#x27;excellent&#x27;,\n",
       "                                                                              &#x27;like &#x27;\n",
       "                                                                              &#x27;new&#x27;,\n",
       "                                                                              &#x27;new&#x27;]]),\n",
       "                                                  [&#x27;condition&#x27;])])),\n",
       "                (&#x27;scale&#x27;, StandardScaler()),\n",
       "                (&#x27;targetregressor&#x27;,\n",
       "                 TransformedTargetRegressor(func=&lt;ufunc &#x27;log1p&#x27;&gt;,\n",
       "                                            inverse_func=&lt;ufunc &#x27;expm1&#x27;&gt;,\n",
       "                                            regressor=Ridge()))])</pre><b>Please rerun this cell to show the HTML repr or trust the notebook.</b></div><div class=\"sk-container\" hidden><div class=\"sk-item sk-dashed-wrapped\"><div class=\"sk-label-container\"><div class=\"sk-label sk-toggleable\"><input class=\"sk-toggleable__control sk-hidden--visually\" id=\"f28259b3-1970-4468-b912-6a4f0aecaa4b\" type=\"checkbox\" ><label for=\"f28259b3-1970-4468-b912-6a4f0aecaa4b\" class=\"sk-toggleable__label sk-toggleable__label-arrow\">Pipeline</label><div class=\"sk-toggleable__content\"><pre>Pipeline(steps=[(&#x27;transformer&#x27;,\n",
       "                 ColumnTransformer(remainder=&#x27;passthrough&#x27;,\n",
       "                                   transformers=[(&#x27;ordinalencoder&#x27;,\n",
       "                                                  OrdinalEncoder(categories=[[&#x27;salvage&#x27;,\n",
       "                                                                              &#x27;fair&#x27;,\n",
       "                                                                              &#x27;good&#x27;,\n",
       "                                                                              &#x27;excellent&#x27;,\n",
       "                                                                              &#x27;like &#x27;\n",
       "                                                                              &#x27;new&#x27;,\n",
       "                                                                              &#x27;new&#x27;]]),\n",
       "                                                  [&#x27;condition&#x27;])])),\n",
       "                (&#x27;scale&#x27;, StandardScaler()),\n",
       "                (&#x27;targetregressor&#x27;,\n",
       "                 TransformedTargetRegressor(func=&lt;ufunc &#x27;log1p&#x27;&gt;,\n",
       "                                            inverse_func=&lt;ufunc &#x27;expm1&#x27;&gt;,\n",
       "                                            regressor=Ridge()))])</pre></div></div></div><div class=\"sk-serial\"><div class=\"sk-item sk-dashed-wrapped\"><div class=\"sk-label-container\"><div class=\"sk-label sk-toggleable\"><input class=\"sk-toggleable__control sk-hidden--visually\" id=\"6e340fa4-9eae-4536-81a3-2ac8e8a2c04f\" type=\"checkbox\" ><label for=\"6e340fa4-9eae-4536-81a3-2ac8e8a2c04f\" class=\"sk-toggleable__label sk-toggleable__label-arrow\">transformer: ColumnTransformer</label><div class=\"sk-toggleable__content\"><pre>ColumnTransformer(remainder=&#x27;passthrough&#x27;,\n",
       "                  transformers=[(&#x27;ordinalencoder&#x27;,\n",
       "                                 OrdinalEncoder(categories=[[&#x27;salvage&#x27;, &#x27;fair&#x27;,\n",
       "                                                             &#x27;good&#x27;,\n",
       "                                                             &#x27;excellent&#x27;,\n",
       "                                                             &#x27;like new&#x27;,\n",
       "                                                             &#x27;new&#x27;]]),\n",
       "                                 [&#x27;condition&#x27;])])</pre></div></div></div><div class=\"sk-parallel\"><div class=\"sk-parallel-item\"><div class=\"sk-item\"><div class=\"sk-label-container\"><div class=\"sk-label sk-toggleable\"><input class=\"sk-toggleable__control sk-hidden--visually\" id=\"f54348a9-d2e5-4f27-a3af-79e0339bb745\" type=\"checkbox\" ><label for=\"f54348a9-d2e5-4f27-a3af-79e0339bb745\" class=\"sk-toggleable__label sk-toggleable__label-arrow\">ordinalencoder</label><div class=\"sk-toggleable__content\"><pre>[&#x27;condition&#x27;]</pre></div></div></div><div class=\"sk-serial\"><div class=\"sk-item\"><div class=\"sk-estimator sk-toggleable\"><input class=\"sk-toggleable__control sk-hidden--visually\" id=\"ec3b826e-e22c-46e2-ae85-a03598277981\" type=\"checkbox\" ><label for=\"ec3b826e-e22c-46e2-ae85-a03598277981\" class=\"sk-toggleable__label sk-toggleable__label-arrow\">OrdinalEncoder</label><div class=\"sk-toggleable__content\"><pre>OrdinalEncoder(categories=[[&#x27;salvage&#x27;, &#x27;fair&#x27;, &#x27;good&#x27;, &#x27;excellent&#x27;, &#x27;like new&#x27;,\n",
       "                            &#x27;new&#x27;]])</pre></div></div></div></div></div></div><div class=\"sk-parallel-item\"><div class=\"sk-item\"><div class=\"sk-label-container\"><div class=\"sk-label sk-toggleable\"><input class=\"sk-toggleable__control sk-hidden--visually\" id=\"7711349a-0e72-40d0-bf0f-03067d982831\" type=\"checkbox\" ><label for=\"7711349a-0e72-40d0-bf0f-03067d982831\" class=\"sk-toggleable__label sk-toggleable__label-arrow\">remainder</label><div class=\"sk-toggleable__content\"><pre>[&#x27;year&#x27;, &#x27;odometer&#x27;, &#x27;diesel&#x27;, &#x27;electric&#x27;, &#x27;gas&#x27;, &#x27;hybrid&#x27;, &#x27;other_fuel&#x27;, &#x27;10 cylinders&#x27;, &#x27;12 cylinders&#x27;, &#x27;3 cylinders&#x27;, &#x27;4 cylinders&#x27;, &#x27;5 cylinders&#x27;, &#x27;6 cylinders&#x27;, &#x27;8 cylinders&#x27;, &#x27;other_cylinders&#x27;, &#x27;SUV&#x27;, &#x27;bus&#x27;, &#x27;convertible&#x27;, &#x27;coupe&#x27;, &#x27;hatchback&#x27;, &#x27;mini-van&#x27;, &#x27;offroad&#x27;, &#x27;other_type&#x27;, &#x27;pickup&#x27;, &#x27;sedan&#x27;, &#x27;truck&#x27;, &#x27;van&#x27;, &#x27;wagon&#x27;, &#x27;automatic&#x27;, &#x27;manual&#x27;, &#x27;other_transmission&#x27;, &#x27;acura&#x27;, &#x27;alfa-romeo&#x27;, &#x27;audi&#x27;, &#x27;bmw&#x27;, &#x27;buick&#x27;, &#x27;cadillac&#x27;, &#x27;chevrolet&#x27;, &#x27;chrysler&#x27;, &#x27;dodge&#x27;, &#x27;fiat&#x27;, &#x27;ford&#x27;, &#x27;gmc&#x27;, &#x27;harley-davidson&#x27;, &#x27;honda&#x27;, &#x27;hyundai&#x27;, &#x27;infiniti&#x27;, &#x27;jaguar&#x27;, &#x27;jeep&#x27;, &#x27;kia&#x27;, &#x27;land rover&#x27;, &#x27;lexus&#x27;, &#x27;lincoln&#x27;, &#x27;mazda&#x27;, &#x27;mercedes-benz&#x27;, &#x27;mercury&#x27;, &#x27;mini&#x27;, &#x27;mitsubishi&#x27;, &#x27;nissan&#x27;, &#x27;pontiac&#x27;, &#x27;porsche&#x27;, &#x27;ram&#x27;, &#x27;rover&#x27;, &#x27;saturn&#x27;, &#x27;subaru&#x27;, &#x27;tesla&#x27;, &#x27;toyota&#x27;, &#x27;volkswagen&#x27;, &#x27;volvo&#x27;, &#x27;ak&#x27;, &#x27;al&#x27;, &#x27;ar&#x27;, &#x27;az&#x27;, &#x27;ca&#x27;, &#x27;co&#x27;, &#x27;ct&#x27;, &#x27;dc&#x27;, &#x27;de&#x27;, &#x27;fl&#x27;, &#x27;ga&#x27;, &#x27;hi&#x27;, &#x27;ia&#x27;, &#x27;il&#x27;, &#x27;in&#x27;, &#x27;ks&#x27;, &#x27;ky&#x27;, &#x27;la&#x27;, &#x27;ma&#x27;, &#x27;md&#x27;, &#x27;me&#x27;, &#x27;mi&#x27;, &#x27;mn&#x27;, &#x27;mo&#x27;, &#x27;ms&#x27;, &#x27;mt&#x27;, &#x27;nc&#x27;, &#x27;nd&#x27;, &#x27;ne&#x27;, &#x27;nh&#x27;, &#x27;nj&#x27;, &#x27;nm&#x27;, &#x27;nv&#x27;, &#x27;ny&#x27;, &#x27;oh&#x27;, &#x27;ok&#x27;, &#x27;or&#x27;, &#x27;pa&#x27;, &#x27;ri&#x27;, &#x27;sc&#x27;, &#x27;sd&#x27;, &#x27;tn&#x27;, &#x27;tx&#x27;, &#x27;ut&#x27;, &#x27;va&#x27;, &#x27;vt&#x27;, &#x27;wa&#x27;, &#x27;wi&#x27;, &#x27;wv&#x27;, &#x27;wy&#x27;, &#x27;compact&#x27;, &#x27;full-size&#x27;, &#x27;mid-size&#x27;, &#x27;sub-compact&#x27;, &#x27;black&#x27;, &#x27;blue&#x27;, &#x27;brown&#x27;, &#x27;custom&#x27;, &#x27;green&#x27;, &#x27;grey&#x27;, &#x27;orange&#x27;, &#x27;purple&#x27;, &#x27;red&#x27;, &#x27;silver&#x27;, &#x27;white&#x27;, &#x27;yellow&#x27;, &#x27;clean&#x27;, &#x27;lien&#x27;, &#x27;missing&#x27;, &#x27;parts only&#x27;, &#x27;rebuilt&#x27;, &#x27;salvage&#x27;, &#x27;4wd&#x27;, &#x27;fwd&#x27;, &#x27;rwd&#x27;]</pre></div></div></div><div class=\"sk-serial\"><div class=\"sk-item\"><div class=\"sk-estimator sk-toggleable\"><input class=\"sk-toggleable__control sk-hidden--visually\" id=\"a7de78a3-b7b8-4f08-a0eb-6a91988e1198\" type=\"checkbox\" ><label for=\"a7de78a3-b7b8-4f08-a0eb-6a91988e1198\" class=\"sk-toggleable__label sk-toggleable__label-arrow\">passthrough</label><div class=\"sk-toggleable__content\"><pre>passthrough</pre></div></div></div></div></div></div></div></div><div class=\"sk-item\"><div class=\"sk-estimator sk-toggleable\"><input class=\"sk-toggleable__control sk-hidden--visually\" id=\"2fd88360-5820-4858-b697-f31cb4ef3b31\" type=\"checkbox\" ><label for=\"2fd88360-5820-4858-b697-f31cb4ef3b31\" class=\"sk-toggleable__label sk-toggleable__label-arrow\">StandardScaler</label><div class=\"sk-toggleable__content\"><pre>StandardScaler()</pre></div></div></div><div class=\"sk-item sk-dashed-wrapped\"><div class=\"sk-label-container\"><div class=\"sk-label sk-toggleable\"><input class=\"sk-toggleable__control sk-hidden--visually\" id=\"84392f81-ed56-4d64-950d-bf6afe3ac25d\" type=\"checkbox\" ><label for=\"84392f81-ed56-4d64-950d-bf6afe3ac25d\" class=\"sk-toggleable__label sk-toggleable__label-arrow\">targetregressor: TransformedTargetRegressor</label><div class=\"sk-toggleable__content\"><pre>TransformedTargetRegressor(func=&lt;ufunc &#x27;log1p&#x27;&gt;, inverse_func=&lt;ufunc &#x27;expm1&#x27;&gt;,\n",
       "                           regressor=Ridge())</pre></div></div></div><div class=\"sk-parallel\"><div class=\"sk-parallel-item\"><div class=\"sk-item\"><div class=\"sk-serial\"><div class=\"sk-item\"><div class=\"sk-estimator sk-toggleable\"><input class=\"sk-toggleable__control sk-hidden--visually\" id=\"0d968f80-7089-4d6d-9502-d9e9e97901fb\" type=\"checkbox\" ><label for=\"0d968f80-7089-4d6d-9502-d9e9e97901fb\" class=\"sk-toggleable__label sk-toggleable__label-arrow\">Ridge</label><div class=\"sk-toggleable__content\"><pre>Ridge()</pre></div></div></div></div></div></div></div></div></div></div></div></div>"
      ],
      "text/plain": [
       "Pipeline(steps=[('transformer',\n",
       "                 ColumnTransformer(remainder='passthrough',\n",
       "                                   transformers=[('ordinalencoder',\n",
       "                                                  OrdinalEncoder(categories=[['salvage',\n",
       "                                                                              'fair',\n",
       "                                                                              'good',\n",
       "                                                                              'excellent',\n",
       "                                                                              'like '\n",
       "                                                                              'new',\n",
       "                                                                              'new']]),\n",
       "                                                  ['condition'])])),\n",
       "                ('scale', StandardScaler()),\n",
       "                ('targetregressor',\n",
       "                 TransformedTargetRegressor(func=<ufunc 'log1p'>,\n",
       "                                            inverse_func=<ufunc 'expm1'>,\n",
       "                                            regressor=Ridge()))])"
      ]
     },
     "execution_count": 229,
     "metadata": {},
     "output_type": "execute_result"
    }
   ],
   "source": [
    "selector_pipe = Pipeline([('transformer',ordinal_ohe_transformer),('scale', StandardScaler()),('targetregressor',TransformedTargetRegressor(func=np.log1p,inverse_func=np.expm1,regressor= Ridge()))])\n",
    "selector_pipe"
   ]
  },
  {
   "cell_type": "code",
   "execution_count": 230,
   "metadata": {},
   "outputs": [],
   "source": [
    "model_param_dict={'targetregressor__regressor__alpha': [0.1, 1.0, 10.0, 100.0, 1000.0]}"
   ]
  },
  {
   "cell_type": "code",
   "execution_count": 231,
   "metadata": {},
   "outputs": [],
   "source": [
    "cv = KFold(n_splits=5,random_state=None, shuffle=False)\n",
    "model_grid = GridSearchCV(selector_pipe, param_grid=model_param_dict)\n",
    "scores1 = cross_val_score(model_grid, X1,y,scoring='neg_mean_squared_error',cv=cv)"
   ]
  },
  {
   "cell_type": "code",
   "execution_count": 234,
   "metadata": {},
   "outputs": [],
   "source": [
    "cv = KFold(n_splits=5,random_state=None, shuffle=False)\n",
    "model_grid = GridSearchCV(selector_pipe, param_grid=model_param_dict)\n",
    "scores2 = cross_val_score(model_grid, X1,y,scoring='r2',cv=cv)"
   ]
  },
  {
   "cell_type": "code",
   "execution_count": 235,
   "metadata": {},
   "outputs": [
    {
     "name": "stdout",
     "output_type": "stream",
     "text": [
      "K-Fold Cross Validation ‘neg_mean_squared_error scores: [-0.22082817 -0.2259608  -0.20629457 -0.19602111 -0.20871716]\n",
      "K-Fold Cross Validation ‘neg_mean_squared_error: -0.212 +/- 0.011\n",
      "K-Fold Cross Validation r^2 scores: [0.79208419 0.791741   0.82771156 0.80179281 0.82569863]\n",
      "K-Fold Cross Validation R^2: 0.808 +/- 0.016\n"
     ]
    }
   ],
   "source": [
    "print('K-Fold Cross Validation ‘neg_mean_squared_error scores: %s' % scores1)\n",
    "print('K-Fold Cross Validation ‘neg_mean_squared_error: %.3f +/- %.3f' % (np.mean(scores1),np.std(scores1)))\n",
    "print('K-Fold Cross Validation r^2 scores: %s' % scores2)\n",
    "print('K-Fold Cross Validation R^2: %.3f +/- %.3f' % (np.mean(scores2),np.std(scores2)))"
   ]
  },
  {
   "cell_type": "code",
   "execution_count": 236,
   "metadata": {},
   "outputs": [],
   "source": [
    "X_train, X_test, y_train, y_test =train_test_split( X1, y, test_size=0.3, random_state=22)"
   ]
  },
  {
   "cell_type": "code",
   "execution_count": 237,
   "metadata": {},
   "outputs": [
    {
     "name": "stdout",
     "output_type": "stream",
     "text": [
      "Ridge Train MSE: 0.20460256202743562\n",
      "Ridge Test MSE: 0.19593211503664568\n",
      "Ridge R^2 Score::0.8249457260205145\n"
     ]
    }
   ],
   "source": [
    "model_grid = GridSearchCV(selector_pipe, param_grid=model_param_dict)\n",
    "model_grid.fit(X_train, y_train)\n",
    "model_train_preds = model_grid.predict(X_train)\n",
    "model_test_preds = model_grid.predict(X_test)\n",
    "model_train_mse = mean_squared_error(y_train,model_train_preds)\n",
    "model_test_mse = mean_squared_error(y_test, model_test_preds)\n",
    "print(f'Ridge Train MSE: {model_train_mse}')\n",
    "print(f'Ridge Test MSE: {model_test_mse}')\n",
    "print(f'Ridge R^2 Score::{r2_score(y_true=y_test, y_pred=model_test_preds)}')"
   ]
  },
  {
   "cell_type": "code",
   "execution_count": 238,
   "metadata": {},
   "outputs": [
    {
     "data": {
      "text/plain": [
       "<seaborn.axisgrid.FacetGrid at 0x7f8d2a5bc1c0>"
      ]
     },
     "execution_count": 238,
     "metadata": {},
     "output_type": "execute_result"
    },
    {
     "data": {
      "image/png": "[encoded data removed]",
      "text/plain": [
       "<Figure size 360x360 with 1 Axes>"
      ]
     },
     "metadata": {
      "needs_background": "light"
     },
     "output_type": "display_data"
    }
   ],
   "source": [
    "#histogram between validation and prediction\n",
    "sns.displot(y_test-model_test_preds, bins=30, kde=True)"
   ]
  },
  {
   "cell_type": "code",
   "execution_count": 239,
   "metadata": {},
   "outputs": [],
   "source": [
    "best_model=model_grid.best_estimator_"
   ]
  },
  {
   "cell_type": "code",
   "execution_count": 240,
   "metadata": {},
   "outputs": [
    {
     "data": {
      "text/plain": [
       "array([ 1.49655129e-02, -3.91523361e-02,  5.15287897e-02, -9.85683515e-03,\n",
       "        9.09946161e-03, -1.76424939e-02, -4.79862593e-02,  2.85675114e-02,\n",
       "       -3.38490825e-02,  5.74796013e-02, -1.38946333e-02,  4.55792692e-03,\n",
       "        9.22171196e-03, -3.14468777e-03,  3.61313528e-03,  2.49417234e-02,\n",
       "        8.67996850e-02,  2.85576161e-03,  5.35303133e-02, -8.26911511e-03,\n",
       "        5.60390370e-03, -1.81975818e-02,  3.07720572e-03, -7.98337148e-03,\n",
       "       -9.22885123e-03,  3.97252205e-03,  1.69282781e-02, -7.18679627e-03,\n",
       "       -4.89941938e-03, -9.19565965e-04,  2.58314598e-02, -2.50062122e-03,\n",
       "       -1.77627372e-03,  2.96464252e-02, -4.07395706e-03, -7.92651763e-03,\n",
       "        1.15479606e-03,  5.92865120e-04, -2.67955078e-03, -6.00632847e-03,\n",
       "        6.71028289e-03, -2.14149816e-03,  3.87649136e-03, -5.30201084e-02,\n",
       "        8.78221395e-04,  5.27155798e-02,  1.09630745e-01,  9.98703253e-02,\n",
       "        3.40023335e-03,  1.10390768e-01,  8.48943944e-02, -1.79130440e-03,\n",
       "        4.88840984e-02,  6.09423767e-02,  5.90900717e-02,  5.69692038e-02,\n",
       "        4.77336221e-02,  3.42322677e-02,  3.59175342e-02,  5.12639739e-02,\n",
       "        3.76844463e-02,  4.95295272e-02,  2.94135758e-02,  5.78649644e-02,\n",
       "        2.37977098e-02,  3.87978052e-02,  3.11363301e-02,  4.11964253e-02,\n",
       "        2.87465639e-02,  3.34123110e-02, -6.33336486e-03,  2.40403754e-02,\n",
       "        2.06599037e-02,  2.62613635e-02,  3.19187078e-02,  2.26200603e-02,\n",
       "        1.94694505e-02,  2.34303496e-02,  2.53420274e-02,  1.06887332e-02,\n",
       "        3.05027499e-02,  8.65432126e-03, -5.91083308e-03,  1.41874847e-02,\n",
       "        2.24256476e-03, -6.91045357e-03,  5.09002762e-03,  1.67798675e-02,\n",
       "        3.21996489e-03,  1.32715557e-03,  1.77017447e-01, -1.25440066e-01,\n",
       "       -1.54705897e-02, -1.37453792e-02, -1.39302102e-02, -1.11294517e-02,\n",
       "       -6.44410084e-03, -1.00612434e-02, -9.95607101e-03, -6.21146590e-03,\n",
       "       -5.80091162e-03, -1.12812732e-02, -1.16706836e-02, -6.10221594e-03,\n",
       "       -5.95016972e-03, -5.17456091e-03, -5.11545613e-03, -5.39255276e-03,\n",
       "       -2.45076578e-03,  6.84499490e-03, -2.56147403e-03, -3.69695837e-03,\n",
       "       -5.86101888e-03, -5.52052042e-03, -2.72040921e-03, -7.31141732e-03,\n",
       "       -4.07685942e-03, -4.81880400e-03, -5.35731222e-03, -3.18627329e-03,\n",
       "       -4.07945104e-04, -3.49614399e-05, -1.77316530e-03,  4.57995483e-04,\n",
       "       -3.06157661e-03, -5.79071547e-04, -7.64517517e-04, -1.94809023e-03,\n",
       "        2.02852962e-03,  1.00271093e-03,  4.54350289e-05,  1.55097910e-03,\n",
       "       -2.72420821e-03, -9.21546342e-05,  1.00373984e-03, -1.27915058e-03])"
      ]
     },
     "execution_count": 240,
     "metadata": {},
     "output_type": "execute_result"
    }
   ],
   "source": [
    "best_model['targetregressor'].regressor_.coef_"
   ]
  },
  {
   "cell_type": "code",
   "execution_count": 28,
   "metadata": {},
   "outputs": [
    {
     "data": {
      "text/plain": [
       "array(['al', 'ak', 'az', 'ar', 'ca', 'co', 'ct', 'dc', 'de', 'fl', 'ga',\n",
       "       'hi', 'id', 'il', 'in', 'ia', 'ks', 'ky', 'la', 'me', 'md', 'ma',\n",
       "       'mi', 'mn', 'ms', 'mo', 'mt', 'nc', 'ne', 'nv', 'nj', 'nm', 'ny',\n",
       "       'nh', 'nd', 'oh', 'ok', 'or', 'pa', 'ri', 'sc', 'sd', 'tn', 'tx',\n",
       "       'ut', 'vt', 'va', 'wa', 'wv', 'wi', 'wy'], dtype=object)"
      ]
     },
     "execution_count": 28,
     "metadata": {},
     "output_type": "execute_result"
    }
   ],
   "source": [
    "df1['state'].unique()\n"
   ]
  },
  {
   "cell_type": "code",
   "execution_count": 241,
   "metadata": {},
   "outputs": [],
   "source": [
    "coef=pd.DataFrame(best_model['targetregressor'].regressor_.coef_,columns=['coef_best_model'],index=['gas', 'diesel', 'automatic', 'manual', 'SUV', 'sedan', '4wd',\n",
    "       'fwd', 'truck', 'hybrid', 'rwd', 'full-size', 'mid-size',\n",
    "       'other_transmission', 'pickup', 'clean', 'van', 'rebuilt',\n",
    "       'compact', 'coupe', 'hatchback', 'white', 'wagon', 'electric',\n",
    "       'black', 'convertible', 'mini-van', 'silver', 'grey', 'salvage',\n",
    "       'blue', 'red', 'lien', 'sub-compact', 'other_fuel', 'custom',\n",
    "       'green', 'brown', 'other_type', 'offroad', 'bus', 'yellow',\n",
    "       '4 cylinders', '6 cylinders', '8 cylinders', 'ford', 'chevrolet',\n",
    "       'orange', 'toyota', 'honda', 'purple', 'nissan', 'jeep', 'gmc',\n",
    "       'ram', 'subaru', 'dodge', 'hyundai', 'bmw', 'volkswagen',\n",
    "       'mercedes-benz', 'kia', 'lexus', 'chrysler', 'cadillac',\n",
    "       'mitsubishi', 'audi', 'buick', 'mazda', '5 cylinders', 'volvo',\n",
    "       '10 cylinders', 'infiniti', 'acura', 'lincoln', 'mini', 'pontiac',\n",
    "       'rover', 'saturn', 'porsche', 'mercury', 'other_cylinders',\n",
    "       'jaguar', 'fiat', '3 cylinders', 'alfa-romeo', 'tesla',\n",
    "       'harley-davidson', '12 cylinders', 'year', 'odometer', 'ny', 'nj',\n",
    "       'oh', 'pa', 'vt', 'fl', 'condition', 'ma', 'wi', 'mn', 'ct', 'va',\n",
    "       'co', 'tx', 'az', 'ia', 'dc', 'ks', 'ak', 'ri', 'mi', 'in', 'il',\n",
    "       'ky', 'nh', 'ga', 'me', 'nv', 'wv', 'or', 'mt', 'la', 'al', 'md',\n",
    "       'ar', 'ms', 'ok', 'mo', 'nd', 'ne', 'ut', 'hi', 'ca', 'nm', 'tn']).sort_values(by = \"coef_best_model\", ascending = False)"
   ]
  },
  {
   "cell_type": "code",
   "execution_count": 243,
   "metadata": {},
   "outputs": [
    {
     "data": {
      "text/html": [
       "<div>\n",
       "<style scoped>\n",
       "    .dataframe tbody tr th:only-of-type {\n",
       "        vertical-align: middle;\n",
       "    }\n",
       "\n",
       "    .dataframe tbody tr th {\n",
       "        vertical-align: top;\n",
       "    }\n",
       "\n",
       "    .dataframe thead th {\n",
       "        text-align: right;\n",
       "    }\n",
       "</style>\n",
       "<table border=\"1\" class=\"dataframe\">\n",
       "  <thead>\n",
       "    <tr style=\"text-align: right;\">\n",
       "      <th></th>\n",
       "      <th>coef_best_model</th>\n",
       "    </tr>\n",
       "  </thead>\n",
       "  <tbody>\n",
       "    <tr>\n",
       "      <th>odometer</th>\n",
       "      <td>0.177017</td>\n",
       "    </tr>\n",
       "    <tr>\n",
       "      <th>honda</th>\n",
       "      <td>0.110391</td>\n",
       "    </tr>\n",
       "    <tr>\n",
       "      <th>chevrolet</th>\n",
       "      <td>0.109631</td>\n",
       "    </tr>\n",
       "    <tr>\n",
       "      <th>orange</th>\n",
       "      <td>0.099870</td>\n",
       "    </tr>\n",
       "    <tr>\n",
       "      <th>van</th>\n",
       "      <td>0.086800</td>\n",
       "    </tr>\n",
       "    <tr>\n",
       "      <th>purple</th>\n",
       "      <td>0.084894</td>\n",
       "    </tr>\n",
       "    <tr>\n",
       "      <th>gmc</th>\n",
       "      <td>0.060942</td>\n",
       "    </tr>\n",
       "    <tr>\n",
       "      <th>ram</th>\n",
       "      <td>0.059090</td>\n",
       "    </tr>\n",
       "    <tr>\n",
       "      <th>chrysler</th>\n",
       "      <td>0.057865</td>\n",
       "    </tr>\n",
       "    <tr>\n",
       "      <th>hybrid</th>\n",
       "      <td>0.057480</td>\n",
       "    </tr>\n",
       "  </tbody>\n",
       "</table>\n",
       "</div>"
      ],
      "text/plain": [
       "           coef_best_model\n",
       "odometer          0.177017\n",
       "honda             0.110391\n",
       "chevrolet         0.109631\n",
       "orange            0.099870\n",
       "van               0.086800\n",
       "purple            0.084894\n",
       "gmc               0.060942\n",
       "ram               0.059090\n",
       "chrysler          0.057865\n",
       "hybrid            0.057480"
      ]
     },
     "execution_count": 243,
     "metadata": {},
     "output_type": "execute_result"
    }
   ],
   "source": [
    "#Listing the 10 largest coeficients for the Ridge Regression Model\n",
    "coef.query('coef_best_model>0').sort_values(by = \"coef_best_model\", ascending = False).head(10)"
   ]
  },
  {
   "cell_type": "code",
   "execution_count": null,
   "metadata": {},
   "outputs": [],
   "source": [
    "#Listing the 10 largest coeficients affecting negatively the price of a used car for the Ridge Regression Model"
   ]
  },
  {
   "cell_type": "code",
   "execution_count": 244,
   "metadata": {},
   "outputs": [
    {
     "data": {
      "text/html": [
       "<div>\n",
       "<style scoped>\n",
       "    .dataframe tbody tr th:only-of-type {\n",
       "        vertical-align: middle;\n",
       "    }\n",
       "\n",
       "    .dataframe tbody tr th {\n",
       "        vertical-align: top;\n",
       "    }\n",
       "\n",
       "    .dataframe thead th {\n",
       "        text-align: right;\n",
       "    }\n",
       "</style>\n",
       "<table border=\"1\" class=\"dataframe\">\n",
       "  <thead>\n",
       "    <tr style=\"text-align: right;\">\n",
       "      <th></th>\n",
       "      <th>coef_best_model</th>\n",
       "    </tr>\n",
       "  </thead>\n",
       "  <tbody>\n",
       "    <tr>\n",
       "      <th>ny</th>\n",
       "      <td>-0.125440</td>\n",
       "    </tr>\n",
       "    <tr>\n",
       "      <th>6 cylinders</th>\n",
       "      <td>-0.053020</td>\n",
       "    </tr>\n",
       "    <tr>\n",
       "      <th>4wd</th>\n",
       "      <td>-0.047986</td>\n",
       "    </tr>\n",
       "    <tr>\n",
       "      <th>diesel</th>\n",
       "      <td>-0.039152</td>\n",
       "    </tr>\n",
       "    <tr>\n",
       "      <th>truck</th>\n",
       "      <td>-0.033849</td>\n",
       "    </tr>\n",
       "    <tr>\n",
       "      <th>white</th>\n",
       "      <td>-0.018198</td>\n",
       "    </tr>\n",
       "    <tr>\n",
       "      <th>sedan</th>\n",
       "      <td>-0.017642</td>\n",
       "    </tr>\n",
       "    <tr>\n",
       "      <th>nj</th>\n",
       "      <td>-0.015471</td>\n",
       "    </tr>\n",
       "    <tr>\n",
       "      <th>pa</th>\n",
       "      <td>-0.013930</td>\n",
       "    </tr>\n",
       "    <tr>\n",
       "      <th>rwd</th>\n",
       "      <td>-0.013895</td>\n",
       "    </tr>\n",
       "  </tbody>\n",
       "</table>\n",
       "</div>"
      ],
      "text/plain": [
       "             coef_best_model\n",
       "ny                 -0.125440\n",
       "6 cylinders        -0.053020\n",
       "4wd                -0.047986\n",
       "diesel             -0.039152\n",
       "truck              -0.033849\n",
       "white              -0.018198\n",
       "sedan              -0.017642\n",
       "nj                 -0.015471\n",
       "pa                 -0.013930\n",
       "rwd                -0.013895"
      ]
     },
     "execution_count": 244,
     "metadata": {},
     "output_type": "execute_result"
    }
   ],
   "source": [
    "coef.query('coef_best_model<0').sort_values(by = \"coef_best_model\", ascending = True).head(10)"
   ]
  },
  {
   "cell_type": "code",
   "execution_count": 245,
   "metadata": {},
   "outputs": [],
   "source": [
    "r2 = permutation_importance(model_grid,X_test, y_test,n_repeats=30)    \n",
    "perm2=pd.DataFrame({\"Column\":X.columns, \"Importance\":r.importances_mean}).sort_values(by = \"Importance\", ascending = False)"
   ]
  },
  {
   "cell_type": "code",
   "execution_count": 246,
   "metadata": {},
   "outputs": [
    {
     "data": {
      "text/html": [
       "<div>\n",
       "<style scoped>\n",
       "    .dataframe tbody tr th:only-of-type {\n",
       "        vertical-align: middle;\n",
       "    }\n",
       "\n",
       "    .dataframe tbody tr th {\n",
       "        vertical-align: top;\n",
       "    }\n",
       "\n",
       "    .dataframe thead th {\n",
       "        text-align: right;\n",
       "    }\n",
       "</style>\n",
       "<table border=\"1\" class=\"dataframe\">\n",
       "  <thead>\n",
       "    <tr style=\"text-align: right;\">\n",
       "      <th></th>\n",
       "      <th>Column</th>\n",
       "      <th>Importance</th>\n",
       "    </tr>\n",
       "  </thead>\n",
       "  <tbody>\n",
       "    <tr>\n",
       "      <th>29</th>\n",
       "      <td>automatic</td>\n",
       "      <td>1.798039e+23</td>\n",
       "    </tr>\n",
       "    <tr>\n",
       "      <th>30</th>\n",
       "      <td>manual</td>\n",
       "      <td>1.578303e+23</td>\n",
       "    </tr>\n",
       "    <tr>\n",
       "      <th>31</th>\n",
       "      <td>other_transmission</td>\n",
       "      <td>2.418313e+22</td>\n",
       "    </tr>\n",
       "    <tr>\n",
       "      <th>11</th>\n",
       "      <td>4 cylinders</td>\n",
       "      <td>1.910360e+22</td>\n",
       "    </tr>\n",
       "    <tr>\n",
       "      <th>13</th>\n",
       "      <td>6 cylinders</td>\n",
       "      <td>1.858296e+22</td>\n",
       "    </tr>\n",
       "    <tr>\n",
       "      <th>14</th>\n",
       "      <td>8 cylinders</td>\n",
       "      <td>1.707048e+22</td>\n",
       "    </tr>\n",
       "    <tr>\n",
       "      <th>16</th>\n",
       "      <td>SUV</td>\n",
       "      <td>1.514125e+22</td>\n",
       "    </tr>\n",
       "    <tr>\n",
       "      <th>25</th>\n",
       "      <td>sedan</td>\n",
       "      <td>1.434152e+22</td>\n",
       "    </tr>\n",
       "    <tr>\n",
       "      <th>26</th>\n",
       "      <td>truck</td>\n",
       "      <td>1.193921e+22</td>\n",
       "    </tr>\n",
       "    <tr>\n",
       "      <th>24</th>\n",
       "      <td>pickup</td>\n",
       "      <td>5.082696e+21</td>\n",
       "    </tr>\n",
       "  </tbody>\n",
       "</table>\n",
       "</div>"
      ],
      "text/plain": [
       "                Column    Importance\n",
       "29           automatic  1.798039e+23\n",
       "30              manual  1.578303e+23\n",
       "31  other_transmission  2.418313e+22\n",
       "11         4 cylinders  1.910360e+22\n",
       "13         6 cylinders  1.858296e+22\n",
       "14         8 cylinders  1.707048e+22\n",
       "16                 SUV  1.514125e+22\n",
       "25               sedan  1.434152e+22\n",
       "26               truck  1.193921e+22\n",
       "24              pickup  5.082696e+21"
      ]
     },
     "execution_count": 246,
     "metadata": {},
     "output_type": "execute_result"
    }
   ],
   "source": [
    "perm2.query('Importance>0.000').head(10)"
   ]
  },
  {
   "cell_type": "markdown",
   "metadata": {},
   "source": [
    "### Method 2:\n",
    "SequentialFeatureSelection + Linear Regression"
   ]
  },
  {
   "cell_type": "code",
   "execution_count": 247,
   "metadata": {},
   "outputs": [
    {
     "data": {
      "text/html": [
       "<style>#sk-f543dd34-16d8-420a-a692-8bcfdd6f0066 {color: black;background-color: white;}#sk-f543dd34-16d8-420a-a692-8bcfdd6f0066 pre{padding: 0;}#sk-f543dd34-16d8-420a-a692-8bcfdd6f0066 div.sk-toggleable {background-color: white;}#sk-f543dd34-16d8-420a-a692-8bcfdd6f0066 label.sk-toggleable__label {cursor: pointer;display: block;width: 100%;margin-bottom: 0;padding: 0.3em;box-sizing: border-box;text-align: center;}#sk-f543dd34-16d8-420a-a692-8bcfdd6f0066 label.sk-toggleable__label-arrow:before {content: \"▸\";float: left;margin-right: 0.25em;color: #696969;}#sk-f543dd34-16d8-420a-a692-8bcfdd6f0066 label.sk-toggleable__label-arrow:hover:before {color: black;}#sk-f543dd34-16d8-420a-a692-8bcfdd6f0066 div.sk-estimator:hover label.sk-toggleable__label-arrow:before {color: black;}#sk-f543dd34-16d8-420a-a692-8bcfdd6f0066 div.sk-toggleable__content {max-height: 0;max-width: 0;overflow: hidden;text-align: left;background-color: #f0f8ff;}#sk-f543dd34-16d8-420a-a692-8bcfdd6f0066 div.sk-toggleable__content pre {margin: 0.2em;color: black;border-radius: 0.25em;background-color: #f0f8ff;}#sk-f543dd34-16d8-420a-a692-8bcfdd6f0066 input.sk-toggleable__control:checked~div.sk-toggleable__content {max-height: 200px;max-width: 100%;overflow: auto;}#sk-f543dd34-16d8-420a-a692-8bcfdd6f0066 input.sk-toggleable__control:checked~label.sk-toggleable__label-arrow:before {content: \"▾\";}#sk-f543dd34-16d8-420a-a692-8bcfdd6f0066 div.sk-estimator input.sk-toggleable__control:checked~label.sk-toggleable__label {background-color: #d4ebff;}#sk-f543dd34-16d8-420a-a692-8bcfdd6f0066 div.sk-label input.sk-toggleable__control:checked~label.sk-toggleable__label {background-color: #d4ebff;}#sk-f543dd34-16d8-420a-a692-8bcfdd6f0066 input.sk-hidden--visually {border: 0;clip: rect(1px 1px 1px 1px);clip: rect(1px, 1px, 1px, 1px);height: 1px;margin: -1px;overflow: hidden;padding: 0;position: absolute;width: 1px;}#sk-f543dd34-16d8-420a-a692-8bcfdd6f0066 div.sk-estimator {font-family: monospace;background-color: #f0f8ff;border: 1px dotted black;border-radius: 0.25em;box-sizing: border-box;margin-bottom: 0.5em;}#sk-f543dd34-16d8-420a-a692-8bcfdd6f0066 div.sk-estimator:hover {background-color: #d4ebff;}#sk-f543dd34-16d8-420a-a692-8bcfdd6f0066 div.sk-parallel-item::after {content: \"\";width: 100%;border-bottom: 1px solid gray;flex-grow: 1;}#sk-f543dd34-16d8-420a-a692-8bcfdd6f0066 div.sk-label:hover label.sk-toggleable__label {background-color: #d4ebff;}#sk-f543dd34-16d8-420a-a692-8bcfdd6f0066 div.sk-serial::before {content: \"\";position: absolute;border-left: 1px solid gray;box-sizing: border-box;top: 2em;bottom: 0;left: 50%;}#sk-f543dd34-16d8-420a-a692-8bcfdd6f0066 div.sk-serial {display: flex;flex-direction: column;align-items: center;background-color: white;padding-right: 0.2em;padding-left: 0.2em;}#sk-f543dd34-16d8-420a-a692-8bcfdd6f0066 div.sk-item {z-index: 1;}#sk-f543dd34-16d8-420a-a692-8bcfdd6f0066 div.sk-parallel {display: flex;align-items: stretch;justify-content: center;background-color: white;}#sk-f543dd34-16d8-420a-a692-8bcfdd6f0066 div.sk-parallel::before {content: \"\";position: absolute;border-left: 1px solid gray;box-sizing: border-box;top: 2em;bottom: 0;left: 50%;}#sk-f543dd34-16d8-420a-a692-8bcfdd6f0066 div.sk-parallel-item {display: flex;flex-direction: column;position: relative;background-color: white;}#sk-f543dd34-16d8-420a-a692-8bcfdd6f0066 div.sk-parallel-item:first-child::after {align-self: flex-end;width: 50%;}#sk-f543dd34-16d8-420a-a692-8bcfdd6f0066 div.sk-parallel-item:last-child::after {align-self: flex-start;width: 50%;}#sk-f543dd34-16d8-420a-a692-8bcfdd6f0066 div.sk-parallel-item:only-child::after {width: 0;}#sk-f543dd34-16d8-420a-a692-8bcfdd6f0066 div.sk-dashed-wrapped {border: 1px dashed gray;margin: 0 0.4em 0.5em 0.4em;box-sizing: border-box;padding-bottom: 0.4em;background-color: white;position: relative;}#sk-f543dd34-16d8-420a-a692-8bcfdd6f0066 div.sk-label label {font-family: monospace;font-weight: bold;background-color: white;display: inline-block;line-height: 1.2em;}#sk-f543dd34-16d8-420a-a692-8bcfdd6f0066 div.sk-label-container {position: relative;z-index: 2;text-align: center;}#sk-f543dd34-16d8-420a-a692-8bcfdd6f0066 div.sk-container {/* jupyter's `normalize.less` sets `[hidden] { display: none; }` but bootstrap.min.css set `[hidden] { display: none !important; }` so we also need the `!important` here to be able to override the default hidden behavior on the sphinx rendered scikit-learn.org. See: https://github.com/scikit-learn/scikit-learn/issues/21755 */display: inline-block !important;position: relative;}#sk-f543dd34-16d8-420a-a692-8bcfdd6f0066 div.sk-text-repr-fallback {display: none;}</style><div id=\"sk-f543dd34-16d8-420a-a692-8bcfdd6f0066\" class=\"sk-top-container\"><div class=\"sk-text-repr-fallback\"><pre>Pipeline(steps=[(&#x27;transformer&#x27;,\n",
       "                 ColumnTransformer(remainder=&#x27;passthrough&#x27;,\n",
       "                                   transformers=[(&#x27;ordinalencoder&#x27;,\n",
       "                                                  OrdinalEncoder(categories=[[&#x27;salvage&#x27;,\n",
       "                                                                              &#x27;fair&#x27;,\n",
       "                                                                              &#x27;good&#x27;,\n",
       "                                                                              &#x27;excellent&#x27;,\n",
       "                                                                              &#x27;like &#x27;\n",
       "                                                                              &#x27;new&#x27;,\n",
       "                                                                              &#x27;new&#x27;]]),\n",
       "                                                  [&#x27;condition&#x27;])])),\n",
       "                (&#x27;scale&#x27;, StandardScaler()),\n",
       "                (&#x27;selector&#x27;,\n",
       "                 SequentialFeatureSelector(estimator=LinearRegression())),\n",
       "                (&#x27;targetregressor&#x27;,\n",
       "                 TransformedTargetRegressor(func=&lt;ufunc &#x27;log1p&#x27;&gt;,\n",
       "                                            inverse_func=&lt;ufunc &#x27;expm1&#x27;&gt;,\n",
       "                                            regressor=LinearRegression()))])</pre><b>Please rerun this cell to show the HTML repr or trust the notebook.</b></div><div class=\"sk-container\" hidden><div class=\"sk-item sk-dashed-wrapped\"><div class=\"sk-label-container\"><div class=\"sk-label sk-toggleable\"><input class=\"sk-toggleable__control sk-hidden--visually\" id=\"2b6d503c-feac-472e-9734-5623d98aa579\" type=\"checkbox\" ><label for=\"2b6d503c-feac-472e-9734-5623d98aa579\" class=\"sk-toggleable__label sk-toggleable__label-arrow\">Pipeline</label><div class=\"sk-toggleable__content\"><pre>Pipeline(steps=[(&#x27;transformer&#x27;,\n",
       "                 ColumnTransformer(remainder=&#x27;passthrough&#x27;,\n",
       "                                   transformers=[(&#x27;ordinalencoder&#x27;,\n",
       "                                                  OrdinalEncoder(categories=[[&#x27;salvage&#x27;,\n",
       "                                                                              &#x27;fair&#x27;,\n",
       "                                                                              &#x27;good&#x27;,\n",
       "                                                                              &#x27;excellent&#x27;,\n",
       "                                                                              &#x27;like &#x27;\n",
       "                                                                              &#x27;new&#x27;,\n",
       "                                                                              &#x27;new&#x27;]]),\n",
       "                                                  [&#x27;condition&#x27;])])),\n",
       "                (&#x27;scale&#x27;, StandardScaler()),\n",
       "                (&#x27;selector&#x27;,\n",
       "                 SequentialFeatureSelector(estimator=LinearRegression())),\n",
       "                (&#x27;targetregressor&#x27;,\n",
       "                 TransformedTargetRegressor(func=&lt;ufunc &#x27;log1p&#x27;&gt;,\n",
       "                                            inverse_func=&lt;ufunc &#x27;expm1&#x27;&gt;,\n",
       "                                            regressor=LinearRegression()))])</pre></div></div></div><div class=\"sk-serial\"><div class=\"sk-item sk-dashed-wrapped\"><div class=\"sk-label-container\"><div class=\"sk-label sk-toggleable\"><input class=\"sk-toggleable__control sk-hidden--visually\" id=\"31fb6fa7-a616-449b-a48c-851dbe5463cf\" type=\"checkbox\" ><label for=\"31fb6fa7-a616-449b-a48c-851dbe5463cf\" class=\"sk-toggleable__label sk-toggleable__label-arrow\">transformer: ColumnTransformer</label><div class=\"sk-toggleable__content\"><pre>ColumnTransformer(remainder=&#x27;passthrough&#x27;,\n",
       "                  transformers=[(&#x27;ordinalencoder&#x27;,\n",
       "                                 OrdinalEncoder(categories=[[&#x27;salvage&#x27;, &#x27;fair&#x27;,\n",
       "                                                             &#x27;good&#x27;,\n",
       "                                                             &#x27;excellent&#x27;,\n",
       "                                                             &#x27;like new&#x27;,\n",
       "                                                             &#x27;new&#x27;]]),\n",
       "                                 [&#x27;condition&#x27;])])</pre></div></div></div><div class=\"sk-parallel\"><div class=\"sk-parallel-item\"><div class=\"sk-item\"><div class=\"sk-label-container\"><div class=\"sk-label sk-toggleable\"><input class=\"sk-toggleable__control sk-hidden--visually\" id=\"8f0c0a6a-a962-4f61-885f-fcd72969cf26\" type=\"checkbox\" ><label for=\"8f0c0a6a-a962-4f61-885f-fcd72969cf26\" class=\"sk-toggleable__label sk-toggleable__label-arrow\">ordinalencoder</label><div class=\"sk-toggleable__content\"><pre>[&#x27;condition&#x27;]</pre></div></div></div><div class=\"sk-serial\"><div class=\"sk-item\"><div class=\"sk-estimator sk-toggleable\"><input class=\"sk-toggleable__control sk-hidden--visually\" id=\"e3b68b60-3c08-4ec8-a55e-38768f440728\" type=\"checkbox\" ><label for=\"e3b68b60-3c08-4ec8-a55e-38768f440728\" class=\"sk-toggleable__label sk-toggleable__label-arrow\">OrdinalEncoder</label><div class=\"sk-toggleable__content\"><pre>OrdinalEncoder(categories=[[&#x27;salvage&#x27;, &#x27;fair&#x27;, &#x27;good&#x27;, &#x27;excellent&#x27;, &#x27;like new&#x27;,\n",
       "                            &#x27;new&#x27;]])</pre></div></div></div></div></div></div><div class=\"sk-parallel-item\"><div class=\"sk-item\"><div class=\"sk-label-container\"><div class=\"sk-label sk-toggleable\"><input class=\"sk-toggleable__control sk-hidden--visually\" id=\"70aa4c59-fcd7-41c9-bc27-3387716ff5c0\" type=\"checkbox\" ><label for=\"70aa4c59-fcd7-41c9-bc27-3387716ff5c0\" class=\"sk-toggleable__label sk-toggleable__label-arrow\">remainder</label><div class=\"sk-toggleable__content\"><pre>[&#x27;year&#x27;, &#x27;odometer&#x27;, &#x27;diesel&#x27;, &#x27;electric&#x27;, &#x27;gas&#x27;, &#x27;hybrid&#x27;, &#x27;other_fuel&#x27;, &#x27;10 cylinders&#x27;, &#x27;12 cylinders&#x27;, &#x27;3 cylinders&#x27;, &#x27;4 cylinders&#x27;, &#x27;5 cylinders&#x27;, &#x27;6 cylinders&#x27;, &#x27;8 cylinders&#x27;, &#x27;other_cylinders&#x27;, &#x27;SUV&#x27;, &#x27;bus&#x27;, &#x27;convertible&#x27;, &#x27;coupe&#x27;, &#x27;hatchback&#x27;, &#x27;mini-van&#x27;, &#x27;offroad&#x27;, &#x27;other_type&#x27;, &#x27;pickup&#x27;, &#x27;sedan&#x27;, &#x27;truck&#x27;, &#x27;van&#x27;, &#x27;wagon&#x27;, &#x27;automatic&#x27;, &#x27;manual&#x27;, &#x27;other_transmission&#x27;, &#x27;acura&#x27;, &#x27;alfa-romeo&#x27;, &#x27;audi&#x27;, &#x27;bmw&#x27;, &#x27;buick&#x27;, &#x27;cadillac&#x27;, &#x27;chevrolet&#x27;, &#x27;chrysler&#x27;, &#x27;dodge&#x27;, &#x27;fiat&#x27;, &#x27;ford&#x27;, &#x27;gmc&#x27;, &#x27;harley-davidson&#x27;, &#x27;honda&#x27;, &#x27;hyundai&#x27;, &#x27;infiniti&#x27;, &#x27;jaguar&#x27;, &#x27;jeep&#x27;, &#x27;kia&#x27;, &#x27;land rover&#x27;, &#x27;lexus&#x27;, &#x27;lincoln&#x27;, &#x27;mazda&#x27;, &#x27;mercedes-benz&#x27;, &#x27;mercury&#x27;, &#x27;mini&#x27;, &#x27;mitsubishi&#x27;, &#x27;nissan&#x27;, &#x27;pontiac&#x27;, &#x27;porsche&#x27;, &#x27;ram&#x27;, &#x27;rover&#x27;, &#x27;saturn&#x27;, &#x27;subaru&#x27;, &#x27;tesla&#x27;, &#x27;toyota&#x27;, &#x27;volkswagen&#x27;, &#x27;volvo&#x27;, &#x27;ak&#x27;, &#x27;al&#x27;, &#x27;ar&#x27;, &#x27;az&#x27;, &#x27;ca&#x27;, &#x27;co&#x27;, &#x27;ct&#x27;, &#x27;dc&#x27;, &#x27;de&#x27;, &#x27;fl&#x27;, &#x27;ga&#x27;, &#x27;hi&#x27;, &#x27;ia&#x27;, &#x27;il&#x27;, &#x27;in&#x27;, &#x27;ks&#x27;, &#x27;ky&#x27;, &#x27;la&#x27;, &#x27;ma&#x27;, &#x27;md&#x27;, &#x27;me&#x27;, &#x27;mi&#x27;, &#x27;mn&#x27;, &#x27;mo&#x27;, &#x27;ms&#x27;, &#x27;mt&#x27;, &#x27;nc&#x27;, &#x27;nd&#x27;, &#x27;ne&#x27;, &#x27;nh&#x27;, &#x27;nj&#x27;, &#x27;nm&#x27;, &#x27;nv&#x27;, &#x27;ny&#x27;, &#x27;oh&#x27;, &#x27;ok&#x27;, &#x27;or&#x27;, &#x27;pa&#x27;, &#x27;ri&#x27;, &#x27;sc&#x27;, &#x27;sd&#x27;, &#x27;tn&#x27;, &#x27;tx&#x27;, &#x27;ut&#x27;, &#x27;va&#x27;, &#x27;vt&#x27;, &#x27;wa&#x27;, &#x27;wi&#x27;, &#x27;wv&#x27;, &#x27;wy&#x27;, &#x27;compact&#x27;, &#x27;full-size&#x27;, &#x27;mid-size&#x27;, &#x27;sub-compact&#x27;, &#x27;black&#x27;, &#x27;blue&#x27;, &#x27;brown&#x27;, &#x27;custom&#x27;, &#x27;green&#x27;, &#x27;grey&#x27;, &#x27;orange&#x27;, &#x27;purple&#x27;, &#x27;red&#x27;, &#x27;silver&#x27;, &#x27;white&#x27;, &#x27;yellow&#x27;, &#x27;clean&#x27;, &#x27;lien&#x27;, &#x27;missing&#x27;, &#x27;parts only&#x27;, &#x27;rebuilt&#x27;, &#x27;salvage&#x27;, &#x27;4wd&#x27;, &#x27;fwd&#x27;, &#x27;rwd&#x27;]</pre></div></div></div><div class=\"sk-serial\"><div class=\"sk-item\"><div class=\"sk-estimator sk-toggleable\"><input class=\"sk-toggleable__control sk-hidden--visually\" id=\"54dadb04-c4dd-41d7-b0a1-ee32a0b857fa\" type=\"checkbox\" ><label for=\"54dadb04-c4dd-41d7-b0a1-ee32a0b857fa\" class=\"sk-toggleable__label sk-toggleable__label-arrow\">passthrough</label><div class=\"sk-toggleable__content\"><pre>passthrough</pre></div></div></div></div></div></div></div></div><div class=\"sk-item\"><div class=\"sk-estimator sk-toggleable\"><input class=\"sk-toggleable__control sk-hidden--visually\" id=\"07b69a7e-a811-4fc3-8238-4827d21cb1b6\" type=\"checkbox\" ><label for=\"07b69a7e-a811-4fc3-8238-4827d21cb1b6\" class=\"sk-toggleable__label sk-toggleable__label-arrow\">StandardScaler</label><div class=\"sk-toggleable__content\"><pre>StandardScaler()</pre></div></div></div><div class=\"sk-item sk-dashed-wrapped\"><div class=\"sk-label-container\"><div class=\"sk-label sk-toggleable\"><input class=\"sk-toggleable__control sk-hidden--visually\" id=\"8d7b889a-0b38-4a18-9dfd-84b355f3e4de\" type=\"checkbox\" ><label for=\"8d7b889a-0b38-4a18-9dfd-84b355f3e4de\" class=\"sk-toggleable__label sk-toggleable__label-arrow\">selector: SequentialFeatureSelector</label><div class=\"sk-toggleable__content\"><pre>SequentialFeatureSelector(estimator=LinearRegression())</pre></div></div></div><div class=\"sk-parallel\"><div class=\"sk-parallel-item\"><div class=\"sk-item\"><div class=\"sk-serial\"><div class=\"sk-item\"><div class=\"sk-estimator sk-toggleable\"><input class=\"sk-toggleable__control sk-hidden--visually\" id=\"f93f9ea1-3077-426b-b6c0-71ef019364c8\" type=\"checkbox\" ><label for=\"f93f9ea1-3077-426b-b6c0-71ef019364c8\" class=\"sk-toggleable__label sk-toggleable__label-arrow\">LinearRegression</label><div class=\"sk-toggleable__content\"><pre>LinearRegression()</pre></div></div></div></div></div></div></div></div><div class=\"sk-item sk-dashed-wrapped\"><div class=\"sk-label-container\"><div class=\"sk-label sk-toggleable\"><input class=\"sk-toggleable__control sk-hidden--visually\" id=\"3e724a1c-589a-4bac-b722-bee98091aef7\" type=\"checkbox\" ><label for=\"3e724a1c-589a-4bac-b722-bee98091aef7\" class=\"sk-toggleable__label sk-toggleable__label-arrow\">targetregressor: TransformedTargetRegressor</label><div class=\"sk-toggleable__content\"><pre>TransformedTargetRegressor(func=&lt;ufunc &#x27;log1p&#x27;&gt;, inverse_func=&lt;ufunc &#x27;expm1&#x27;&gt;,\n",
       "                           regressor=LinearRegression())</pre></div></div></div><div class=\"sk-parallel\"><div class=\"sk-parallel-item\"><div class=\"sk-item\"><div class=\"sk-serial\"><div class=\"sk-item\"><div class=\"sk-estimator sk-toggleable\"><input class=\"sk-toggleable__control sk-hidden--visually\" id=\"78ed852b-23b9-4b64-b278-07b1333d7f7c\" type=\"checkbox\" ><label for=\"78ed852b-23b9-4b64-b278-07b1333d7f7c\" class=\"sk-toggleable__label sk-toggleable__label-arrow\">LinearRegression</label><div class=\"sk-toggleable__content\"><pre>LinearRegression()</pre></div></div></div></div></div></div></div></div></div></div></div></div>"
      ],
      "text/plain": [
       "Pipeline(steps=[('transformer',\n",
       "                 ColumnTransformer(remainder='passthrough',\n",
       "                                   transformers=[('ordinalencoder',\n",
       "                                                  OrdinalEncoder(categories=[['salvage',\n",
       "                                                                              'fair',\n",
       "                                                                              'good',\n",
       "                                                                              'excellent',\n",
       "                                                                              'like '\n",
       "                                                                              'new',\n",
       "                                                                              'new']]),\n",
       "                                                  ['condition'])])),\n",
       "                ('scale', StandardScaler()),\n",
       "                ('selector',\n",
       "                 SequentialFeatureSelector(estimator=LinearRegression())),\n",
       "                ('targetregressor',\n",
       "                 TransformedTargetRegressor(func=<ufunc 'log1p'>,\n",
       "                                            inverse_func=<ufunc 'expm1'>,\n",
       "                                            regressor=LinearRegression()))])"
      ]
     },
     "execution_count": 247,
     "metadata": {},
     "output_type": "execute_result"
    }
   ],
   "source": [
    "sequential_pipe =Pipeline([('transformer',ordinal_ohe_transformer),('scale', StandardScaler()),('selector', SequentialFeatureSelector(LinearRegression())),\n",
    "                    ('targetregressor',TransformedTargetRegressor(func=np.log1p,inverse_func=np.expm1,regressor= LinearRegression()))])\n",
    "sequential_pipe"
   ]
  },
  {
   "cell_type": "code",
   "execution_count": 248,
   "metadata": {},
   "outputs": [],
   "source": [
    "sequential_param_dict = {'selector__n_features_to_select':[4,6,8,10]}"
   ]
  },
  {
   "cell_type": "code",
   "execution_count": 249,
   "metadata": {},
   "outputs": [],
   "source": [
    "cv = KFold(n_splits=5)\n",
    "model_grid = GridSearchCV(sequential_pipe, param_grid=sequential_param_dict)\n",
    "scores3 = cross_val_score(model_grid, X1,y,scoring='neg_mean_squared_error',cv=cv)"
   ]
  },
  {
   "cell_type": "code",
   "execution_count": 250,
   "metadata": {},
   "outputs": [],
   "source": [
    "cv = KFold(n_splits=5)\n",
    "model_grid = GridSearchCV(sequential_pipe, param_grid=sequential_param_dict)\n",
    "scores4 = cross_val_score(model_grid, X1,y,scoring='r2',cv=cv)"
   ]
  },
  {
   "cell_type": "code",
   "execution_count": 251,
   "metadata": {},
   "outputs": [
    {
     "name": "stdout",
     "output_type": "stream",
     "text": [
      "K-Fold Cross Validation ‘neg_mean_squared_error scores: [-0.28110287 -0.26220846 -0.24872921 -0.2296558  -0.24180875]\n",
      "K-Fold Cross Validation ‘neg_mean_squared_error: -0.253 +/- 0.018\n",
      "K-Fold Cross Validation r^2 scores: [0.7353339  0.75833298 0.79227195 0.76778302 0.79806358]\n",
      "K-Fold Cross Validation R^2: 0.770 +/- 0.023\n"
     ]
    }
   ],
   "source": [
    "print('K-Fold Cross Validation ‘neg_mean_squared_error scores: %s' % scores3)\n",
    "print('K-Fold Cross Validation ‘neg_mean_squared_error: %.3f +/- %.3f' % (np.mean(scores3),np.std(scores3)))\n",
    "print('K-Fold Cross Validation r^2 scores: %s' % scores4)\n",
    "print('K-Fold Cross Validation R^2: %.3f +/- %.3f' % (np.mean(scores4),np.std(scores4)))"
   ]
  },
  {
   "cell_type": "code",
   "execution_count": 252,
   "metadata": {},
   "outputs": [
    {
     "name": "stdout",
     "output_type": "stream",
     "text": [
      "Sequential Train MSE: 0.2508995015674882\n",
      "Sequential Test MSE: 0.24050669555056559\n",
      "Sequential R^2 Score::0.7851208569410124\n"
     ]
    }
   ],
   "source": [
    "model_grid = GridSearchCV(sequential_pipe, param_grid=sequential_param_dict)\n",
    "model_grid.fit(X_train, y_train)\n",
    "model_train_preds = model_grid.predict(X_train)\n",
    "model_test_preds = model_grid.predict(X_test)\n",
    "model_train_mse = mean_squared_error(y_train,model_train_preds)\n",
    "model_test_mse = mean_squared_error(y_test, model_test_preds)\n",
    "print(f'Sequential Train MSE: {model_train_mse}')\n",
    "print(f'Sequential Test MSE: {model_test_mse}')\n",
    "print(f'Sequential R^2 Score::{r2_score(y_true=y_test, y_pred=model_test_preds)}')"
   ]
  },
  {
   "cell_type": "code",
   "execution_count": 253,
   "metadata": {},
   "outputs": [
    {
     "data": {
      "text/plain": [
       "<seaborn.axisgrid.FacetGrid at 0x7f8d28cfe160>"
      ]
     },
     "execution_count": 253,
     "metadata": {},
     "output_type": "execute_result"
    },
    {
     "data": {
      "image/png": "[encoded data removed]",
      "text/plain": [
       "<Figure size 360x360 with 1 Axes>"
      ]
     },
     "metadata": {
      "needs_background": "light"
     },
     "output_type": "display_data"
    }
   ],
   "source": [
    "#Histogram difference between validation data and the one predicted by the SequentialFeatureSelection\n",
    "sns.displot(y_test-model_test_preds, bins=30, kde=True)"
   ]
  },
  {
   "cell_type": "code",
   "execution_count": 254,
   "metadata": {},
   "outputs": [],
   "source": [
    "best_estimator =model_grid.best_estimator_\n",
    "best_selector =best_estimator.named_steps['selector']\n",
    "best_model = model_grid.best_estimator_\n",
    "feature_names =X_train.columns[best_selector.get_support()]\n",
    "coefs=best_model['targetregressor'].regressor_.coef_"
   ]
  },
  {
   "cell_type": "code",
   "execution_count": 255,
   "metadata": {},
   "outputs": [
    {
     "data": {
      "text/html": [
       "<div>\n",
       "<style scoped>\n",
       "    .dataframe tbody tr th:only-of-type {\n",
       "        vertical-align: middle;\n",
       "    }\n",
       "\n",
       "    .dataframe tbody tr th {\n",
       "        vertical-align: top;\n",
       "    }\n",
       "\n",
       "    .dataframe thead th {\n",
       "        text-align: right;\n",
       "    }\n",
       "</style>\n",
       "<table border=\"1\" class=\"dataframe\">\n",
       "  <thead>\n",
       "    <tr style=\"text-align: right;\">\n",
       "      <th></th>\n",
       "      <th>automatic</th>\n",
       "      <th>4wd</th>\n",
       "      <th>truck</th>\n",
       "      <th>hybrid</th>\n",
       "      <th>clean</th>\n",
       "      <th>6 cylinders</th>\n",
       "      <th>ford</th>\n",
       "      <th>honda</th>\n",
       "      <th>odometer</th>\n",
       "      <th>ny</th>\n",
       "    </tr>\n",
       "  </thead>\n",
       "  <tbody>\n",
       "    <tr>\n",
       "      <th>targetregressor</th>\n",
       "      <td>0.087967</td>\n",
       "      <td>-0.034249</td>\n",
       "      <td>-0.071315</td>\n",
       "      <td>0.064882</td>\n",
       "      <td>0.027851</td>\n",
       "      <td>-0.063683</td>\n",
       "      <td>0.050721</td>\n",
       "      <td>0.02991</td>\n",
       "      <td>0.173222</td>\n",
       "      <td>-0.12828</td>\n",
       "    </tr>\n",
       "  </tbody>\n",
       "</table>\n",
       "</div>"
      ],
      "text/plain": [
       "                 automatic       4wd     truck    hybrid     clean  \\\n",
       "targetregressor   0.087967 -0.034249 -0.071315  0.064882  0.027851   \n",
       "\n",
       "                 6 cylinders      ford    honda  odometer       ny  \n",
       "targetregressor    -0.063683  0.050721  0.02991  0.173222 -0.12828  "
      ]
     },
     "execution_count": 255,
     "metadata": {},
     "output_type": "execute_result"
    }
   ],
   "source": [
    "pd.DataFrame([coefs.T], columns = feature_names, index = ['targetregressor'])"
   ]
  },
  {
   "cell_type": "markdown",
   "metadata": {},
   "source": [
    "### Method 3\n",
    "Lasso as a estimator"
   ]
  },
  {
   "cell_type": "code",
   "execution_count": 256,
   "metadata": {},
   "outputs": [
    {
     "data": {
      "text/html": [
       "<style>#sk-42368170-dba4-457e-9935-3aebf1096b2b {color: black;background-color: white;}#sk-42368170-dba4-457e-9935-3aebf1096b2b pre{padding: 0;}#sk-42368170-dba4-457e-9935-3aebf1096b2b div.sk-toggleable {background-color: white;}#sk-42368170-dba4-457e-9935-3aebf1096b2b label.sk-toggleable__label {cursor: pointer;display: block;width: 100%;margin-bottom: 0;padding: 0.3em;box-sizing: border-box;text-align: center;}#sk-42368170-dba4-457e-9935-3aebf1096b2b label.sk-toggleable__label-arrow:before {content: \"▸\";float: left;margin-right: 0.25em;color: #696969;}#sk-42368170-dba4-457e-9935-3aebf1096b2b label.sk-toggleable__label-arrow:hover:before {color: black;}#sk-42368170-dba4-457e-9935-3aebf1096b2b div.sk-estimator:hover label.sk-toggleable__label-arrow:before {color: black;}#sk-42368170-dba4-457e-9935-3aebf1096b2b div.sk-toggleable__content {max-height: 0;max-width: 0;overflow: hidden;text-align: left;background-color: #f0f8ff;}#sk-42368170-dba4-457e-9935-3aebf1096b2b div.sk-toggleable__content pre {margin: 0.2em;color: black;border-radius: 0.25em;background-color: #f0f8ff;}#sk-42368170-dba4-457e-9935-3aebf1096b2b input.sk-toggleable__control:checked~div.sk-toggleable__content {max-height: 200px;max-width: 100%;overflow: auto;}#sk-42368170-dba4-457e-9935-3aebf1096b2b input.sk-toggleable__control:checked~label.sk-toggleable__label-arrow:before {content: \"▾\";}#sk-42368170-dba4-457e-9935-3aebf1096b2b div.sk-estimator input.sk-toggleable__control:checked~label.sk-toggleable__label {background-color: #d4ebff;}#sk-42368170-dba4-457e-9935-3aebf1096b2b div.sk-label input.sk-toggleable__control:checked~label.sk-toggleable__label {background-color: #d4ebff;}#sk-42368170-dba4-457e-9935-3aebf1096b2b input.sk-hidden--visually {border: 0;clip: rect(1px 1px 1px 1px);clip: rect(1px, 1px, 1px, 1px);height: 1px;margin: -1px;overflow: hidden;padding: 0;position: absolute;width: 1px;}#sk-42368170-dba4-457e-9935-3aebf1096b2b div.sk-estimator {font-family: monospace;background-color: #f0f8ff;border: 1px dotted black;border-radius: 0.25em;box-sizing: border-box;margin-bottom: 0.5em;}#sk-42368170-dba4-457e-9935-3aebf1096b2b div.sk-estimator:hover {background-color: #d4ebff;}#sk-42368170-dba4-457e-9935-3aebf1096b2b div.sk-parallel-item::after {content: \"\";width: 100%;border-bottom: 1px solid gray;flex-grow: 1;}#sk-42368170-dba4-457e-9935-3aebf1096b2b div.sk-label:hover label.sk-toggleable__label {background-color: #d4ebff;}#sk-42368170-dba4-457e-9935-3aebf1096b2b div.sk-serial::before {content: \"\";position: absolute;border-left: 1px solid gray;box-sizing: border-box;top: 2em;bottom: 0;left: 50%;}#sk-42368170-dba4-457e-9935-3aebf1096b2b div.sk-serial {display: flex;flex-direction: column;align-items: center;background-color: white;padding-right: 0.2em;padding-left: 0.2em;}#sk-42368170-dba4-457e-9935-3aebf1096b2b div.sk-item {z-index: 1;}#sk-42368170-dba4-457e-9935-3aebf1096b2b div.sk-parallel {display: flex;align-items: stretch;justify-content: center;background-color: white;}#sk-42368170-dba4-457e-9935-3aebf1096b2b div.sk-parallel::before {content: \"\";position: absolute;border-left: 1px solid gray;box-sizing: border-box;top: 2em;bottom: 0;left: 50%;}#sk-42368170-dba4-457e-9935-3aebf1096b2b div.sk-parallel-item {display: flex;flex-direction: column;position: relative;background-color: white;}#sk-42368170-dba4-457e-9935-3aebf1096b2b div.sk-parallel-item:first-child::after {align-self: flex-end;width: 50%;}#sk-42368170-dba4-457e-9935-3aebf1096b2b div.sk-parallel-item:last-child::after {align-self: flex-start;width: 50%;}#sk-42368170-dba4-457e-9935-3aebf1096b2b div.sk-parallel-item:only-child::after {width: 0;}#sk-42368170-dba4-457e-9935-3aebf1096b2b div.sk-dashed-wrapped {border: 1px dashed gray;margin: 0 0.4em 0.5em 0.4em;box-sizing: border-box;padding-bottom: 0.4em;background-color: white;position: relative;}#sk-42368170-dba4-457e-9935-3aebf1096b2b div.sk-label label {font-family: monospace;font-weight: bold;background-color: white;display: inline-block;line-height: 1.2em;}#sk-42368170-dba4-457e-9935-3aebf1096b2b div.sk-label-container {position: relative;z-index: 2;text-align: center;}#sk-42368170-dba4-457e-9935-3aebf1096b2b div.sk-container {/* jupyter's `normalize.less` sets `[hidden] { display: none; }` but bootstrap.min.css set `[hidden] { display: none !important; }` so we also need the `!important` here to be able to override the default hidden behavior on the sphinx rendered scikit-learn.org. See: https://github.com/scikit-learn/scikit-learn/issues/21755 */display: inline-block !important;position: relative;}#sk-42368170-dba4-457e-9935-3aebf1096b2b div.sk-text-repr-fallback {display: none;}</style><div id=\"sk-42368170-dba4-457e-9935-3aebf1096b2b\" class=\"sk-top-container\"><div class=\"sk-text-repr-fallback\"><pre>Pipeline(steps=[(&#x27;transformer&#x27;,\n",
       "                 ColumnTransformer(remainder=&#x27;passthrough&#x27;,\n",
       "                                   transformers=[(&#x27;ordinalencoder&#x27;,\n",
       "                                                  OrdinalEncoder(categories=[[&#x27;salvage&#x27;,\n",
       "                                                                              &#x27;fair&#x27;,\n",
       "                                                                              &#x27;good&#x27;,\n",
       "                                                                              &#x27;excellent&#x27;,\n",
       "                                                                              &#x27;like &#x27;\n",
       "                                                                              &#x27;new&#x27;,\n",
       "                                                                              &#x27;new&#x27;]]),\n",
       "                                                  [&#x27;condition&#x27;])])),\n",
       "                (&#x27;scale&#x27;, StandardScaler()),\n",
       "                (&#x27;targetregressor&#x27;,\n",
       "                 TransformedTargetRegressor(func=&lt;ufunc &#x27;log1p&#x27;&gt;,\n",
       "                                            inverse_func=&lt;ufunc &#x27;expm1&#x27;&gt;,\n",
       "                                            regressor=Lasso(alpha=0.1)))])</pre><b>Please rerun this cell to show the HTML repr or trust the notebook.</b></div><div class=\"sk-container\" hidden><div class=\"sk-item sk-dashed-wrapped\"><div class=\"sk-label-container\"><div class=\"sk-label sk-toggleable\"><input class=\"sk-toggleable__control sk-hidden--visually\" id=\"4e0a6e60-4d7c-478d-92ce-9724a4baecc1\" type=\"checkbox\" ><label for=\"4e0a6e60-4d7c-478d-92ce-9724a4baecc1\" class=\"sk-toggleable__label sk-toggleable__label-arrow\">Pipeline</label><div class=\"sk-toggleable__content\"><pre>Pipeline(steps=[(&#x27;transformer&#x27;,\n",
       "                 ColumnTransformer(remainder=&#x27;passthrough&#x27;,\n",
       "                                   transformers=[(&#x27;ordinalencoder&#x27;,\n",
       "                                                  OrdinalEncoder(categories=[[&#x27;salvage&#x27;,\n",
       "                                                                              &#x27;fair&#x27;,\n",
       "                                                                              &#x27;good&#x27;,\n",
       "                                                                              &#x27;excellent&#x27;,\n",
       "                                                                              &#x27;like &#x27;\n",
       "                                                                              &#x27;new&#x27;,\n",
       "                                                                              &#x27;new&#x27;]]),\n",
       "                                                  [&#x27;condition&#x27;])])),\n",
       "                (&#x27;scale&#x27;, StandardScaler()),\n",
       "                (&#x27;targetregressor&#x27;,\n",
       "                 TransformedTargetRegressor(func=&lt;ufunc &#x27;log1p&#x27;&gt;,\n",
       "                                            inverse_func=&lt;ufunc &#x27;expm1&#x27;&gt;,\n",
       "                                            regressor=Lasso(alpha=0.1)))])</pre></div></div></div><div class=\"sk-serial\"><div class=\"sk-item sk-dashed-wrapped\"><div class=\"sk-label-container\"><div class=\"sk-label sk-toggleable\"><input class=\"sk-toggleable__control sk-hidden--visually\" id=\"560f13b0-a577-4fba-809a-d0797273bdac\" type=\"checkbox\" ><label for=\"560f13b0-a577-4fba-809a-d0797273bdac\" class=\"sk-toggleable__label sk-toggleable__label-arrow\">transformer: ColumnTransformer</label><div class=\"sk-toggleable__content\"><pre>ColumnTransformer(remainder=&#x27;passthrough&#x27;,\n",
       "                  transformers=[(&#x27;ordinalencoder&#x27;,\n",
       "                                 OrdinalEncoder(categories=[[&#x27;salvage&#x27;, &#x27;fair&#x27;,\n",
       "                                                             &#x27;good&#x27;,\n",
       "                                                             &#x27;excellent&#x27;,\n",
       "                                                             &#x27;like new&#x27;,\n",
       "                                                             &#x27;new&#x27;]]),\n",
       "                                 [&#x27;condition&#x27;])])</pre></div></div></div><div class=\"sk-parallel\"><div class=\"sk-parallel-item\"><div class=\"sk-item\"><div class=\"sk-label-container\"><div class=\"sk-label sk-toggleable\"><input class=\"sk-toggleable__control sk-hidden--visually\" id=\"1fa46366-cc81-4f89-9a61-e6ecbe37b7ff\" type=\"checkbox\" ><label for=\"1fa46366-cc81-4f89-9a61-e6ecbe37b7ff\" class=\"sk-toggleable__label sk-toggleable__label-arrow\">ordinalencoder</label><div class=\"sk-toggleable__content\"><pre>[&#x27;condition&#x27;]</pre></div></div></div><div class=\"sk-serial\"><div class=\"sk-item\"><div class=\"sk-estimator sk-toggleable\"><input class=\"sk-toggleable__control sk-hidden--visually\" id=\"88155d55-b08b-42af-9873-eefb1e010131\" type=\"checkbox\" ><label for=\"88155d55-b08b-42af-9873-eefb1e010131\" class=\"sk-toggleable__label sk-toggleable__label-arrow\">OrdinalEncoder</label><div class=\"sk-toggleable__content\"><pre>OrdinalEncoder(categories=[[&#x27;salvage&#x27;, &#x27;fair&#x27;, &#x27;good&#x27;, &#x27;excellent&#x27;, &#x27;like new&#x27;,\n",
       "                            &#x27;new&#x27;]])</pre></div></div></div></div></div></div><div class=\"sk-parallel-item\"><div class=\"sk-item\"><div class=\"sk-label-container\"><div class=\"sk-label sk-toggleable\"><input class=\"sk-toggleable__control sk-hidden--visually\" id=\"a053915d-18ca-48fc-b788-1e5e7404a067\" type=\"checkbox\" ><label for=\"a053915d-18ca-48fc-b788-1e5e7404a067\" class=\"sk-toggleable__label sk-toggleable__label-arrow\">remainder</label><div class=\"sk-toggleable__content\"><pre>[&#x27;year&#x27;, &#x27;odometer&#x27;, &#x27;diesel&#x27;, &#x27;electric&#x27;, &#x27;gas&#x27;, &#x27;hybrid&#x27;, &#x27;other_fuel&#x27;, &#x27;10 cylinders&#x27;, &#x27;12 cylinders&#x27;, &#x27;3 cylinders&#x27;, &#x27;4 cylinders&#x27;, &#x27;5 cylinders&#x27;, &#x27;6 cylinders&#x27;, &#x27;8 cylinders&#x27;, &#x27;other_cylinders&#x27;, &#x27;SUV&#x27;, &#x27;bus&#x27;, &#x27;convertible&#x27;, &#x27;coupe&#x27;, &#x27;hatchback&#x27;, &#x27;mini-van&#x27;, &#x27;offroad&#x27;, &#x27;other_type&#x27;, &#x27;pickup&#x27;, &#x27;sedan&#x27;, &#x27;truck&#x27;, &#x27;van&#x27;, &#x27;wagon&#x27;, &#x27;automatic&#x27;, &#x27;manual&#x27;, &#x27;other_transmission&#x27;, &#x27;acura&#x27;, &#x27;alfa-romeo&#x27;, &#x27;audi&#x27;, &#x27;bmw&#x27;, &#x27;buick&#x27;, &#x27;cadillac&#x27;, &#x27;chevrolet&#x27;, &#x27;chrysler&#x27;, &#x27;dodge&#x27;, &#x27;fiat&#x27;, &#x27;ford&#x27;, &#x27;gmc&#x27;, &#x27;harley-davidson&#x27;, &#x27;honda&#x27;, &#x27;hyundai&#x27;, &#x27;infiniti&#x27;, &#x27;jaguar&#x27;, &#x27;jeep&#x27;, &#x27;kia&#x27;, &#x27;land rover&#x27;, &#x27;lexus&#x27;, &#x27;lincoln&#x27;, &#x27;mazda&#x27;, &#x27;mercedes-benz&#x27;, &#x27;mercury&#x27;, &#x27;mini&#x27;, &#x27;mitsubishi&#x27;, &#x27;nissan&#x27;, &#x27;pontiac&#x27;, &#x27;porsche&#x27;, &#x27;ram&#x27;, &#x27;rover&#x27;, &#x27;saturn&#x27;, &#x27;subaru&#x27;, &#x27;tesla&#x27;, &#x27;toyota&#x27;, &#x27;volkswagen&#x27;, &#x27;volvo&#x27;, &#x27;ak&#x27;, &#x27;al&#x27;, &#x27;ar&#x27;, &#x27;az&#x27;, &#x27;ca&#x27;, &#x27;co&#x27;, &#x27;ct&#x27;, &#x27;dc&#x27;, &#x27;de&#x27;, &#x27;fl&#x27;, &#x27;ga&#x27;, &#x27;hi&#x27;, &#x27;ia&#x27;, &#x27;il&#x27;, &#x27;in&#x27;, &#x27;ks&#x27;, &#x27;ky&#x27;, &#x27;la&#x27;, &#x27;ma&#x27;, &#x27;md&#x27;, &#x27;me&#x27;, &#x27;mi&#x27;, &#x27;mn&#x27;, &#x27;mo&#x27;, &#x27;ms&#x27;, &#x27;mt&#x27;, &#x27;nc&#x27;, &#x27;nd&#x27;, &#x27;ne&#x27;, &#x27;nh&#x27;, &#x27;nj&#x27;, &#x27;nm&#x27;, &#x27;nv&#x27;, &#x27;ny&#x27;, &#x27;oh&#x27;, &#x27;ok&#x27;, &#x27;or&#x27;, &#x27;pa&#x27;, &#x27;ri&#x27;, &#x27;sc&#x27;, &#x27;sd&#x27;, &#x27;tn&#x27;, &#x27;tx&#x27;, &#x27;ut&#x27;, &#x27;va&#x27;, &#x27;vt&#x27;, &#x27;wa&#x27;, &#x27;wi&#x27;, &#x27;wv&#x27;, &#x27;wy&#x27;, &#x27;compact&#x27;, &#x27;full-size&#x27;, &#x27;mid-size&#x27;, &#x27;sub-compact&#x27;, &#x27;black&#x27;, &#x27;blue&#x27;, &#x27;brown&#x27;, &#x27;custom&#x27;, &#x27;green&#x27;, &#x27;grey&#x27;, &#x27;orange&#x27;, &#x27;purple&#x27;, &#x27;red&#x27;, &#x27;silver&#x27;, &#x27;white&#x27;, &#x27;yellow&#x27;, &#x27;clean&#x27;, &#x27;lien&#x27;, &#x27;missing&#x27;, &#x27;parts only&#x27;, &#x27;rebuilt&#x27;, &#x27;salvage&#x27;, &#x27;4wd&#x27;, &#x27;fwd&#x27;, &#x27;rwd&#x27;]</pre></div></div></div><div class=\"sk-serial\"><div class=\"sk-item\"><div class=\"sk-estimator sk-toggleable\"><input class=\"sk-toggleable__control sk-hidden--visually\" id=\"9dc6f236-1c1c-481a-af31-fff634773d0b\" type=\"checkbox\" ><label for=\"9dc6f236-1c1c-481a-af31-fff634773d0b\" class=\"sk-toggleable__label sk-toggleable__label-arrow\">passthrough</label><div class=\"sk-toggleable__content\"><pre>passthrough</pre></div></div></div></div></div></div></div></div><div class=\"sk-item\"><div class=\"sk-estimator sk-toggleable\"><input class=\"sk-toggleable__control sk-hidden--visually\" id=\"c9a2c6fa-0f7e-4d37-bc3e-248e9f699ca9\" type=\"checkbox\" ><label for=\"c9a2c6fa-0f7e-4d37-bc3e-248e9f699ca9\" class=\"sk-toggleable__label sk-toggleable__label-arrow\">StandardScaler</label><div class=\"sk-toggleable__content\"><pre>StandardScaler()</pre></div></div></div><div class=\"sk-item sk-dashed-wrapped\"><div class=\"sk-label-container\"><div class=\"sk-label sk-toggleable\"><input class=\"sk-toggleable__control sk-hidden--visually\" id=\"233b5f69-4e6b-42c0-9482-6491cbc96e17\" type=\"checkbox\" ><label for=\"233b5f69-4e6b-42c0-9482-6491cbc96e17\" class=\"sk-toggleable__label sk-toggleable__label-arrow\">targetregressor: TransformedTargetRegressor</label><div class=\"sk-toggleable__content\"><pre>TransformedTargetRegressor(func=&lt;ufunc &#x27;log1p&#x27;&gt;, inverse_func=&lt;ufunc &#x27;expm1&#x27;&gt;,\n",
       "                           regressor=Lasso(alpha=0.1))</pre></div></div></div><div class=\"sk-parallel\"><div class=\"sk-parallel-item\"><div class=\"sk-item\"><div class=\"sk-serial\"><div class=\"sk-item\"><div class=\"sk-estimator sk-toggleable\"><input class=\"sk-toggleable__control sk-hidden--visually\" id=\"8014cf33-c969-4499-81ab-dee40d1757d9\" type=\"checkbox\" ><label for=\"8014cf33-c969-4499-81ab-dee40d1757d9\" class=\"sk-toggleable__label sk-toggleable__label-arrow\">Lasso</label><div class=\"sk-toggleable__content\"><pre>Lasso(alpha=0.1)</pre></div></div></div></div></div></div></div></div></div></div></div></div>"
      ],
      "text/plain": [
       "Pipeline(steps=[('transformer',\n",
       "                 ColumnTransformer(remainder='passthrough',\n",
       "                                   transformers=[('ordinalencoder',\n",
       "                                                  OrdinalEncoder(categories=[['salvage',\n",
       "                                                                              'fair',\n",
       "                                                                              'good',\n",
       "                                                                              'excellent',\n",
       "                                                                              'like '\n",
       "                                                                              'new',\n",
       "                                                                              'new']]),\n",
       "                                                  ['condition'])])),\n",
       "                ('scale', StandardScaler()),\n",
       "                ('targetregressor',\n",
       "                 TransformedTargetRegressor(func=<ufunc 'log1p'>,\n",
       "                                            inverse_func=<ufunc 'expm1'>,\n",
       "                                            regressor=Lasso(alpha=0.1)))])"
      ]
     },
     "execution_count": 256,
     "metadata": {},
     "output_type": "execute_result"
    }
   ],
   "source": [
    "selector_pipe_lasso = Pipeline([('transformer',ordinal_ohe_transformer),('scale', StandardScaler()),('targetregressor',TransformedTargetRegressor(func=np.log1p,inverse_func=np.expm1,regressor= Lasso(alpha=0.1)))])\n",
    "selector_pipe_lasso"
   ]
  },
  {
   "cell_type": "code",
   "execution_count": 257,
   "metadata": {},
   "outputs": [],
   "source": [
    "model_param_dict={'targetregressor__regressor__alpha': [0.1, 1.0, 10.0, 100.0, 1000.0]}"
   ]
  },
  {
   "cell_type": "code",
   "execution_count": 258,
   "metadata": {},
   "outputs": [],
   "source": [
    "cv = KFold(n_splits=5)\n",
    "scores5 = cross_val_score(selector_pipe_lasso, X1,y,scoring='neg_mean_squared_error',cv=cv)"
   ]
  },
  {
   "cell_type": "code",
   "execution_count": 260,
   "metadata": {},
   "outputs": [],
   "source": [
    "cv = KFold(n_splits=5)\n",
    "scores6 = cross_val_score(selector_pipe_lasso, X1,y,scoring='r2',cv=cv)"
   ]
  },
  {
   "cell_type": "code",
   "execution_count": 261,
   "metadata": {},
   "outputs": [
    {
     "name": "stdout",
     "output_type": "stream",
     "text": [
      "K-Fold Cross Validation ‘neg_mean_squared_error scores: [-0.61493401 -0.63745226 -0.75301512 -0.55894535 -0.73681075]\n",
      "K-Fold Cross Validation ‘neg_mean_squared_error: -0.660 +/- 0.074\n",
      "K-Fold Cross Validation r^2 scores: [0.42102268 0.41248584 0.37111384 0.43482115 0.38468345]\n",
      "K-Fold Cross Validation R^2: 0.405 +/- 0.024\n"
     ]
    }
   ],
   "source": [
    "print('K-Fold Cross Validation ‘neg_mean_squared_error scores: %s' % scores5)\n",
    "print('K-Fold Cross Validation ‘neg_mean_squared_error: %.3f +/- %.3f' % (np.mean(scores5),np.std(scores5)))\n",
    "print('K-Fold Cross Validation r^2 scores: %s' % scores6)\n",
    "print('K-Fold Cross Validation R^2: %.3f +/- %.3f' % (np.mean(scores6),np.std(scores6)))"
   ]
  },
  {
   "cell_type": "code",
   "execution_count": 262,
   "metadata": {},
   "outputs": [
    {
     "name": "stdout",
     "output_type": "stream",
     "text": [
      "Lasso Train MSE: 0.6612654334272843\n",
      "Lasso Test MSE: 0.6540655039406926\n",
      "Lasso R^2 Score::0.41562942907062705\n"
     ]
    }
   ],
   "source": [
    "model_grid_lasso = GridSearchCV(selector_pipe_lasso, param_grid=model_param_dict)\n",
    "model_grid_lasso.fit(X_train, y_train)\n",
    "model_train_preds = model_grid_lasso.predict(X_train)\n",
    "model_test_preds = model_grid_lasso.predict(X_test)\n",
    "model_train_mse = mean_squared_error(y_train,model_train_preds)\n",
    "model_test_mse = mean_squared_error(y_test, model_test_preds)\n",
    "print(f'Lasso Train MSE: {model_train_mse}')\n",
    "print(f'Lasso Test MSE: {model_test_mse}')\n",
    "print(f'Lasso R^2 Score::{r2_score(y_true=y_test, y_pred=model_test_preds)}')"
   ]
  },
  {
   "cell_type": "code",
   "execution_count": 263,
   "metadata": {},
   "outputs": [
    {
     "data": {
      "text/plain": [
       "<seaborn.axisgrid.FacetGrid at 0x7f8d13a64970>"
      ]
     },
     "execution_count": 263,
     "metadata": {},
     "output_type": "execute_result"
    },
    {
     "data": {
      "image/png": "[encoded data removed]",
      "text/plain": [
       "<Figure size 360x360 with 1 Axes>"
      ]
     },
     "metadata": {
      "needs_background": "light"
     },
     "output_type": "display_data"
    }
   ],
   "source": [
    "sns.displot(y_test-model_test_preds, bins=30, kde=True)"
   ]
  },
  {
   "cell_type": "markdown",
   "metadata": {},
   "source": [
    "### Evaluation\n",
    "\n",
    "With some modeling accomplished, we aim to reflect on what we identify as a high quality model and what we are able to learn from this.  We should review our business objective and explore how well we can provide meaningful insight on drivers of used car prices.  Your goal now is to distill your findings and determine whether the earlier phases need revisitation and adjustment or if you have information of value to bring back to your client."
   ]
  },
  {
   "cell_type": "markdown",
   "metadata": {},
   "source": [
    "Ranking Regression Models built by comparing their metrics"
   ]
  },
  {
   "cell_type": "code",
   "execution_count": 265,
   "metadata": {},
   "outputs": [],
   "source": [
    "mse_11 = pd.DataFrame([('Ridge', 0.1959),\n",
    "                   ('SQ', 0.2405),\n",
    "                   ('Lasso', 0.6612)],\n",
    "           columns=('Model','MSE')\n",
    "                 )"
   ]
  },
  {
   "cell_type": "code",
   "execution_count": 266,
   "metadata": {},
   "outputs": [],
   "source": [
    "plotdata1 = pd.DataFrame(\n",
    "    {\"MSE\": [0.1959, 0.2405, 0.6612]}, \n",
    "    index=[\"Ridge\", \"SQL\", \"Lasso\"])"
   ]
  },
  {
   "cell_type": "code",
   "execution_count": 267,
   "metadata": {},
   "outputs": [
    {
     "data": {
      "text/plain": [
       "Text(0, 0.5, 'MSE Hold-Out Cross-Validation')"
      ]
     },
     "execution_count": 267,
     "metadata": {},
     "output_type": "execute_result"
    },
    {
     "data": {
      "image/png": "[encoded data removed]",
      "text/plain": [
       "<Figure size 432x288 with 1 Axes>"
      ]
     },
     "metadata": {
      "needs_background": "light"
     },
     "output_type": "display_data"
    }
   ],
   "source": [
    "plotdata1.plot(kind=\"bar\",stacked=True,colormap='Accent')\n",
    "plt.title(\"MSE Validation Test Regression Models\")\n",
    "plt.xlabel(\"Regression Models\")\n",
    "plt.ylabel(\"MSE Hold-Out Cross-Validation\")\n"
   ]
  },
  {
   "cell_type": "code",
   "execution_count": 269,
   "metadata": {},
   "outputs": [],
   "source": [
    "plotdata2 = pd.DataFrame(\n",
    "    {\"MSE\": [0.212, 0.253, 0.654]}, \n",
    "    index=[\"Ridge\", \"SQL\", \"Lasso\"])"
   ]
  },
  {
   "cell_type": "code",
   "execution_count": 270,
   "metadata": {},
   "outputs": [
    {
     "data": {
      "text/plain": [
       "Text(0, 0.5, 'MSE K-Fold Cross-Validation')"
      ]
     },
     "execution_count": 270,
     "metadata": {},
     "output_type": "execute_result"
    },
    {
     "data": {
      "image/png": "[encoded data removed]",
      "text/plain": [
       "<Figure size 432x288 with 1 Axes>"
      ]
     },
     "metadata": {
      "needs_background": "light"
     },
     "output_type": "display_data"
    }
   ],
   "source": [
    "plotdata2.plot(kind=\"bar\",stacked=True,colormap='PuOr')\n",
    "plt.title(\"MSE Validation Test Regression Models\")\n",
    "plt.xlabel(\"Regression Models\")\n",
    "plt.ylabel(\"MSE K-Fold Cross-Validation\")"
   ]
  },
  {
   "cell_type": "code",
   "execution_count": 271,
   "metadata": {},
   "outputs": [],
   "source": [
    "plotdata3 = pd.DataFrame(\n",
    "    {\"R^2 Score\": [0.8249, 0.7851, 0.4156]}, \n",
    "    index=[\"Ridge\", \"SQL\", \"Lasso\"])"
   ]
  },
  {
   "cell_type": "code",
   "execution_count": 272,
   "metadata": {},
   "outputs": [
    {
     "data": {
      "text/plain": [
       "<matplotlib.legend.Legend at 0x7f8d4494df70>"
      ]
     },
     "execution_count": 272,
     "metadata": {},
     "output_type": "execute_result"
    },
    {
     "data": {
      "image/png": "[encoded data removed]",
      "text/plain": [
       "<Figure size 432x288 with 1 Axes>"
      ]
     },
     "metadata": {
      "needs_background": "light"
     },
     "output_type": "display_data"
    }
   ],
   "source": [
    "plotdata3.plot(kind=\"bar\",stacked=True,colormap='winter')\n",
    "plt.title(\"R^2 Score Validation Test Regression Models\")\n",
    "plt.xlabel(\"Regression Models\")\n",
    "plt.ylabel(\"R^2 Score Hold-Out Cross-Validation\")\n",
    "plt.legend(loc='upper right')\n"
   ]
  },
  {
   "cell_type": "markdown",
   "metadata": {},
   "source": [
    "### Deployment\n",
    "\n",
    "Now that we've settled on our models and findings, it is time to deliver the information to the client.  You should organize your work as a basic report that details your primary findings.  Keep in mind that your audience is a group of used car dealers interested in fine tuning their inventory."
   ]
  },
  {
   "cell_type": "markdown",
   "metadata": {},
   "source": [
    "### Observation"
   ]
  },
  {
   "cell_type": "code",
   "execution_count": null,
   "metadata": {},
   "outputs": [],
   "source": [
    "Using the above model observation Ridge"
   ]
  },
  {
   "cell_type": "markdown",
   "metadata": {},
   "source": [
    "Based on MSE and R^2 score of different regression model and Cross validation technique indicated\n",
    "lowest MSE and Highest R^2 score are Ridge Regression mdel. It looked more reasonable. So \n",
    "Ridge Regression model were choosen as recommended model.\n",
    "\n",
    "Recommendations to the car dealership\n",
    "\n",
    "1. Total rows in data set were 426880 and target column was price\n",
    "2. Data Clean up is done as there were lots of Nan values\n",
    "3. Outliers were removed\n",
    "4. Categorical features were applied since there are categorical features in dataset\n",
    "5. Visualization of key features were included above\n",
    "6. Ran with three regression model\n",
    "    Ridge Regression\n",
    "    Sequential/Regression\n",
    "    Lasso\n",
    "    It is observed Ridge regression model performed as top model in this datset with MSE 0.212 and R^2 0.82\n",
    "\n",
    "7. Three most important feature customer value in cars are gas,diesel and automatic\n"
   ]
  },
  {
   "cell_type": "code",
   "execution_count": null,
   "metadata": {},
   "outputs": [],
   "source": []
  },
  {
   "cell_type": "code",
   "execution_count": null,
   "metadata": {},
   "outputs": [],
   "source": []
  },
  {
   "cell_type": "code",
   "execution_count": null,
   "metadata": {},
   "outputs": [],
   "source": []
  },
  {
   "cell_type": "code",
   "execution_count": null,
   "metadata": {},
   "outputs": [],
   "source": []
  }
 ],
 "metadata": {
  "kernelspec": {
   "display_name": "Python 3 (ipykernel)",
   "language": "python",
   "name": "python3"
  },
  "language_info": {
   "codemirror_mode": {
    "name": "ipython",
    "version": 3
   },
   "file_extension": ".py",
   "mimetype": "text/x-python",
   "name": "python",
   "nbconvert_exporter": "python",
   "pygments_lexer": "ipython3",
   "version": "3.9.12"
  },
  "widgets": {
   "application/vnd.jupyter.widget-state+json": {
    "state": {},
    "version_major": 2,
    "version_minor": 0
   }
  }
 },
 "nbformat": 4,
 "nbformat_minor": 4
}
